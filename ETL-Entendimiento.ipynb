   {
      "cell_type": "markdown",
      "metadata": {
        "id": "cpWpho0CPn3f",
        "tags": [
          "Tarea"
        ]
      },
      "source": [
        "# 5. Tarea\n",
        "Espacio para desarrollar la tarea propuesta "
      ]
    },
    {
      "cell_type": "markdown",
      "metadata": {},
      "source": [
        "Importar librerias"
      ]
    },
    {
      "cell_type": "code",
      "execution_count": 1,
      "metadata": {},
      "outputs": [],
      "source": [
        "from pyspark.sql import SparkSession\n",
        "from pyspark.sql import functions\n",
        "from pyspark.sql.types import StructType\n",
        "from pyspark import SparkContext, SparkConf, SQLContext\n",
        "from pyspark.sql.types import FloatType, StringType, IntegerType, DateType\n",
        "from pyspark.sql.functions import udf, col, length, isnan, when, count\n",
        "import pyspark.sql.functions as f\n",
        "import os \n",
        "from datetime import datetime\n",
        "from pyspark.sql import types as t\n",
        "from ydata_profiling import ProfileReport\n",
        "#from pandas_profiling import ProfileReport\n",
        "import matplotlib.pyplot as plt\n",
        "import numpy as np\n",
        "from pyspark.sql.functions import col, when"
      ]
    },
    {
      "cell_type": "markdown",
      "metadata": {},
      "source": [
        "Unirse a la base de datos y obtener la tabla movimientosCopia"
      ]
    },
    {
      "cell_type": "code",
      "execution_count": 2,
      "metadata": {},
      "outputs": [],
      "source": [
        "path_jar_driver = 'C:\\\\Users\\\\ramirju1\\\\Personel docs\\\\Andes\\\\MySQL\\\\mysql-connector-java-8.0.28\\\\mysql-connector-java-8.0.28.jar'\n",
        "\n"
      ]
    },
    {
      "cell_type": "code",
      "execution_count": 3,
      "metadata": {},
      "outputs": [
        {
          "name": "stderr",
          "output_type": "stream",
          "text": [
            "c:\\Users\\ramirju1\\AppData\\Local\\Programs\\Python\\Python312\\Lib\\site-packages\\pyspark\\sql\\context.py:113: FutureWarning: Deprecated in 3.0.0. Use SparkSession.builder.getOrCreate() instead.\n",
            "  warnings.warn(\n"
          ]
        }
      ],
      "source": [
        "#Configuración de la sesión\n",
        "conf=SparkConf() \\\n",
        "    .set('spark.driver.extraClassPath', path_jar_driver)\n",
        "\n",
        "spark_context = SparkContext(conf=conf)\n",
        "sql_context = SQLContext(spark_context)\n",
        "spark = sql_context.sparkSession"
      ]
    },
    {
      "cell_type": "code",
      "execution_count": 4,
      "metadata": {},
      "outputs": [],
      "source": [
        "#librerias a utilizar (no propuestas en los pasos anteriores)\n",
        "from pyspark.sql.functions import col, sum  \n"
      ]
    },
    {
      "cell_type": "code",
      "execution_count": 5,
      "metadata": {},
      "outputs": [],
      "source": [
        "# Si quiere practicar la conexion con el servidor de base de datos:\n",
        "db_connection_string = 'jdbc:mysql://157.253.236.120:8080/WWImportersTransactional'\n",
        "# El usuario es su estudiante _i asignado y su contraseña la encontrará en el archivo excel de Coursera \n",
        "db_user = 'Estudiante_70_202415'\n",
        "db_psswd = 'Estudiante_202421147'\n",
        "\n",
        "PATH='./'"
      ]
    },
    {
      "cell_type": "code",
      "execution_count": 6,
      "metadata": {},
      "outputs": [],
      "source": [
        "def obtener_dataframe_de_bd(db_connection_string, sql, db_user, db_psswd):\n",
        "    df_bd = spark.read.format('jdbc')\\\n",
        "        .option('url', db_connection_string) \\\n",
        "        .option('dbtable', sql) \\\n",
        "        .option('user', db_user) \\\n",
        "        .option('password', db_psswd) \\\n",
        "        .option('driver', 'com.mysql.cj.jdbc.Driver') \\\n",
        "        .load()\n",
        "    return df_bd"
      ]
    },
    {
      "cell_type": "markdown",
      "metadata": {
        "id": "IPhtXcD1Pn3g"
      },
      "source": [
        "## Perfilamiento de datos"
      ]
    },
    {
      "cell_type": "markdown",
      "metadata": {},
      "source": [
        "Para el perfilamiento de datos sobre la base de datos WWIImporters y haciendo uso de la tabla movimientosCopia, se cargaran a un dataframe dichos datos."
      ]
    },
    {
      "cell_type": "code",
      "execution_count": 7,
      "metadata": {
        "id": "0JCXGvj0Pn3g"
      },
      "outputs": [],
      "source": [
        "#Importar de la base de datos la tabla movimientosCopia\n",
        "sql_movimientos = 'WWImportersTransactional.movimientosCopia'\n",
        "#Se cargan los dataframes desde la base de datos\n",
        "movimientos = obtener_dataframe_de_bd(db_connection_string, sql_movimientos, db_user, db_psswd)"
      ]
    },
    {
      "cell_type": "markdown",
      "metadata": {},
      "source": [
        "Se obtiene el numero de filas y columnas para corroborar la información suministrada por el negocio sobre la base datos o en este caso la tabla de movimientos copia"
      ]
    },
    {
      "cell_type": "code",
      "execution_count": 8,
      "metadata": {},
      "outputs": [
        {
          "name": "stdout",
          "output_type": "stream",
          "text": [
            "204292 9\n"
          ]
        }
      ],
      "source": [
        "#Cantidad de filas y columnas\n",
        "print(movimientos.count(), len(movimientos.columns))"
      ]
    },
    {
      "cell_type": "code",
      "execution_count": 9,
      "metadata": {},
      "outputs": [
        {
          "data": {
            "text/plain": [
              "StructType([StructField('TransaccionProductoID', IntegerType(), True), StructField('ProductoID', IntegerType(), True), StructField('TipoTransaccionID', IntegerType(), True), StructField('ClienteID', DoubleType(), True), StructField('InvoiceID', DoubleType(), True), StructField('ProveedorID', StringType(), True), StructField('OrdenDeCompraID', StringType(), True), StructField('FechaTransaccion', StringType(), True), StructField('Cantidad', DoubleType(), True)])"
            ]
          },
          "execution_count": 9,
          "metadata": {},
          "output_type": "execute_result"
        }
      ],
      "source": [
        "movimientos.schema"
      ]
    },
    {
      "cell_type": "markdown",
      "metadata": {},
      "source": [
        "- Como se puede observar, se obtienen 204.292 filas y se tienen 9 variables, de las cuales 6 son numericas y 3 cadena de caracteres. Por ende se entiende que existe una perdida de información, debido a que el negocio indico que enviarian 236.668 filas, ademas y con base en los puntos anteriores, se entendiende que esto corresponde a que no se suministro informacion desde el año 2013 si no desde el 2014."
      ]
    },
    {
      "cell_type": "code",
      "execution_count": 10,
      "metadata": {},
      "outputs": [
        {
          "name": "stdout",
          "output_type": "stream",
          "text": [
            "+---------------------+----------+-----------------+---------+---------+-----------+---------------+----------------+--------+\n",
            "|TransaccionProductoID|ProductoID|TipoTransaccionID|ClienteID|InvoiceID|ProveedorID|OrdenDeCompraID|FechaTransaccion|Cantidad|\n",
            "+---------------------+----------+-----------------+---------+---------+-----------+---------------+----------------+--------+\n",
            "|               118903|       217|               10|    476.0|  24904.0|           |               |     Apr 25,2014|   -40.0|\n",
            "|               286890|       135|               10|     33.0|  60117.0|           |               |     Dec 10,2015|    -7.0|\n",
            "|               285233|       111|               10|    180.0|  59768.0|           |               |     Dec 04,2015|    -2.0|\n",
            "|               290145|       213|               10|     33.0|  60795.0|           |               |     Dec 23,2015|    -3.0|\n",
            "|               247492|        90|               10|     55.0|  51851.0|           |               |     Jul 27,2015|   -24.0|\n",
            "+---------------------+----------+-----------------+---------+---------+-----------+---------------+----------------+--------+\n",
            "only showing top 5 rows\n",
            "\n"
          ]
        }
      ],
      "source": [
        "movimientos.show(5)"
      ]
    },
    {
      "cell_type": "markdown",
      "metadata": {},
      "source": [
        "- Se identifica que en la tabla movimientos se tiene informacion relacionada con **el movimiento del producto, el proveedor, el cliente y la orden**. La identificacion de la transaccion <i>TransaccionProductoID</i>, identificador del producto </i>_ProductoID_, identificador del tipo de transaccion <i>TipoTransaccionID</i>, identificador del cliente <i>ClienteID</i>, identificador de la factura </i>_InvoiceID_</i>, identificador del proveedor </i>_ProveedorID_</i>, identificador de la orden de compra </i>_OrdenDeCompraID_</i>, fecha de la transaccion <i>FechaTransaccion</i> y la cantidad <i>_Cantidad_</i> del producto relacionado a la transacción ."
      ]
    },
    {
      "cell_type": "markdown",
      "metadata": {},
      "source": [
        "### Idea de una fila:\n",
        "\n",
        "- De acuerdo con los datos mostrados en los pasos anteriores, se puede determinar que una fila de movimientos transaccionales representa el transito de un producto en el inventario, ya sea compras (valores positivos) o ventas (valores negativos), en cuanto a la cantidad se refiere."
      ]
    },
    {
      "cell_type": "markdown",
      "metadata": {},
      "source": [
        "#### Revisión reglas de negocio"
      ]
    },
    {
      "cell_type": "markdown",
      "metadata": {},
      "source": [
        "Primero se revisa si la cantidad máxima de productos movidos es 50 millones por transacción, por lo que se determinara el maximo valor de la columna _Cantidad_ sumada por transaccion, lo que sugiere revisar si en _TransaccionProductoID_ existen valores repetidos, porque en ese sentido deberia sumarse la cantidad por transaccion."
      ]
    },
    {
      "cell_type": "code",
      "execution_count": 11,
      "metadata": {},
      "outputs": [
        {
          "data": {
            "text/plain": [
              "173659"
            ]
          },
          "execution_count": 11,
          "metadata": {},
          "output_type": "execute_result"
        }
      ],
      "source": [
        "movimientos.select(\"TransaccionProductoID\").distinct().count()"
      ]
    },
    {
      "cell_type": "markdown",
      "metadata": {},
      "source": [
        "- Quiere decir que solo 173.659 datos son distintos con respecto a 204.292 que es el total de filas"
      ]
    },
    {
      "cell_type": "markdown",
      "metadata": {},
      "source": [
        "Se agrupa por _TransaccionProductoID_ para obtener el valor de la cantidad por transaccion"
      ]
    },
    {
      "cell_type": "code",
      "execution_count": 27,
      "metadata": {},
      "outputs": [
        {
          "name": "stdout",
          "output_type": "stream",
          "text": [
            "+---------------------+--------------+\n",
            "|TransaccionProductoID|Cantidad_total|\n",
            "+---------------------+--------------+\n",
            "|               334073|        133392|\n",
            "|               331966|        131520|\n",
            "|               330638|        131328|\n",
            "|               328062|        130032|\n",
            "|               327158|        129648|\n",
            "|               325767|        128832|\n",
            "|               324248|        128352|\n",
            "|               323273|        127248|\n",
            "|               317699|        126768|\n",
            "|               317289|        126192|\n",
            "|               315722|        125856|\n",
            "|               316899|        125664|\n",
            "|               310483|        124368|\n",
            "|               305988|        122976|\n",
            "|               306564|        122880|\n",
            "|               301704|        120960|\n",
            "|               301945|        120864|\n",
            "|               298655|        118464|\n",
            "|               290384|        115680|\n",
            "|               283543|        112416|\n",
            "+---------------------+--------------+\n",
            "only showing top 20 rows\n",
            "\n"
          ]
        }
      ],
      "source": [
        "\n",
        "\n",
        "# Convertir la columna 'Cantidad' a integer\n",
        "movimientos = movimientos.withColumn('Cantidad', col('Cantidad').cast('integer'))\n",
        "\n",
        "# Agrupar por 'TransaccionProductoID' y sumar la columna 'Cantidad'\n",
        "resultado = movimientos.groupBy('TransaccionProductoID').agg(sum('Cantidad').alias('Cantidad_total'))\n",
        "\n",
        "# Ordenar por 'Cantidad_total' de forma descendente y mostrar el resultado\n",
        "resultado.orderBy(col('Cantidad_total').desc()).show()"
      ]
    },
    {
      "cell_type": "markdown",
      "metadata": {},
      "source": [
        "- Solo se muestran valores positivos debido a que el orden es de mayor a menor sumando la cantidad de compras (valores positivos) con la cantidad de ventas (valores negativos). "
      ]
    },
    {
      "cell_type": "code",
      "execution_count": 13,
      "metadata": {},
      "outputs": [
        {
          "name": "stdout",
          "output_type": "stream",
          "text": [
            "El valor máximo de la cantidad sumada por transacción es: 133392\n"
          ]
        }
      ],
      "source": [
        "# Agrupar por TransaccionProductoID y sumar la columna cantidad\n",
        "suma_por_transaccion = movimientos.groupBy(\"TransaccionProductoID\") \\\n",
        "                                      .agg(f.sum(\"Cantidad\").alias(\"suma_cantidad\"))\n",
        "\n",
        "# Obtener el valor máximo de la suma de la columna cantidad por TransaccionProductoID\n",
        "max_cantidad = suma_por_transaccion.agg(f.max(\"suma_cantidad\")).collect()[0][0]\n",
        "\n",
        "print(f\"El valor máximo de la cantidad sumada por transacción es: {max_cantidad}\")"
      ]
    },
    {
      "cell_type": "markdown",
      "metadata": {},
      "source": [
        "Tambien se determina el valor maximo de la columna _TransaccionProductoID_ sin realizar ninguna agrupación"
      ]
    },
    {
      "cell_type": "code",
      "execution_count": 14,
      "metadata": {},
      "outputs": [
        {
          "name": "stdout",
          "output_type": "stream",
          "text": [
            "+-------------+\n",
            "|max(Cantidad)|\n",
            "+-------------+\n",
            "|        67368|\n",
            "+-------------+\n",
            "\n"
          ]
        }
      ],
      "source": [
        "movimientos.agg({\"Cantidad\": \"max\"}).show()"
      ]
    },
    {
      "cell_type": "markdown",
      "metadata": {},
      "source": [
        "- Se observa que la cantidad maxima en ambos escenarios, agrupando por _TransaccionProductoID_ y sin la agrupacion, no corresponde a lo indicado por el negocio, por lo que se procedera a notificar este punto."
      ]
    },
    {
      "cell_type": "markdown",
      "metadata": {},
      "source": [
        "Para establecer si existen 236.668 movimientos de producto realizados desde 2013, se validara la fecha minima de la columna _FechaTransaccion_ \n"
      ]
    },
    {
      "cell_type": "code",
      "execution_count": 15,
      "metadata": {},
      "outputs": [
        {
          "name": "stdout",
          "output_type": "stream",
          "text": [
            "+---------------------+\n",
            "|min(FechaTransaccion)|\n",
            "+---------------------+\n",
            "| 2013-12-31 07:00:...|\n",
            "+---------------------+\n",
            "\n"
          ]
        }
      ],
      "source": [
        "movimientos.agg({\"FechaTransaccion\": \"min\"}).show()"
      ]
    },
    {
      "cell_type": "markdown",
      "metadata": {},
      "source": [
        "- En este caso, se debe consultar al negocio al menos el periodo exacto de la base de datos, pues la base de datos si refleja como fecha minima el 2013, pero en esta observacion es el ultimo dia del año 2013, por lo que se procede a preguntar al negocio"
      ]
    },
    {
      "cell_type": "markdown",
      "metadata": {},
      "source": [
        "La tercer regla del negocio es conocer si los movimientos están relacionados con 228.265 clientes, por lo que se identificara cuantos valores distintos existen en la columna _ClienteID_\n"
      ]
    },
    {
      "cell_type": "code",
      "execution_count": 16,
      "metadata": {},
      "outputs": [
        {
          "name": "stdout",
          "output_type": "stream",
          "text": [
            "El número de clientes únicos es: 197136\n"
          ]
        }
      ],
      "source": [
        "# Contar valores igual a 0 en _ClienteID_\n",
        "ceros_cliente = movimientos.filter(movimientos[\"ClienteID\"] == 0).count()\n",
        "# Contar los valores distintos en la columna _ClienteID_\n",
        "clientes_unicos = movimientos.select(\"ClienteID\").count()\n",
        "\n",
        "print(f\"El número de clientes únicos es: { clientes_unicos - ceros_cliente}\")"
      ]
    },
    {
      "cell_type": "markdown",
      "metadata": {},
      "source": [
        "- Con base en las observaciones anteriores se indetifica que los movimientos estan relacionados a 197.136 clientes y no 228.265 clientes, por lo que se procede a comunicar al negocio, pues se podria tratar, y como se ha mencionado anteriormente, de perdida de datos en las bases enviadas."
      ]
    },
    {
      "cell_type": "markdown",
      "metadata": {},
      "source": [
        "Asi como en ejercicios anteriores, se determinara si el formato de fechas manejado es YYYY-MM-DD HH:MM:SS, por lo que se procede a reutilizar el codigo de las anteriores bases."
      ]
    },
    {
      "cell_type": "code",
      "execution_count": 17,
      "metadata": {},
      "outputs": [
        {
          "name": "stderr",
          "output_type": "stream",
          "text": [
            "<>:1: SyntaxWarning: invalid escape sequence '\\d'\n",
            "<>:1: SyntaxWarning: invalid escape sequence '\\d'\n",
            "C:\\Users\\ramirju1\\AppData\\Local\\Temp\\ipykernel_13016\\703442832.py:1: SyntaxWarning: invalid escape sequence '\\d'\n",
            "  regex = \"[0-2]\\d{3}-(0[1-9]|1[0-2])-(0[1-9]|[1-2][0-9]|3[0-1])\"\n"
          ]
        },
        {
          "name": "stdout",
          "output_type": "stream",
          "text": [
            "Número total de ordenes: 204292, número de ordenes con formato correcto: 140038\n"
          ]
        }
      ],
      "source": [
        "regex = \"[0-2]\\d{3}-(0[1-9]|1[0-2])-(0[1-9]|[1-2][0-9]|3[0-1])\"\n",
        "cumplenFormato = movimientos.filter(movimientos[\"FechaTransaccion\"].rlike(regex))\n",
        "print(\"Número total de ordenes: \"+str(movimientos.count())+\", número de ordenes con formato correcto: \"+str(cumplenFormato.count()))"
      ]
    },
    {
      "cell_type": "code",
      "execution_count": 18,
      "metadata": {},
      "outputs": [
        {
          "name": "stdout",
          "output_type": "stream",
          "text": [
            "+----------------+\n",
            "|FechaTransaccion|\n",
            "+----------------+\n",
            "|     Apr 25,2014|\n",
            "|     Dec 10,2015|\n",
            "|     Dec 04,2015|\n",
            "|     Dec 23,2015|\n",
            "|     Jul 27,2015|\n",
            "|     Sep 15,2014|\n",
            "|     Aug 04,2015|\n",
            "|     Feb 23,2015|\n",
            "|     May 01,2015|\n",
            "|     Jan 08,2016|\n",
            "|     Mar 26,2014|\n",
            "|     Jul 31,2015|\n",
            "|     Sep 02,2014|\n",
            "|     Mar 15,2016|\n",
            "|     May 28,2016|\n",
            "|     Sep 09,2015|\n",
            "|     May 23,2014|\n",
            "|     Aug 20,2014|\n",
            "|     Jan 21,2015|\n",
            "|     Dec 29,2015|\n",
            "+----------------+\n",
            "only showing top 20 rows\n",
            "\n"
          ]
        },
        {
          "data": {
            "text/plain": [
              "(64254, None)"
            ]
          },
          "execution_count": 18,
          "metadata": {},
          "output_type": "execute_result"
        }
      ],
      "source": [
        "noCumplenFormato = movimientos.filter(~movimientos[\"FechaTransaccion\"].rlike(regex))\n",
        "noCumplenFormato.count(), noCumplenFormato.select(col(\"FechaTransaccion\")).show()"
      ]
    },
    {
      "cell_type": "markdown",
      "metadata": {},
      "source": [
        "- Del total de filas (204.292), solo 140.038 cumplen con el formato de fecha establecido por el negocio"
      ]
    },
    {
      "cell_type": "markdown",
      "metadata": {},
      "source": [
        "Para concer si actualmente se tienen 13 proveedores, se validara mediante una query que represente en tabla los distintos proveedores de acuerdo a su identificador en la columna _ProveedorID_"
      ]
    },
    {
      "cell_type": "code",
      "execution_count": 19,
      "metadata": {},
      "outputs": [
        {
          "name": "stdout",
          "output_type": "stream",
          "text": [
            "+-----------+\n",
            "|ProveedorID|\n",
            "+-----------+\n",
            "|        1.0|\n",
            "|        4.0|\n",
            "|        7.0|\n",
            "|           |\n",
            "+-----------+\n",
            "\n"
          ]
        }
      ],
      "source": [
        "# Contar los valores distintos en la columna ProveedorID_\n",
        "proveedores_unicos = movimientos.select(\"ProveedorID\").distinct().show()\n",
        "\n"
      ]
    },
    {
      "cell_type": "markdown",
      "metadata": {},
      "source": [
        "- Solo 3 proveedores se muestran en la tabla anterior, por lo que se procedera a notificar al negocio puesto que en las reglas enviadas habian indicado que tienen 13 proveedores, es decir faltarian proveedores por incluir en la tabla o si existe perdida de datos ."
      ]
    },
    {
      "cell_type": "markdown",
      "metadata": {},
      "source": [
        "### Analisis descriptivo"
      ]
    },
    {
      "cell_type": "code",
      "execution_count": 20,
      "metadata": {},
      "outputs": [
        {
          "name": "stdout",
          "output_type": "stream",
          "text": [
            "+-------+---------------------+------------------+-------------------+------------------+-----------------+-----------------+------------------+--------------------+-----------------+\n",
            "|summary|TransaccionProductoID|        ProductoID|  TipoTransaccionID|         ClienteID|        InvoiceID|      ProveedorID|   OrdenDeCompraID|    FechaTransaccion|         Cantidad|\n",
            "+-------+---------------------+------------------+-------------------+------------------+-----------------+-----------------+------------------+--------------------+-----------------+\n",
            "|  count|               204292|            204292|             204292|            204292|           204292|           204292|            204292|              204292|           204292|\n",
            "|   mean|   212458.04047637695|110.70090850351458| 10.035253460732676| 517.3252941867523|42957.26929590978|4.951898734177215|1345.9973277074544|                NULL|719.4997650421946|\n",
            "| stddev|    71352.37579752573| 63.49014746219581|0.18563716955046372|353.50136995999276| 16826.9772221931|1.406311225432683|420.37740964792835|                NULL| 4729.36659747762|\n",
            "|    min|                89146|                 1|                 10|               0.0|              0.0|                 |                  |2013-12-31 07:00:...|             -360|\n",
            "|    25%|               150639|                56|                 10|             145.0|          30120.0|              4.0|             986.0|                NULL|              -60|\n",
            "|    50%|               212323|               110|                 10|             511.0|          43546.0|              4.0|            1347.0|                NULL|               -9|\n",
            "|    75%|               274216|               166|                 10|             877.0|          56983.0|              7.0|            1710.0|                NULL|               -5|\n",
            "|    max|               336251|               227|                 12|            1061.0|          70510.0|              7.0|             999.0|         Sep 30,2015|            67368|\n",
            "+-------+---------------------+------------------+-------------------+------------------+-----------------+-----------------+------------------+--------------------+-----------------+\n",
            "\n"
          ]
        }
      ],
      "source": [
        "movimientos.summary().show()"
      ]
    },
    {
      "cell_type": "markdown",
      "metadata": {},
      "source": [
        "- En la columna cantidad (_Int_), se evidencia que su valor maximo es 67.368 pero 75% de los datos son inferiores a -5. Lo que quiere decir que se trataria de un outlier; en este caso, se comunicara al negocio para entender de este dato, tal vez se trate de una compra al por mayor de un producto especifico y en ese caso se validara con el negocio, si realmente en una sola transaccion hicieron la compra de esa cantidad, ademas, verificar si la rotacion del producto hace parte de la realidad del negocio."
      ]
    },
    {
      "cell_type": "markdown",
      "metadata": {},
      "source": []
    },
    {
      "cell_type": "code",
      "execution_count": 21,
      "metadata": {},
      "outputs": [
        {
          "name": "stdout",
          "output_type": "stream",
          "text": [
            "   ProductoID  total_ventas\n",
            "0         191        173232\n",
            "1         192        167220\n",
            "2         189        136162\n",
            "3         187        132075\n",
            "4         185        131225\n"
          ]
        }
      ],
      "source": [
        "# Filtrar los productos que tengan un ClienteID distinto de 0\n",
        "ventas_filtradas = movimientos.filter(col(\"ClienteID\") != 0)\n",
        "\n",
        "# Cambiar los valores de la columna \"Cantidad\" a absolutos usando la función de PySpark\n",
        "ventas_validas = ventas_filtradas.withColumn(\"cantidad_abs\", f.abs(col(\"Cantidad\")))\n",
        "\n",
        "# Agrupar por ProductoID y sumar las ventas\n",
        "ventas_por_producto = ventas_validas.groupBy(\"ProductoID\") \\\n",
        "                                    .agg(sum(\"cantidad_abs\").alias(\"total_ventas\")) \\\n",
        "                                    .orderBy(\"total_ventas\", ascending=False)\n",
        "\n",
        "# Convertir el resultado a pandas\n",
        "ventas_por_producto_pd = ventas_por_producto.toPandas()\n",
        "\n",
        "# Mostrar los primeros registros del dataframe pandas\n",
        "print(ventas_por_producto_pd.head())"
      ]
    },
    {
      "cell_type": "markdown",
      "metadata": {},
      "source": [
        "- Se evidencia que el productoID 191 es el mas vendidos, de acuerdo a sus cantidades, por lo que seria un producto de alto valor para la empresa y/o generador de ventas e ingresos."
      ]
    },
    {
      "cell_type": "code",
      "execution_count": 22,
      "metadata": {},
      "outputs": [
        {
          "data": {
            "image/png": "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",
            "text/plain": [
              "<Figure size 1000x600 with 1 Axes>"
            ]
          },
          "metadata": {},
          "output_type": "display_data"
        }
      ],
      "source": [
        "# Crear gráfico de barras\n",
        "plt.figure(figsize=(10, 6))\n",
        "plt.bar(ventas_por_producto_pd[\"ProductoID\"], ventas_por_producto_pd[\"total_ventas\"], color='skyblue')\n",
        "plt.xlabel(\"ProductoID\")\n",
        "plt.ylabel(\"Total Ventas\")\n",
        "plt.title(\"Ventas por Producto (ClienteID != 0)\")\n",
        "plt.xticks(rotation=90)\n",
        "plt.show()\n"
      ]
    },
    {
      "cell_type": "markdown",
      "metadata": {},
      "source": [
        "- Los productos entre los ID´s 180 a 220, son los mas vendidos, por lo que seria correcto preguntarle al negocio si tienen alguna tipologia para dichos ID´s, como productos de tecnologia, para el hogar o de atraccion turistica, esto ayudaria a entender que productos son de alto valor para la empresa puesto que en el kardex se evidencia una venta significativa de estos."
      ]
    },
    {
      "cell_type": "markdown",
      "metadata": {},
      "source": [
        "Con base en las variables vistas se identificara la correlacion de la tabla movimientos, con los siguientes pasos:"
      ]
    },
    {
      "cell_type": "code",
      "execution_count": 23,
      "metadata": {},
      "outputs": [
        {
          "data": {
            "text/html": [
              "<style type=\"text/css\">\n",
              "#T_9c4ef_row0_col0, #T_9c4ef_row1_col1, #T_9c4ef_row2_col2, #T_9c4ef_row3_col3, #T_9c4ef_row4_col4, #T_9c4ef_row5_col5 {\n",
              "  background-color: #b40426;\n",
              "  color: #f1f1f1;\n",
              "}\n",
              "#T_9c4ef_row0_col1, #T_9c4ef_row3_col0 {\n",
              "  background-color: #4257c9;\n",
              "  color: #f1f1f1;\n",
              "}\n",
              "#T_9c4ef_row0_col2, #T_9c4ef_row1_col4 {\n",
              "  background-color: #a7c5fe;\n",
              "  color: #000000;\n",
              "}\n",
              "#T_9c4ef_row0_col3 {\n",
              "  background-color: #88abfd;\n",
              "  color: #000000;\n",
              "}\n",
              "#T_9c4ef_row0_col4 {\n",
              "  background-color: #d55042;\n",
              "  color: #f1f1f1;\n",
              "}\n",
              "#T_9c4ef_row0_col5 {\n",
              "  background-color: #aac7fd;\n",
              "  color: #000000;\n",
              "}\n",
              "#T_9c4ef_row1_col0 {\n",
              "  background-color: #4055c8;\n",
              "  color: #f1f1f1;\n",
              "}\n",
              "#T_9c4ef_row1_col2 {\n",
              "  background-color: #aec9fc;\n",
              "  color: #000000;\n",
              "}\n",
              "#T_9c4ef_row1_col3 {\n",
              "  background-color: #7ea1fa;\n",
              "  color: #f1f1f1;\n",
              "}\n",
              "#T_9c4ef_row1_col5 {\n",
              "  background-color: #a2c1ff;\n",
              "  color: #000000;\n",
              "}\n",
              "#T_9c4ef_row2_col0, #T_9c4ef_row2_col3, #T_9c4ef_row2_col4, #T_9c4ef_row3_col1, #T_9c4ef_row4_col2, #T_9c4ef_row4_col5 {\n",
              "  background-color: #3b4cc0;\n",
              "  color: #f1f1f1;\n",
              "}\n",
              "#T_9c4ef_row2_col1, #T_9c4ef_row5_col1 {\n",
              "  background-color: #455cce;\n",
              "  color: #f1f1f1;\n",
              "}\n",
              "#T_9c4ef_row2_col5 {\n",
              "  background-color: #dc5d4a;\n",
              "  color: #f1f1f1;\n",
              "}\n",
              "#T_9c4ef_row3_col2 {\n",
              "  background-color: #6687ed;\n",
              "  color: #f1f1f1;\n",
              "}\n",
              "#T_9c4ef_row3_col4 {\n",
              "  background-color: #cad8ef;\n",
              "  color: #000000;\n",
              "}\n",
              "#T_9c4ef_row3_col5 {\n",
              "  background-color: #6180e9;\n",
              "  color: #f1f1f1;\n",
              "}\n",
              "#T_9c4ef_row4_col0 {\n",
              "  background-color: #e16751;\n",
              "  color: #f1f1f1;\n",
              "}\n",
              "#T_9c4ef_row4_col1 {\n",
              "  background-color: #3d50c3;\n",
              "  color: #f1f1f1;\n",
              "}\n",
              "#T_9c4ef_row4_col3 {\n",
              "  background-color: #abc8fd;\n",
              "  color: #000000;\n",
              "}\n",
              "#T_9c4ef_row5_col0 {\n",
              "  background-color: #4c66d6;\n",
              "  color: #f1f1f1;\n",
              "}\n",
              "#T_9c4ef_row5_col2 {\n",
              "  background-color: #d95847;\n",
              "  color: #f1f1f1;\n",
              "}\n",
              "#T_9c4ef_row5_col3 {\n",
              "  background-color: #445acc;\n",
              "  color: #f1f1f1;\n",
              "}\n",
              "#T_9c4ef_row5_col4 {\n",
              "  background-color: #4961d2;\n",
              "  color: #f1f1f1;\n",
              "}\n",
              "</style>\n",
              "<table id=\"T_9c4ef\">\n",
              "  <thead>\n",
              "    <tr>\n",
              "      <th class=\"blank level0\" >&nbsp;</th>\n",
              "      <th id=\"T_9c4ef_level0_col0\" class=\"col_heading level0 col0\" >TransaccionProductoID</th>\n",
              "      <th id=\"T_9c4ef_level0_col1\" class=\"col_heading level0 col1\" >ProductoID</th>\n",
              "      <th id=\"T_9c4ef_level0_col2\" class=\"col_heading level0 col2\" >TipoTransaccionID</th>\n",
              "      <th id=\"T_9c4ef_level0_col3\" class=\"col_heading level0 col3\" >ClienteID</th>\n",
              "      <th id=\"T_9c4ef_level0_col4\" class=\"col_heading level0 col4\" >InvoiceID</th>\n",
              "      <th id=\"T_9c4ef_level0_col5\" class=\"col_heading level0 col5\" >Cantidad</th>\n",
              "    </tr>\n",
              "  </thead>\n",
              "  <tbody>\n",
              "    <tr>\n",
              "      <th id=\"T_9c4ef_level0_row0\" class=\"row_heading level0 row0\" >TransaccionProductoID</th>\n",
              "      <td id=\"T_9c4ef_row0_col0\" class=\"data row0 col0\" >1.000000</td>\n",
              "      <td id=\"T_9c4ef_row0_col1\" class=\"data row0 col1\" >0.017905</td>\n",
              "      <td id=\"T_9c4ef_row0_col2\" class=\"data row0 col2\" >-0.001819</td>\n",
              "      <td id=\"T_9c4ef_row0_col3\" class=\"data row0 col3\" >0.021868</td>\n",
              "      <td id=\"T_9c4ef_row0_col4\" class=\"data row0 col4\" >0.859235</td>\n",
              "      <td id=\"T_9c4ef_row0_col5\" class=\"data row0 col5\" >0.060616</td>\n",
              "    </tr>\n",
              "    <tr>\n",
              "      <th id=\"T_9c4ef_level0_row1\" class=\"row_heading level0 row1\" >ProductoID</th>\n",
              "      <td id=\"T_9c4ef_row1_col0\" class=\"data row1 col0\" >0.017905</td>\n",
              "      <td id=\"T_9c4ef_row1_col1\" class=\"data row1 col1\" >1.000000</td>\n",
              "      <td id=\"T_9c4ef_row1_col2\" class=\"data row1 col2\" >0.028463</td>\n",
              "      <td id=\"T_9c4ef_row1_col3\" class=\"data row1 col3\" >-0.009326</td>\n",
              "      <td id=\"T_9c4ef_row1_col4\" class=\"data row1 col4\" >0.001007</td>\n",
              "      <td id=\"T_9c4ef_row1_col5\" class=\"data row1 col5\" >0.028805</td>\n",
              "    </tr>\n",
              "    <tr>\n",
              "      <th id=\"T_9c4ef_level0_row2\" class=\"row_heading level0 row2\" >TipoTransaccionID</th>\n",
              "      <td id=\"T_9c4ef_row2_col0\" class=\"data row2 col0\" >-0.001819</td>\n",
              "      <td id=\"T_9c4ef_row2_col1\" class=\"data row2 col1\" >0.028463</td>\n",
              "      <td id=\"T_9c4ef_row2_col2\" class=\"data row2 col2\" >1.000000</td>\n",
              "      <td id=\"T_9c4ef_row2_col3\" class=\"data row2 col3\" >-0.277915</td>\n",
              "      <td id=\"T_9c4ef_row2_col4\" class=\"data row2 col4\" >-0.484808</td>\n",
              "      <td id=\"T_9c4ef_row2_col5\" class=\"data row2 col5\" >0.833650</td>\n",
              "    </tr>\n",
              "    <tr>\n",
              "      <th id=\"T_9c4ef_level0_row3\" class=\"row_heading level0 row3\" >ClienteID</th>\n",
              "      <td id=\"T_9c4ef_row3_col0\" class=\"data row3 col0\" >0.021868</td>\n",
              "      <td id=\"T_9c4ef_row3_col1\" class=\"data row3 col1\" >-0.009326</td>\n",
              "      <td id=\"T_9c4ef_row3_col2\" class=\"data row3 col2\" >-0.277915</td>\n",
              "      <td id=\"T_9c4ef_row3_col3\" class=\"data row3 col3\" >1.000000</td>\n",
              "      <td id=\"T_9c4ef_row3_col4\" class=\"data row3 col4\" >0.154670</td>\n",
              "      <td id=\"T_9c4ef_row3_col5\" class=\"data row3 col5\" >-0.234709</td>\n",
              "    </tr>\n",
              "    <tr>\n",
              "      <th id=\"T_9c4ef_level0_row4\" class=\"row_heading level0 row4\" >InvoiceID</th>\n",
              "      <td id=\"T_9c4ef_row4_col0\" class=\"data row4 col0\" >0.859235</td>\n",
              "      <td id=\"T_9c4ef_row4_col1\" class=\"data row4 col1\" >0.001007</td>\n",
              "      <td id=\"T_9c4ef_row4_col2\" class=\"data row4 col2\" >-0.484808</td>\n",
              "      <td id=\"T_9c4ef_row4_col3\" class=\"data row4 col3\" >0.154670</td>\n",
              "      <td id=\"T_9c4ef_row4_col4\" class=\"data row4 col4\" >1.000000</td>\n",
              "      <td id=\"T_9c4ef_row4_col5\" class=\"data row4 col5\" >-0.409633</td>\n",
              "    </tr>\n",
              "    <tr>\n",
              "      <th id=\"T_9c4ef_level0_row5\" class=\"row_heading level0 row5\" >Cantidad</th>\n",
              "      <td id=\"T_9c4ef_row5_col0\" class=\"data row5 col0\" >0.060616</td>\n",
              "      <td id=\"T_9c4ef_row5_col1\" class=\"data row5 col1\" >0.028805</td>\n",
              "      <td id=\"T_9c4ef_row5_col2\" class=\"data row5 col2\" >0.833650</td>\n",
              "      <td id=\"T_9c4ef_row5_col3\" class=\"data row5 col3\" >-0.234709</td>\n",
              "      <td id=\"T_9c4ef_row5_col4\" class=\"data row5 col4\" >-0.409633</td>\n",
              "      <td id=\"T_9c4ef_row5_col5\" class=\"data row5 col5\" >1.000000</td>\n",
              "    </tr>\n",
              "  </tbody>\n",
              "</table>\n"
            ],
            "text/plain": [
              "<pandas.io.formats.style.Styler at 0x25affca2720>"
            ]
          },
          "execution_count": 23,
          "metadata": {},
          "output_type": "execute_result"
        }
      ],
      "source": [
        "# Convert the DataFrame to Pandas and filter numeric columns only\n",
        "numeric_df = movimientos.toPandas().select_dtypes(include=[np.number])\n",
        "\n",
        "# Calculate the correlation matrix using Pearson method\n",
        "corr = numeric_df.corr(method='pearson')\n",
        "\n",
        "# Apply the color gradient to visualize the correlation matrix\n",
        "corr.style.background_gradient(cmap='coolwarm')"
      ]
    },
    {
      "cell_type": "markdown",
      "metadata": {},
      "source": [
        "- Se observa que existe una positiva y fuerte relacion entre las vaiables Tipo de transaccion y cantidad, lo que refiere que dependiendo del tipo de transaccion que genere el movimiento de inventario en el Kardex, se cambiara la cantidad de dicha transaccion. En este paso, se consultara al negocio que tipos de datos se encuentran el la columna tipos, puesto que seria util para el analisis, que tipo de movimientos hace que varien el inventario y poder identificar algunas discrepancias o diferencias con el Kardex a tiempo para mejorar la calidad de la base datos.  "
      ]
    },
    {
      "cell_type": "code",
      "execution_count": 24,
      "metadata": {},
      "outputs": [
        {
          "data": {
            "image/png": "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",
            "text/plain": [
              "<Figure size 800x800 with 1 Axes>"
            ]
          },
          "metadata": {},
          "output_type": "display_data"
        }
      ],
      "source": [
        "# Paso 1: Contar la frecuencia de cada valor en la columna 'TipoDeTransaccionID'\n",
        "frecuencia_transacciones = movimientos.groupBy('TipoTransaccionID').count()\n",
        "\n",
        "# Paso 2: Convertir el DataFrame de PySpark a pandas para poder graficar\n",
        "frecuencia_transacciones_pd = frecuencia_transacciones.toPandas()\n",
        "\n",
        "# Paso 3: Crear el gráfico de torta\n",
        "plt.figure(figsize=(8, 8))\n",
        "plt.pie(frecuencia_transacciones_pd['count'], labels=frecuencia_transacciones_pd['TipoTransaccionID'], autopct='%1.1f%%')\n",
        "plt.title('Diagrama Circular de Tipo de Transacción')\n",
        "plt.show()"
      ]
    },
    {
      "cell_type": "markdown",
      "metadata": {},
      "source": [
        "- De acuerdo al grafico anterior, el tipo de transaccion 10 es casi todo el movimiento del inventario, en este caso se consultada con el negocio por las definiciones de cada tipo de transaccion."
      ]
    },
    {
      "cell_type": "markdown",
      "metadata": {
        "id": "-axExLnhPn3g"
      },
      "source": [
        "## Análisis de calidad de datos"
      ]
    },
    {
      "cell_type": "markdown",
      "metadata": {},
      "source": [
        "### Completitud"
      ]
    },
    {
      "cell_type": "code",
      "execution_count": 28,
      "metadata": {},
      "outputs": [],
      "source": [
        "def contar_vacios(df):\n",
        "    resultados = []\n",
        "    for c in df.columns:\n",
        "        vacios = df.filter(df[c].isNull()).count()\n",
        "        if vacios!=0:\n",
        "            print('número de vacíos para columna '+c+': '+str( vacios ))\n",
        "            resultados.append(vacios)\n",
        "    return resultados\n",
        "\n",
        "def cardinalidad(df):\n",
        "    resultado = {}\n",
        "    for c in df.columns:\n",
        "        cardinalidad = df.select(col(c)).distinct().count()\n",
        "        if cardinalidad>=df.count()*0.5:\n",
        "            resultado[c] = cardinalidad\n",
        "    return resultado"
      ]
    },
    {
      "cell_type": "code",
      "execution_count": 35,
      "metadata": {},
      "outputs": [
        {
          "data": {
            "text/plain": [
              "[]"
            ]
          },
          "execution_count": 35,
          "metadata": {},
          "output_type": "execute_result"
        }
      ],
      "source": [
        "columnas_vacias_movimientos = contar_vacios(movimientos)\n",
        "columnas_vacias_movimientos\n"
      ]
    },
    {
      "cell_type": "markdown",
      "metadata": {},
      "source": [
        "- En este caso se revisan que las colunmnas con datos vacios, pero cabe aclarar que en algunas filas pueden existir datos vacios como en InvoiceID, ClienteID, ProveedorID y OrdenID, esto debido a que si se realiza una compra se tomara solo ProveedorID y OrdenID, las otras dos variables deben estar en 0, en cambio si se realiza una venta,  InvoiceID y ClienteID deben contener datos de dichas variables y las otras dos permanecer en 0 o vacias. En caso de que en alguna fila existan datos en las cuatro columnas se trataria de un problema de validez."
      ]
    },
    {
      "cell_type": "markdown",
      "metadata": {},
      "source": [
        "### Unicidad"
      ]
    },
    {
      "cell_type": "code",
      "execution_count": 33,
      "metadata": {},
      "outputs": [
        {
          "data": {
            "text/plain": [
              "{'TransaccionProductoID': 173659}"
            ]
          },
          "execution_count": 33,
          "metadata": {},
          "output_type": "execute_result"
        }
      ],
      "source": [
        "columnas_alta_cardinalidad_movimientos = cardinalidad(movimientos)\n",
        "columnas_alta_cardinalidad_movimientos"
      ]
    },
    {
      "cell_type": "markdown",
      "metadata": {},
      "source": [
        "- Aqui se revisa si existe alguna duplicidad en los datos, por lo que y como se evidencio en los pasos anteriores, TransaccionProductoID tiene valores repetidos, con esto se preguntara al negocio el significado de esta columna para entender si la duplicidad se puede deber a que este atributo debe ser concatenado con otro para que exista una llave unica y de esta manera corroborar la existencia o no de duplicados."
      ]
    },
    {
      "cell_type": "markdown",
      "metadata": {},
      "source": [
        "### Consistencia"
      ]
    },
    {
      "cell_type": "markdown",
      "metadata": {},
      "source": [
        "Como no existe otra tabla para validar consistencia entre fuentes, se usaran las siguientes combinanciones para determinar consistencia entre la misma tabla, pues cada columna que se menciona a continuacion se supone que siempre debe estar ligada a la otra, por ejemplo ClienteID siempre debe tener asociado InvoiceID"
      ]
    },
    {
      "cell_type": "code",
      "execution_count": 44,
      "metadata": {},
      "outputs": [
        {
          "name": "stdout",
          "output_type": "stream",
          "text": [
            "+---------------------+----------+-----------------+---------+---------+-----------+---------------+----------------+--------+\n",
            "|TransaccionProductoID|ProductoID|TipoTransaccionID|ClienteID|InvoiceID|ProveedorID|OrdenDeCompraID|FechaTransaccion|Cantidad|\n",
            "+---------------------+----------+-----------------+---------+---------+-----------+---------------+----------------+--------+\n",
            "+---------------------+----------+-----------------+---------+---------+-----------+---------------+----------------+--------+\n",
            "\n",
            "+---------------------+----------+-----------------+---------+---------+-----------+---------------+----------------+--------+\n",
            "|TransaccionProductoID|ProductoID|TipoTransaccionID|ClienteID|InvoiceID|ProveedorID|OrdenDeCompraID|FechaTransaccion|Cantidad|\n",
            "+---------------------+----------+-----------------+---------+---------+-----------+---------------+----------------+--------+\n",
            "+---------------------+----------+-----------------+---------+---------+-----------+---------------+----------------+--------+\n",
            "\n",
            "+---------------------+----------+-----------------+---------+---------+-----------+---------------+----------------+--------+\n",
            "|TransaccionProductoID|ProductoID|TipoTransaccionID|ClienteID|InvoiceID|ProveedorID|OrdenDeCompraID|FechaTransaccion|Cantidad|\n",
            "+---------------------+----------+-----------------+---------+---------+-----------+---------------+----------------+--------+\n",
            "+---------------------+----------+-----------------+---------+---------+-----------+---------------+----------------+--------+\n",
            "\n"
          ]
        }
      ],
      "source": [
        "\n",
        "\n",
        "# Verificar consistencia para ProductoID con TransaccionProductoID y TipoTransaccionID\n",
        "producto_transaccion_check = movimientos.filter(\n",
        "    (col(\"ProductoID\") != 0) & (col(\"ProductoID\") != '') &\n",
        "    ((col(\"TransaccionProductoID\") == 0) | (col(\"TransaccionProductoID\") == '') |\n",
        "     (col(\"TipoTransaccionID\") == 0) | (col(\"TipoTransaccionID\") == ''))\n",
        ")\n",
        "\n",
        "# Verificar consistencia para ClienteID con InvoiceID\n",
        "cliente_invoice_check = movimientos.filter(\n",
        "    (col(\"ClienteID\") != 0) & (col(\"ClienteID\") != '') &\n",
        "    ((col(\"InvoiceID\") == 0) | (col(\"InvoiceID\") == ''))\n",
        ")\n",
        "\n",
        "# Verificar consistencia para ProveedorID con OrdenDeCompraID\n",
        "proveedor_orden_check = movimientos.filter(\n",
        "    (col(\"ProveedorID\") != 0) & (col(\"ProveedorID\") != '') &\n",
        "    ((col(\"OrdenDeCompraID\") == 0) | (col(\"OrdenDeCompraID\") == ''))\n",
        ")\n",
        "\n",
        "# Mostrar los resultados\n",
        "producto_transaccion_check.show()\n",
        "cliente_invoice_check.show()\n",
        "proveedor_orden_check.show()"
      ]
    },
    {
      "cell_type": "markdown",
      "metadata": {},
      "source": [
        "- En este caso existe consistencia en la tabla de movimientos, puesto que las filas son consistentes con las columnas dadas por el negocio, por ejemplo ProveedorID siempre debe tener OrdenDeCompraID lo que significa que para las entradas de inventario, siempre debe existir una orden de compra asociada a un proveedor."
      ]
    },
    {
      "cell_type": "markdown",
      "metadata": {},
      "source": [
        "### Validez"
      ]
    },
    {
      "cell_type": "code",
      "execution_count": 36,
      "metadata": {},
      "outputs": [
        {
          "name": "stdout",
          "output_type": "stream",
          "text": [
            "+----------------+\n",
            "|FechaTransaccion|\n",
            "+----------------+\n",
            "|     Apr 25,2014|\n",
            "|     Dec 10,2015|\n",
            "|     Dec 04,2015|\n",
            "|     Dec 23,2015|\n",
            "|     Jul 27,2015|\n",
            "|     Sep 15,2014|\n",
            "|     Aug 04,2015|\n",
            "|     Feb 23,2015|\n",
            "|     May 01,2015|\n",
            "|     Jan 08,2016|\n",
            "|     Mar 26,2014|\n",
            "|     Jul 31,2015|\n",
            "|     Sep 02,2014|\n",
            "|     Mar 15,2016|\n",
            "|     May 28,2016|\n",
            "|     Sep 09,2015|\n",
            "|     May 23,2014|\n",
            "|     Aug 20,2014|\n",
            "|     Jan 21,2015|\n",
            "|     Dec 29,2015|\n",
            "+----------------+\n",
            "only showing top 20 rows\n",
            "\n"
          ]
        },
        {
          "data": {
            "text/plain": [
              "(64254, None)"
            ]
          },
          "execution_count": 36,
          "metadata": {},
          "output_type": "execute_result"
        }
      ],
      "source": [
        "noCumplenFormato = movimientos.filter(~movimientos[\"FechaTransaccion\"].rlike(regex))\n",
        "noCumplenFormato.count(), noCumplenFormato.select(col(\"FechaTransaccion\")).show()"
      ]
    },
    {
      "cell_type": "markdown",
      "metadata": {},
      "source": [
        "- En este paso, se identifica que la columna _FechaTransaccion_ no presenta validez, puesto que algunas filas no cuenta con el formato definido por el negocio. En este caso, mediante codigo se podria transformar el formato, de estas celdas, al indicado por el negocio "
      ]
    },
    {
      "cell_type": "markdown",
      "metadata": {
        "id": "YfSMeXZQPn3g"
      },
      "source": [
        "## Conclusiones"
      ]
    },
    {
      "cell_type": "markdown",
      "metadata": {},
      "source": [
        "### Concluciones generales"
      ]
    },
    {
      "cell_type": "markdown",
      "metadata": {},
      "source": [
        "- Los resultados indican que se podria determinar con certeza las dimensiones, caracteristicas y tamaño de la tabla suministrada. Por ende, dichos tableros cumplen con el control propuesto hacia el negocio, con el fin de identificar la calidad de los datos y si cumplen con las reglas dadas por el negocio. \n",
        "\n",
        "- Una fila promedio de movimientos representa el transito de un producto en el kardex de la empresa, de forma que se identifica si existe una compra o ingreso de inventario, o si existe una venta o salida del inventario.\n",
        "\n",
        "- Los movimientos de proveedores tienen cantidades mas alta que las ventas (en valor absoluto), debido a que se preve que se compre al por mayor para tener ventaja de costes de transporte y de proveedores, y que las ventas sean en menor cantidad por transaccion."
      ]
    },
    {
      "cell_type": "markdown",
      "metadata": {},
      "source": [
        "### Concluciones de reglas de negocio\n",
        "\n",
        "- La cantidad máxima, tanto agrupando por TransaccionProductoID como sin agrupar, no coincide con lo indicado por el negocio. Se procederá a notificar este hallazgo.\n",
        "\n",
        "- Es necesario consultar al negocio sobre el periodo exacto de la base de datos. Aunque la fecha mínima registrada es de 2013, corresponde al último día del año, por lo que se solicitará una aclaración.\n",
        "\n",
        "- Se detectó que los movimientos están relacionados a 197,136 clientes en lugar de los 228,265 esperados. Esto sugiere una posible pérdida de datos, lo que será comunicado al negocio.\n",
        "\n",
        "- De las 204,292 filas totales, solo 140,038 cumplen con el formato de fecha establecido por el negocio.\n",
        "\n",
        "- Solo se muestran 3 proveedores en la tabla, mientras que el negocio había indicado la existencia de 13 proveedores. Esto será notificado, ya que podría tratarse de una omisión o pérdida de datos."
      ]
    },
    {
      "cell_type": "markdown",
      "metadata": {},
      "source": [
        "### Concluciones de calidad de los datos"
      ]
    },
    {
      "cell_type": "markdown",
      "metadata": {},
      "source": [
        "- No existen columnas con datos vacíos, puesto que algunas columnas son relacionadas entre si como InvoiceID con ClienteID, ProveedorID con OrdenID. Si se trata de una compra, ProveedorID y OrdenID deben tener valores, mientras que InvoiceID y ClienteID deben estar en 0 o vacíos. Para una venta, es al revés, InvoiceID y ClienteID deben contener datos, mientras que las otras dos columnas estarán vacías. Si alguna fila presenta datos en las cuatro columnas, esto indicaría un problema de validez.\n",
        "\n",
        "- Existen valores duplicados en la columna TransaccionProductoID.\n",
        "\n",
        "- La tabla de movimientos es consistente con las reglas establecidas por el negocio. Por ejemplo, cada ProveedorID tiene un OrdenDeCompraID asociado, lo que indica que las entradas de inventario siempre están ligadas a una orden de compra de un proveedor.\n",
        "\n",
        "- Se detectó que la columna FechaTransaccion presenta problemas de validez, ya que algunas filas no cumplen con el formato definido por el negocio. Esto podría corregirse mediante código que transforme las fechas al formato correcto."
      ]
    },
    {
      "cell_type": "markdown",
      "metadata": {},
      "source": [
        "### Comentarios y preguntas hacia el negocio"
      ]
    },
    {
      "cell_type": "markdown",
      "metadata": {},
      "source": [
        "- Suministrar una base donde se identifique productos deberian ser gravados con el 10% o 15%, cuales serian exentos y cuales excluidos de IVA. Con esto se lograria identificar si en alguna factura se aplico erradamente el calculo de este impuesto, asi se evitarian problemas de multas y taxativos.\n",
        "\n",
        "- Brindar base donde se evidencien los saldos inciales de los productos para crear un tipo de Kardex y que se contrastado con los inventarios fisicos de la compañia en tiempo real.\n",
        "\n",
        "- Se podria establecer con el kardex propuesto los dias o periodos de rotacion de inventario, esto ayudaria a establecer que productos son los que mas rotan, es decir cuales productos tienen una mayor frecuencia de venta y por lo tanto de compra. Tambien se identificaria el tiempo en el que el inventario permanece en almacenado en la empresa, puesto que si estos estuvieran almacenados por un tiempo prolongado se podria determinar si existe deterioro de inventario.\n",
        "\n",
        "- Indicar los metodos de transporte del inventario tanto para compras como para ventas, para entender y analizar los costos asociados a la compra y venta de mercancias.\n",
        "\n",
        "Para tener un entendimiento mas acorde a esta base, por favor responder las siguientes preguntas:\n",
        "\n",
        "- ¿A que se refiere cantidad máxima de productos movidos? (La cantidad indicada no corresponde con los datos enviados)\n",
        "\n",
        "- ¿Que definicion tiene cada ID de la columna Tipo de transaccionID?\n",
        "\n",
        "- ¿la columna TransaccionProductoID presenta valores duplicados, esto es correcto?. En este caso se podria concatenar esta columna con alguna o algunas otras para obtener una identificacion unica y corroborar la existencia de filas duplicadas. \n",
        "\n",
        "- La base es desde el 2013, pero especificamente ¿desde que periodo es la base de datos movimientosCopia?.\n",
        "\n",
        "- ¿Con cuantos proveedores tienen contratos activos?\n",
        "\n",
        "- ¿Que tipo de negociacion tienen con estos proveedores? (Compras a credito a 30-60-90 días, envios internacionales/nacionales, tipos de envio)\n",
        "\n",
        "- ¿Con que metodo valoran el inventario? UEPS (ultimas en entrar, primeras en salir), PEPS (Primeras en entrar primeras en salir) o promedio ponderado.\n",
        "\n",
        "- ¿Frecuencia de conteo de unidades fisicas? Segun la politica de la empresa cada cuanto realizan control de inventario.\n",
        "\n",
        "- ¿Cuantos productos distinto ha tenido y tiene la compañia?\n",
        "\n",
        "- ¿Existe alguna segmentacion de los productos en el kardex o inventario? (Como productos de tecnologia, para el hogar o de atraccion turistica)\n"
      ]
    },
    {
      "cell_type": "markdown",
      "metadata": {
        "id": "xsIHBKMTPn3g"
      },
      "source": [
        "## Cierre\n",
        "\n",
        "Completado este tutorial ya sabrá la forma básica de utilizar PySpark. Ya sabe cómo crear DataFrames a partir de datos existentes, cómo seleccionar columnas o filas de este Dataframe, cómo rellenar espacios vacíos, cómo aplicar sus propias funciones a estos datos y los más importante, cómo utilizarlo para realizar una fase de entendimiento de datos.\n",
        "\n",
        "Las tablas detallesOrdenesCopia y OrdenesCopia estaran disponibles en caso de que desee repetir este tutorial cuantas veces considere necesario"
      ]
    },
    {
      "cell_type": "markdown",
      "metadata": {},
      "source": []
    },
    {
      "cell_type": "markdown",
      "metadata": {
        "id": "GV2OfMqRPn3g"
      },
      "source": [
        "## 7. Información adicional\n",
        "\n",
        "Si quiere conocer más sobre PySpark la guía más detallada es la documentación oficial, la cual puede encontrar acá: https://spark.apache.org/docs/latest/api/python/index.html <br>\n",
        "Para ir directamente a la documentación de PySpark SQL, donde está la información sobre los DataFrames: https://spark.apache.org/docs/latest/api/python/pyspark.sql.html <br>\n",
        "\n",
        "El Capítulo 2 del libro <i>Learn PySpark : Build Python-based Machine Learning and Deep Learning Models, New York: Apress. 2019</i> de Pramod Singh contiene muchos ejemplos útiles, puede encontrarlo en la biblioteca virtual de la universidad."
      ]
    },
    {
      "cell_type": "markdown",
      "metadata": {
        "id": "iKeHXm96Pn3h"
      },
      "source": [
        "## 8. Preguntas frecuentes\n",
        "\n",
        "1. Si en el cálculo de los histogramas o en una de sus UDF obtiene el error: TypeError: unsupported operand type(s) for *: 'decimal.Decimal' and 'float' verifique los tipos de las columnas que está intentando operar y, si alguna es double, conviértala a float.\n",
        "\n",
        "2. En algunos casos, encontrará también información sobre <i>Pandas_UDF</i>. <i>Pandas_UDF</i> son también User Defined Functions, por lo general los Pandas UDF son más eficientes que los UDF tradicionales, sin embargo, hay un bug con la versión de PySpark y de Java que se está usando, lo que previene la utilización de Pandas_UDF.\n",
        "\n",
        "3. Si al ejecutar la configuración de la sesión Spark le aparece el error <i>Cannot run multiple SparkContexts at once; existing SparkContext(app=pyspark-shell, master=local[*])</i> Reinicie el kernel y vuelva a ejecutar\n"
      ]
    },
    {
      "cell_type": "code",
      "execution_count": null,
      "metadata": {
        "id": "0JxEJmKnPn3h"
      },
      "outputs": [],
      "source": []
    }
  ],
  "metadata": {
    "colab": {
      "collapsed_sections": [
        "qxN27II0Pn3T",
        "GnAScmClPn3W",
        "UuZspay3Pn3Z",
        "ZHLs1H0hPn3b",
        "QgkzeSm4Pn3b",
        "LZyQcqCvPn3c",
        "eDf54JyKPn3d",
        "ltTluhtIPn3e",
        "IPhtXcD1Pn3g",
        "-axExLnhPn3g",
        "YfSMeXZQPn3g"
      ],
      "name": "MISW-ETL-Entendimiento.ipynb",
      "provenance": []
    },
    "kernelspec": {
      "display_name": "Python 3",
      "language": "python",
      "name": "python3"
    },
    "language_info": {
      "codemirror_mode": {
        "name": "ipython",
        "version": 3
      },
      "file_extension": ".py",
      "mimetype": "text/x-python",
      "name": "python",
      "nbconvert_exporter": "python",
      "pygments_lexer": "ipython3",
      "version": "3.12.4"
    },
    "toc-autonumbering": true,
    "toc-showcode": true
  },
  "nbformat": 4,
  "nbformat_minor": 0
}
