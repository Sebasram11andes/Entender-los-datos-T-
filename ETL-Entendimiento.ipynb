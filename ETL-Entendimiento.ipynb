{
  "cells": [
    {
      "cell_type": "markdown",
      "metadata": {
        "id": "YLE3Y7VOPn3G"
      },
      "source": [
        "# Tutorial: Entendimiento de los datos con PySpark"
      ]
    },
    {
      "cell_type": "markdown",
      "metadata": {
        "id": "7wFQzBv_Pn3J"
      },
      "source": [
        "## Introducción\n",
        "    ¿Qué aprenderá? \n",
        "    En este tutorial aprenderá cómo puede realizar el entendimiento de los datos en el contexto de un proyecto de analítica. A nivel de la metodología ASUM-DM estamos en la fase de entendimiento de datos y en la arquitectura nos encontramos trabajando con el componente de fuentes de datos.\n",
        "\n",
        "    ¿Qué construirá? \n",
        "    En este tutorial realizará la exploración o perfilamiento de un conjunto de datos provenientes de una base de datos relacional, al igual que un análisis de la calidad de los datos utilizando los DataFrames de PySpark. Además, generará las conclusiones requeridas para ser compartidas en reuniones y formalizadas en la documentación del proyecto. Las conclusiones son variadas pero en general podemos decir que siempre deberían incluir una lista de preguntas o aclaraciones para la organización, conclusiones de los datos/problemas de calidad y alternativas para la limpieza. Un entendimiento de datos sin conclusiones no es útil y tampoco es entendible para personas de negocio.\n",
        "    \n",
        "    ¿Para qué?\n",
        "    Antes de realizar cualquier tipo de proyecto de datos es necesario entender los datos con unas tareas de exploración o perfilamiento de datos y de análisis de calidad. Esta fase de la metodología permite determinar si es posible o no realizar el proyecto dada la cantidad y calidad de los datos, el tiempo requerido para su preparación y las diferentes actividades que se requieren para mejorar los datos en caso de requerirse.  \n",
        "    \n",
        "    ¿Qué necesita?\n",
        "    Los siguientes requisitos se encuentran instalados en la máquina virtual asignada a cada estudiante, específicamente en el ambiente de anaconda llamado \"Tutoriales\". Recuerde que tiene a su disposición el tutorial de conexión a máquinas virtuales en la semana 1 de Coursera\n",
        "    1. Python 3 con pip instalado\n",
        "    2. Jupyter Labs\n",
        "    3. Paquetes: Pyspark (3.2.1), pandas (1.2.1), numpy (1.20.0) y matplotlib (3.3.4)\n",
        "    Otros:\n",
        "    1. Controlador Connector J(ya se encuentra configurado)\n",
        "    2. Acceso a servidor remoto MySQL con base de datos relacional \"WWImportersTransactional\". Recuerde que tiene a su disposición el tutorial de conexión remoto a Mysql en la semana 1 de Coursera\n"
      ]
    },
    {
      "cell_type": "markdown",
      "metadata": {
        "id": "V3leWyj9Pn3L"
      },
      "source": [
        "Continuando con el proyecto de consultoria de Wide World Importers, el primer paso para iniciar la comprensión de los datos es explorar y entender las fuentes de datos disponibles. Note que esto también nos ayuda a comprender mejor la organización."
      ]
    },
    {
      "cell_type": "markdown",
      "metadata": {
        "id": "dm33nuYTPn3L"
      },
      "source": [
        "## Configuración e importe de paquetes\n",
        "Se utilizará el paquete de pandas profiling para apoyar el análisis estadístico, y se importan los paquetes de python\n",
        "necesarios"
      ]
    },
    {
      "cell_type": "code",
      "execution_count": 1,
      "metadata": {
        "id": "gGiDdRBNPn3M"
      },
      "outputs": [],
      "source": [
        "from pyspark.sql import SparkSession\n",
        "from pyspark.sql import functions\n",
        "from pyspark.sql.types import StructType\n",
        "from pyspark import SparkContext, SparkConf, SQLContext\n",
        "from pyspark.sql.types import FloatType, StringType, IntegerType, DateType\n",
        "from pyspark.sql.functions import udf, col, length, isnan, when, count\n",
        "import pyspark.sql.functions as f\n",
        "import os \n",
        "from datetime import datetime\n",
        "from pyspark.sql import types as t\n",
        "from ydata_profiling import ProfileReport\n",
        "#from pandas_profiling import ProfileReport\n",
        "import matplotlib.pyplot as plt\n",
        "import numpy as np"
      ]
    },
    {
      "cell_type": "markdown",
      "metadata": {
        "id": "Tyk0YmZRPn3N"
      },
      "source": [
        "Configuración del controlador e inicio de sesion Spark"
      ]
    },
    {
      "cell_type": "code",
      "execution_count": 2,
      "metadata": {
        "id": "0r-yix1rPn3O"
      },
      "outputs": [],
      "source": [
        "path_jar_driver = 'C:\\\\Users\\\\ramirju1\\\\Personel docs\\\\Andes\\\\MySQL\\\\mysql-connector-java-8.0.28\\\\mysql-connector-java-8.0.28.jar'"
      ]
    },
    {
      "cell_type": "code",
      "execution_count": 3,
      "metadata": {
        "id": "0-m3Q2MtPn3O",
        "outputId": "459f0ec2-9a36-4a36-edac-427852524d95"
      },
      "outputs": [
        {
          "name": "stderr",
          "output_type": "stream",
          "text": [
            "c:\\Users\\ramirju1\\AppData\\Local\\Programs\\Python\\Python312\\Lib\\site-packages\\pyspark\\sql\\context.py:113: FutureWarning: Deprecated in 3.0.0. Use SparkSession.builder.getOrCreate() instead.\n",
            "  warnings.warn(\n"
          ]
        }
      ],
      "source": [
        "#Configuración de la sesión\n",
        "conf=SparkConf() \\\n",
        "    .set('spark.driver.extraClassPath', path_jar_driver)\n",
        "\n",
        "spark_context = SparkContext(conf=conf)\n",
        "sql_context = SQLContext(spark_context)\n",
        "spark = sql_context.sparkSession"
      ]
    },
    {
      "cell_type": "code",
      "execution_count": 4,
      "metadata": {
        "id": "0eQw66SIPn3P"
      },
      "outputs": [],
      "source": [
        "# Si quiere practicar la conexion con el servidor de base de datos:\n",
        "db_connection_string = 'jdbc:mysql://157.253.236.120:8080/WWImportersTransactional'\n",
        "# El usuario es su estudiante _i asignado y su contraseña la encontrará en el archivo excel de Coursera \n",
        "db_user = 'Estudiante_70_202415'\n",
        "db_psswd = 'Estudiante_202421147'\n",
        "\n",
        "PATH='./'"
      ]
    },
    {
      "cell_type": "markdown",
      "metadata": {
        "id": "P1nkSAn5Pn3Q"
      },
      "source": [
        "## Perfilamiento de los datos\n",
        "El perfilamiento se basa en varios aspectos: **entendimiento general** de los datos compartidos, validación de **reglas de negocio**, **análisis descriptivo** utilizando estadística descriptiva y diagramas para la visualización de los datos y **análisis de calidad**. El primero hace referencia a tener una comprensiòn global antes de entrar en los detalles, la segunda sobre las reglas, corresponden a especificaciones dadas por el negocio en relación con los datos, un ejemplo de regla de negocio dada es: \"Todo producto de la canasta familiar debe tener un precio de IVA equivalente a 19%\", dada esta regla de negocio, se debe revisar en los datos suministrados que no hayan valores de IVA menores a 19%. En el tercer aspecto, relacionado con el análisis descriptivo, se revisan estadísticas: mínimo, máximo, media, mediana, distribuciones de los datos, valores nulos, cardinalidad con el fin de comprender en mayor nivel de profundidad los datos compartidos.\n"
      ]
    },
    {
      "cell_type": "markdown",
      "metadata": {
        "id": "p6KvbuvpPn3Q"
      },
      "source": [
        "### Información dada por la organización relacionada con los datos\n",
        "El grupo de consultores de analitica descriptiva de Wide World Importers asegura que las tablas Grupo de compras, Ciudades, Colores, Paises, Clientes, Categorias de clientes, Paquetes, Estados y provincias, Productos y Personas ya fueron perfiladas y corregidos; sin embargo le recomiendan revisar el diccionario suministrado dado que todas las tablas serán utilizadas en futuros requerimientos (tutoriales y ejercicios) que lo encuentra [aqui](./Diccionario%20WWImporters.xlsx). Si tienen alguna duda relacionada con estas tablas deben incluirla en las preguntas o aclaraciones que le entreguen a la organización como parte del resultado de esta fase de entendimiento.\n",
        "\n",
        "En este punto de la consultorìa, nuestra responsabilidad es analizar las tablas ordenes y detalles de ordenes, relacionadas con al proceso de ordenes de compra de productos. Con respecto a esas fuentes nos comentan lo siguiente:\n",
        "\n",
        "- La tasa de impuesto es de 10% o 15%\n",
        "- Son 74.179 órdenes detalladas en 57.981 lineas de detalle de órdenes realizadas desde 2013\n",
        "- El formato de fechas manejado es YYYY-MM-DD HH:MM:SS si tienen hora, minutos y segundos. De lo contrario el formato es YYYY-MM-DD\n"
      ]
    },
    {
      "cell_type": "markdown",
      "metadata": {
        "id": "Xw96w3ywPn3R"
      },
      "source": [
        "### Conexión a fuente de datos y acceso a los datos"
      ]
    },
    {
      "cell_type": "markdown",
      "metadata": {
        "id": "LKHpN3nzPn3R"
      },
      "source": [
        "#### Conexión a fuente de datos\n",
        "A continuación encuentra las funciones para conectarse a la fuente de datos (archivo csv o base de datos) y retornar un dataframe que es el que se utilizará posteriormente para manipular los datos."
      ]
    },
    {
      "cell_type": "code",
      "execution_count": 5,
      "metadata": {
        "id": "SsdwInchPn3R"
      },
      "outputs": [],
      "source": [
        "def obtener_dataframe_de_bd(db_connection_string, sql, db_user, db_psswd):\n",
        "    df_bd = spark.read.format('jdbc')\\\n",
        "        .option('url', db_connection_string) \\\n",
        "        .option('dbtable', sql) \\\n",
        "        .option('user', db_user) \\\n",
        "        .option('password', db_psswd) \\\n",
        "        .option('driver', 'com.mysql.cj.jdbc.Driver') \\\n",
        "        .load()\n",
        "    return df_bd"
      ]
    },
    {
      "cell_type": "markdown",
      "metadata": {
        "id": "3HZloEq5Pn3S"
      },
      "source": [
        "#### Cargue de datos\n",
        "Para consultar desde la base de datos se puede acceder directamente a la tabla dado su nombre o se puede especificar la sentencia SQL de un \"SELECT\" completo para traer la información total o parcial de la tabla que se requiere. A continuación un ejemplo de cada uno de estos usos. \n",
        "Acceso directo para el caso de órdenes y acceso con sentencia SQL para el caso de detallesOrdenes."
      ]
    },
    {
      "cell_type": "code",
      "execution_count": 6,
      "metadata": {
        "id": "xMaQViPnPn3S"
      },
      "outputs": [],
      "source": [
        "sql_ordenes = 'WWImportersTransactional.OrdenesCopia'"
      ]
    },
    {
      "cell_type": "code",
      "execution_count": 7,
      "metadata": {
        "id": "fDRojcVMPn3S"
      },
      "outputs": [],
      "source": [
        "sql_detallesOrdenes = '''(SELECT \n",
        "        Detalle_orden_ID, \n",
        "        ID_de_pedido, \n",
        "        ID_Producto, \n",
        "        Descripcion, \n",
        "        ID_Tipo_Paquete, \n",
        "        Cantidad, \n",
        "        Precio_unitario, \n",
        "        Tasa_de_impuesto, \n",
        "        Cantidad_seleccionada, \n",
        "        Seleccion_completada_cuando \n",
        "        FROM WWImportersTransactional.DetallesOrdenesCopia) AS Compatible'''"
      ]
    },
    {
      "cell_type": "code",
      "execution_count": 8,
      "metadata": {
        "id": "Ajy_XMshPn3T"
      },
      "outputs": [],
      "source": [
        "#Se cargan los dataframes desde la base de datos\n",
        "ordenes = obtener_dataframe_de_bd(db_connection_string, sql_ordenes, db_user, db_psswd)\n",
        "detallesOrdenes = obtener_dataframe_de_bd(db_connection_string, sql_detallesOrdenes, db_user, db_psswd)"
      ]
    },
    {
      "cell_type": "markdown",
      "metadata": {
        "id": "qxN27II0Pn3T"
      },
      "source": [
        "### Entendimiento general de datos"
      ]
    },
    {
      "cell_type": "markdown",
      "metadata": {
        "id": "BMULJYE2Pn3T"
      },
      "source": [
        "Para ver una muestra de los datos, utilice el comando <i>show</i> ingresando el número de filas que quiere ver"
      ]
    },
    {
      "cell_type": "code",
      "execution_count": 9,
      "metadata": {
        "id": "HtrqSl0zPn3T",
        "outputId": "c20c03fc-68d4-4d2e-eb8f-91a06cdd3174"
      },
      "outputs": [
        {
          "name": "stdout",
          "output_type": "stream",
          "text": [
            "+------------+-------------+--------------+------------------------------+-------------------------+----------------------+---------------+-------------------------+--------------------------------------+-------------------------------------------+-----------+------------------------+--------------------+---------------------------+\n",
            "|ID_de_pedido|ID_de_cliente|ID_de_vendedor|Seleccionado_por_ID_de_persona|ID_de_persona_de_contacto|ID_de_pedido_pendiente|Fecha_de_pedido|Fecha_de_entrega_esperada|Numero_de_pedido_de_compra_del_cliente|Pedido_pendiente_de_suministro_insuficiente|Comentarios|Instrucciones_de_entrega|Comentarios_internos|Seleccion_completada_cuando|\n",
            "+------------+-------------+--------------+------------------------------+-------------------------+----------------------+---------------+-------------------------+--------------------------------------+-------------------------------------------+-----------+------------------------+--------------------+---------------------------+\n",
            "|       44495|          139|             6|                            18|                     1277|                  NULL|    Mar 05,2015|               2015-03-06|                                 13118|                                       true|       NULL|                    NULL|                NULL|        2015-03-06 11:00:00|\n",
            "|       45625|          892|            15|                            17|                     3092|                  NULL|    Mar 24,2015|               2015-03-25|                                 11303|                                       true|       NULL|                    NULL|                NULL|        2015-03-24 11:00:00|\n",
            "|       23645|          542|             8|                             9|                     2283|                  NULL|    Mar 18,2014|               2014-03-19|                                 18340|                                       true|       NULL|                    NULL|                NULL|        2014-03-18 11:00:00|\n",
            "|       47505|          924|            15|                             4|                     3124|                  NULL|    Apr 21,2015|               2015-04-22|                                 18645|                                       true|       NULL|                    NULL|                NULL|        2015-04-21 11:00:00|\n",
            "|       37755|           43|             7|                            10|                     1085|                  NULL|    Nov 11,2014|               2014-11-12|                                 16259|                                       true|       NULL|                    NULL|                NULL|        2014-11-11 11:00:00|\n",
            "+------------+-------------+--------------+------------------------------+-------------------------+----------------------+---------------+-------------------------+--------------------------------------+-------------------------------------------+-----------+------------------------+--------------------+---------------------------+\n",
            "only showing top 5 rows\n",
            "\n"
          ]
        }
      ],
      "source": [
        "ordenes.show(5)"
      ]
    },
    {
      "cell_type": "code",
      "execution_count": 10,
      "metadata": {
        "id": "MyjWrCe-Pn3T",
        "outputId": "cd7b96e1-d88a-4aef-a525-cc8b810e21d1"
      },
      "outputs": [
        {
          "name": "stdout",
          "output_type": "stream",
          "text": [
            "+----------------+------------+-----------+--------------------+---------------+--------+---------------+----------------+---------------------+---------------------------+\n",
            "|Detalle_orden_ID|ID_de_pedido|ID_Producto|         Descripcion|ID_Tipo_Paquete|Cantidad|Precio_unitario|Tasa_de_impuesto|Cantidad_seleccionada|Seleccion_completada_cuando|\n",
            "+----------------+------------+-----------+--------------------+---------------+--------+---------------+----------------+---------------------+---------------------------+\n",
            "|          206857|       65697|        205|Tape dispenser (B...|              7|      60|             32|              15|                   60|        2016-01-27 11:00:00|\n",
            "|          206858|       65698|         45|Developer joke mu...|              7|       3|             13|              15|                    3|        2016-01-27 11:00:00|\n",
            "|          206859|       65698|         72|Ride on toy sedan...|              7|       3|            230|              15|                    3|        2016-01-27 11:00:00|\n",
            "|          206861|       65698|        115|Superhero action ...|              7|       1|             34|              15|                    1|        2016-01-27 11:00:00|\n",
            "|          206862|       65698|         10|                   a|              7|       5|             32|              15|                    5|        2016-01-27 11:00:00|\n",
            "+----------------+------------+-----------+--------------------+---------------+--------+---------------+----------------+---------------------+---------------------------+\n",
            "only showing top 5 rows\n",
            "\n"
          ]
        }
      ],
      "source": [
        "detallesOrdenes.show(5)"
      ]
    },
    {
      "cell_type": "markdown",
      "metadata": {
        "id": "Q_aZvenTPn3U"
      },
      "source": [
        "Como puede observar en la tabla de ordenes tenemos información **relacionada con el cliente, el empleado y con la órden**. La información del cliente es su identificador <i>ID_de_cliente</i>, el identificador de la persona que eligió la órden <i>seleccionado_por_ID_de_persona</i>, el identificador de la persona de contacto <i>ID_de_persona_de_contacto</i>, el <i>Número_de_pedido_de_compra_del_cliente</i>. La información del empleado es su identificador <i>ID_de_vendedor</i>. La información de la órden es: el identificador de la órden <i>ID_de_pedido</i>, el identificador que indica si es un pedido pendiente <i>ID_de_pedido_pendiente</i>, la fecha en la que se realizó el pedido <i>Fecha_de_pedido</i>, la fecha de entrega esperada del pedido <i>Fecha_de_entrega_esperada</i> y <i>Pedido_pendiente_de_suministro_insuficiente</i> que indica si es un pedido pendiente o no.\n",
        "El esquema de un DataFrame incluye los nombres de las columnas asi como el tipo de dato. Recuerde que tipo de dato (e.g., booleano, caracteres, enteros, flotantes, colecciones) es diferente a tipo de variable (numérica y categórica)."
      ]
    },
    {
      "cell_type": "code",
      "execution_count": 11,
      "metadata": {
        "id": "lLV_ItLhPn3U",
        "outputId": "db9438a4-0a6d-4809-ea99-752add60ad64"
      },
      "outputs": [
        {
          "data": {
            "text/plain": [
              "StructType([StructField('ID_de_pedido', IntegerType(), True), StructField('ID_de_cliente', IntegerType(), True), StructField('ID_de_vendedor', IntegerType(), True), StructField('Seleccionado_por_ID_de_persona', IntegerType(), True), StructField('ID_de_persona_de_contacto', IntegerType(), True), StructField('ID_de_pedido_pendiente', IntegerType(), True), StructField('Fecha_de_pedido', StringType(), True), StructField('Fecha_de_entrega_esperada', StringType(), True), StructField('Numero_de_pedido_de_compra_del_cliente', StringType(), True), StructField('Pedido_pendiente_de_suministro_insuficiente', BooleanType(), True), StructField('Comentarios', StringType(), True), StructField('Instrucciones_de_entrega', StringType(), True), StructField('Comentarios_internos', StringType(), True), StructField('Seleccion_completada_cuando', TimestampType(), True)])"
            ]
          },
          "execution_count": 11,
          "metadata": {},
          "output_type": "execute_result"
        }
      ],
      "source": [
        "ordenes.schema"
      ]
    },
    {
      "cell_type": "markdown",
      "metadata": {
        "id": "seP-zo8JPn3U"
      },
      "source": [
        "Por otra parte, en los detalles de ordenes se tiene **información del pedido y del producto**. Del pedido se tiene el identificador del detalle <i>Detalle_orden_ID</i>, el identificador de la orden a la que está relacionado cada detalle <i>ID_de_pedido</i>, la <i>Cantidad_seleccionada</i> del producto para la orden, la fecha de selección <i>Seleccion_completada_cuando</i>. Del producto tenemos el <i>ID_Producto</i>, su <i>Descripcion</i>, el tipo de paquete <i>ID_Tipo_Paquete</i> (Ej. 1.Bolsa, 4. Caja), la <i>Cantidad</i>, el <i>Precio_unitario</i>, y la <i>Tasa_impuesto</i> asociada a ese producto. Una primera aclaración a solicitar por parte del negocio es cuál es la diferencia entre cantidad y cantidad seleccionada"
      ]
    },
    {
      "cell_type": "code",
      "execution_count": 12,
      "metadata": {
        "id": "0bQrARjCPn3V",
        "outputId": "081c3dac-70e5-4d6f-c33e-051f7e688ec8"
      },
      "outputs": [
        {
          "data": {
            "text/plain": [
              "StructType([StructField('Detalle_orden_ID', IntegerType(), True), StructField('ID_de_pedido', IntegerType(), True), StructField('ID_Producto', IntegerType(), True), StructField('Descripcion', StringType(), True), StructField('ID_Tipo_Paquete', IntegerType(), True), StructField('Cantidad', IntegerType(), True), StructField('Precio_unitario', DecimalType(10,0), True), StructField('Tasa_de_impuesto', DecimalType(10,0), True), StructField('Cantidad_seleccionada', IntegerType(), True), StructField('Seleccion_completada_cuando', TimestampType(), True)])"
            ]
          },
          "execution_count": 12,
          "metadata": {},
          "output_type": "execute_result"
        }
      ],
      "source": [
        "detallesOrdenes.schema"
      ]
    },
    {
      "cell_type": "markdown",
      "metadata": {
        "id": "GJDrzRVHPn3V"
      },
      "source": [
        "**¿Qué es una fila de cada fuente compartida?**\n",
        "Con estos análisis podemos concluir que una fila de órdenes representa la órden realizada por un cliente y atendida por un empleado. Mientras que el detalle de órden coincide con su nombre y contiene el detalle de cada producto solicitado en una órden."
      ]
    },
    {
      "cell_type": "markdown",
      "metadata": {
        "id": "uw09BODdPn3V"
      },
      "source": [
        "Una vez entendida en términos generales la estructura de los datos, es necesario conocer la cantidad de datos disponibles, esto se hace con count() y con columns, que retornan el número de filas y número de columnas respectivamente."
      ]
    },
    {
      "cell_type": "code",
      "execution_count": 13,
      "metadata": {
        "id": "g0Lvl535Pn3V",
        "outputId": "6fb3f30d-2179-4d50-ddd5-4880e28673d8"
      },
      "outputs": [
        {
          "name": "stdout",
          "output_type": "stream",
          "text": [
            "(58320, 10) (88258, 14)\n"
          ]
        }
      ],
      "source": [
        "print((detallesOrdenes.count(), len(detallesOrdenes.columns)),(ordenes.count(), len(ordenes.columns)))"
      ]
    },
    {
      "cell_type": "markdown",
      "metadata": {
        "id": "kqwEyUFpPn3V"
      },
      "source": [
        "**¿Cuantos datos nos compartieron para el proyecto?**\n",
        "En total tenemos 58.320 órdenes y 88.258 detalles de orden y tenemos en total 24 variables a revisar de las cuales 8 son nùmericas asociadas a las órdenes, dos son de tipo fecha y las demás son cadenas de caracteres."
      ]
    },
    {
      "cell_type": "markdown",
      "metadata": {
        "id": "GnAScmClPn3W"
      },
      "source": [
        "### Revisión de reglas de negocio \n",
        "\n",
        "Primero se confirman las reglas proporcionadas por el negocio, la primera que asegura que la tasa de impuesto es de 10% o 15% vemos que no es correcta pues al seleccionar esa columna e indicar que queremos ver los valores distintos que puede tomar se observa únicamente el valor 15"
      ]
    },
    {
      "cell_type": "code",
      "execution_count": 14,
      "metadata": {
        "id": "ssjlV5xbPn3W",
        "outputId": "2ab69e67-fcc0-42c0-bf32-425d65c5118b"
      },
      "outputs": [
        {
          "name": "stdout",
          "output_type": "stream",
          "text": [
            "+----------------+\n",
            "|Tasa_de_impuesto|\n",
            "+----------------+\n",
            "|              15|\n",
            "+----------------+\n",
            "\n"
          ]
        }
      ],
      "source": [
        "detallesOrdenes.select(\"Tasa_de_impuesto\").distinct().show()"
      ]
    },
    {
      "cell_type": "markdown",
      "metadata": {
        "id": "55FLtckZPn3W"
      },
      "source": [
        "Si se quiere saber cuántos registros hay por cada valor posible, existen varias formas de hacerlo, en la siguiente celda se muestra cómo iterar sobre los valores resultado de una consulta y cómo filtrar el número de registros para cada valor usando filter y select where, también se da un ejemplo de uso de group by y agregaciones\n",
        "\n",
        "Pyspark tiene funcionalidades de los DataFrames que permiten explorar los datos por medio de agregaciones y estas funcionan similar a como se usan en SQL\n",
        "\n",
        "Primero, se debe agrupar sobre una columna con el método <i>groupBy</i> y después se pueden realizar agregaciones sobre otras columnas con el método <i>agg</i>. La sintaxis es la siguiente: \n",
        " ``` \n",
        "    DataFrame.groupBy('COLUMN NAME').agg({'COLUMN NAME 1': 'mean', 'COLUMN NAME 2': 'count', 'COLUMN NAME 3': 'max'})\n",
        "  ``` \n",
        "\n",
        "En cualquiera de los 3 casos se observa que el resultado es el mismo"
      ]
    },
    {
      "cell_type": "code",
      "execution_count": 15,
      "metadata": {
        "id": "oF0aFycqPn3W",
        "outputId": "62fc6101-ad21-4e65-b2d2-849c9752d005"
      },
      "outputs": [
        {
          "name": "stdout",
          "output_type": "stream",
          "text": [
            "número de registros con 15% de tasa de impuesto: --Usando filter--58320\n",
            "número de registros con 15% de tasa de impuesto: --Usando Select where--58320\n",
            "+----------------+-----+\n",
            "|Tasa_de_impuesto|count|\n",
            "+----------------+-----+\n",
            "|              15|58320|\n",
            "+----------------+-----+\n",
            "\n"
          ]
        }
      ],
      "source": [
        "for row in detallesOrdenes.select('Tasa_de_impuesto').distinct().collect(): \n",
        "    texto = 'número de registros con '+str(row.Tasa_de_impuesto)+ '% de tasa de impuesto: '\n",
        "    opc1 =\"--Usando filter--\"\n",
        "    print(texto+opc1+str(detallesOrdenes.filter(col('Tasa_de_impuesto')==row.Tasa_de_impuesto).count()))\n",
        "    \n",
        "    opc2 =\"--Usando Select where--\"\n",
        "    print(texto+opc2+str(detallesOrdenes.select().where(col('Tasa_de_impuesto')==row.Tasa_de_impuesto).count()))\n",
        "    opc3 =\"--Usando group by--\"\n",
        "detallesOrdenes.groupBy(\"Tasa_de_impuesto\").count().show()"
      ]
    },
    {
      "cell_type": "markdown",
      "metadata": {
        "id": "rIrRLyudPn3W"
      },
      "source": [
        "La conclusión es entonces que la regla no es completamente cierta, pues en los datos no hay ningun registro con tasa_de_impuesto de 10%, es necesario pedir aclaraciones al negocio en relación a este descubrimiento. La segunda regla de negocio implica conocer el número de registros y de variables que los describen, es decir, el número de filas y columnas del DataFrame respectivamente, esto se logra usando count() y columns"
      ]
    },
    {
      "cell_type": "code",
      "execution_count": 16,
      "metadata": {
        "id": "FzPokPTyPn3W",
        "outputId": "d931d421-b755-496a-f77c-e04c616c7842"
      },
      "outputs": [
        {
          "name": "stdout",
          "output_type": "stream",
          "text": [
            "(58320, 10) (88258, 14)\n"
          ]
        }
      ],
      "source": [
        "print((detallesOrdenes.count(), len(detallesOrdenes.columns)),(ordenes.count(), len(ordenes.columns)))"
      ]
    },
    {
      "cell_type": "markdown",
      "metadata": {
        "id": "M48A5DanPn3X"
      },
      "source": [
        "Podemos concluir que esta regla de negocio no es cierta dado que el número de registros no parece coincidir con el número dado por el negocio, una primera intuición nos dice que podrían haber registros duplicados y si existen hay que reportarlos y eliminarlos en la fase de preparación de los datos. Esta es la primera conclusión del análisis de entendimiento de datos."
      ]
    },
    {
      "cell_type": "code",
      "execution_count": 17,
      "metadata": {
        "id": "yWq4-hOHPn3X",
        "outputId": "03b34472-ec29-47c9-c37a-33e9439e0eb2"
      },
      "outputs": [
        {
          "data": {
            "text/plain": [
              "(58239, 74179)"
            ]
          },
          "execution_count": 17,
          "metadata": {},
          "output_type": "execute_result"
        }
      ],
      "source": [
        "detallesOrdenes.distinct().count(), ordenes.distinct().count() "
      ]
    },
    {
      "cell_type": "markdown",
      "metadata": {
        "id": "1kH3BhCgPn3X"
      },
      "source": [
        "Como pueden ver hay 58.239 detalles de orden y 74.179 ordenes únicas. Es decir que sabemos que hay 14.079 ordenes completamente repetidas, pero entonces ¿por qué el número de detalles de orden que hay en los datos no coincide con el dado por la organización? \n",
        "\n",
        "La respuesta es que no basta solo con revisar si hay registros idénticos, puede que hayan registros con columnas identificadoras o lo que conoceriamos como las llaves primarias repetidas pero con diferentes valores en los otros atributos. Esto se da principalmente cuando las bases de datos están mal construidas, aunque hay casos en los cuales tiene sentido. En cualquier caso es nuestra responsabilidad preveer estos escenarios, por ende se revisan los datos por la llave primaria de esta tabla:"
      ]
    },
    {
      "cell_type": "code",
      "execution_count": 18,
      "metadata": {
        "id": "MTV-XifxPn3X",
        "outputId": "6406990d-b30b-4e99-828a-bacbd587c951"
      },
      "outputs": [
        {
          "data": {
            "text/plain": [
              "57981"
            ]
          },
          "execution_count": 18,
          "metadata": {},
          "output_type": "execute_result"
        }
      ],
      "source": [
        "detallesOrdenes.select(col('Detalle_orden_ID')).distinct().count()"
      ]
    },
    {
      "cell_type": "markdown",
      "metadata": {
        "id": "CxNL9EcuPn3Y"
      },
      "source": [
        "De esta manera vemos que hay una diferencia de 258 registros cuyo identificador es el mismo y vemos que el número de identificadores únicos coincide con el número dado por el negocio, la segunda conclusión es entonces que tenemos 258 registros que representan el mismo detalle de orden pero con valores distintos.\n",
        "\n",
        "Lo siguiente es verificar las fechas en los datos, nos dicen que son ordenes desde 2013 por lo que se revisa la fecha mínima del atributo Fecha_de_pedido, como se observa la fecha mínima es de 2014 enero 1, esto nos indica que la regla de negocio no es correcta o faltan datos, esta es la tercera conclusión"
      ]
    },
    {
      "cell_type": "code",
      "execution_count": 19,
      "metadata": {
        "id": "YOjCx-PyPn3Y",
        "outputId": "fd34900d-de7a-40e4-d317-bf9b1ecc458f"
      },
      "outputs": [
        {
          "name": "stdout",
          "output_type": "stream",
          "text": [
            "+--------------------+\n",
            "|min(Fecha_de_pedido)|\n",
            "+--------------------+\n",
            "|          2014-01-01|\n",
            "+--------------------+\n",
            "\n"
          ]
        }
      ],
      "source": [
        "ordenes.agg({\"Fecha_de_pedido\": \"min\"}).show()"
      ]
    },
    {
      "cell_type": "markdown",
      "metadata": {
        "id": "IwubJmKdPn3Y"
      },
      "source": [
        " ``` \n",
        "Como ve en el comando anterior las agregaciones también se pueden realizar sin un groupBy.\n",
        " ``` "
      ]
    },
    {
      "cell_type": "markdown",
      "metadata": {
        "id": "8_WfDYLHPn3Y"
      },
      "source": [
        "La siguiente regla nos indica que es necesario revisar el formato de las fechas YYYY-MM-DD HH:MM:SS, un ejemplo es el atributo <i>Fecha_de_pedido</i>. Para esto vamos a hacer uso de expresiones regulares, que son patrones de búsqueda, en este caso queremos 4 dígitos entre 0 y 9 que indican el año seguido del símbolo - luego tenemos un número de 2 dígitos que puede empezar con 0 seguido de un número entre 1 y 9 (meses 01 hasta 09) o 1 seguido de 1 o 2 (meses 11 o 12), sigue otro -, y terminamos con un número de 2 dígitos que van desde el día 01 hasta el 31, se usa rlike smilar a LIKE de SQL"
      ]
    },
    {
      "cell_type": "code",
      "execution_count": 20,
      "metadata": {
        "id": "_KzyrNQ_Pn3Y",
        "outputId": "f9029802-04b2-4bd3-fb29-eb32c5dc175a"
      },
      "outputs": [
        {
          "name": "stderr",
          "output_type": "stream",
          "text": [
            "<>:1: SyntaxWarning: invalid escape sequence '\\d'\n",
            "<>:1: SyntaxWarning: invalid escape sequence '\\d'\n",
            "C:\\Users\\ramirju1\\AppData\\Local\\Temp\\ipykernel_12848\\790489988.py:1: SyntaxWarning: invalid escape sequence '\\d'\n",
            "  regex = \"[0-2]\\d{3}-(0[1-9]|1[0-2])-(0[1-9]|[1-2][0-9]|3[0-1])\"\n"
          ]
        },
        {
          "name": "stdout",
          "output_type": "stream",
          "text": [
            "Número total de ordenes: 88258, número de ordenes con formato correcto: 68223\n"
          ]
        }
      ],
      "source": [
        "regex = \"[0-2]\\d{3}-(0[1-9]|1[0-2])-(0[1-9]|[1-2][0-9]|3[0-1])\"\n",
        "cumplenFormato = ordenes.filter(ordenes[\"Fecha_de_pedido\"].rlike(regex))\n",
        "print(\"Número total de ordenes: \"+str(ordenes.count())+\", número de ordenes con formato correcto: \"+str(cumplenFormato.count()))"
      ]
    },
    {
      "cell_type": "markdown",
      "metadata": {
        "id": "JNAo5XdkPn3Y"
      },
      "source": [
        "Para ver los registros que no cumplen con el formato podemos negar la condición del filtro con el símbolo ~ al principio:"
      ]
    },
    {
      "cell_type": "code",
      "execution_count": 21,
      "metadata": {
        "id": "cfRkDawmPn3Z",
        "outputId": "d1e48a40-41de-4df1-8f43-ff2f6294ae4e"
      },
      "outputs": [
        {
          "name": "stdout",
          "output_type": "stream",
          "text": [
            "+---------------+\n",
            "|Fecha_de_pedido|\n",
            "+---------------+\n",
            "|    Mar 05,2015|\n",
            "|    Mar 24,2015|\n",
            "|    Mar 18,2014|\n",
            "|    Apr 21,2015|\n",
            "|    Nov 11,2014|\n",
            "|    Oct 16,2014|\n",
            "|    May 04,2015|\n",
            "|    Nov 24,2014|\n",
            "|    May 07,2015|\n",
            "|    Sep 10,2014|\n",
            "|    Nov 03,2015|\n",
            "|    Dec 19,2014|\n",
            "|    Apr 27,2016|\n",
            "|    Apr 28,2016|\n",
            "|    Sep 23,2014|\n",
            "|    Oct 02,2015|\n",
            "|    Jun 11,2014|\n",
            "|    Feb 17,2014|\n",
            "|    Aug 14,2015|\n",
            "|    Dec 25,2015|\n",
            "+---------------+\n",
            "only showing top 20 rows\n",
            "\n"
          ]
        },
        {
          "data": {
            "text/plain": [
              "(20035, None)"
            ]
          },
          "execution_count": 21,
          "metadata": {},
          "output_type": "execute_result"
        }
      ],
      "source": [
        "noCumplenFormato = ordenes.filter(~ordenes[\"Fecha_de_pedido\"].rlike(regex))\n",
        "noCumplenFormato.count(), noCumplenFormato.select(col(\"Fecha_de_pedido\")).show()"
      ]
    },
    {
      "cell_type": "markdown",
      "metadata": {
        "id": "N7T3ewQWPn3Z"
      },
      "source": [
        "Concluimos entonces, que hay 20.035 registros cuya fecha no cumple con el formato especificado. Sin embargo, los valores que son diferentes parecen serlo solo porque varia el formato, este tipo de casos pueden ser solucionados fácilmente por lo que una notificación al negocio sería con caracter informativo más que para solicitar una aclaración de su parte.\n",
        "\n",
        "Para facilitar los análisis y evitar inconsistencias o conclusiones erradas vamos a estandarizar los datos, en este caso las fechas. Sin embargo, esta actividad puede hacerse sobre formatos de números, texto entre otras. "
      ]
    },
    {
      "cell_type": "markdown",
      "metadata": {
        "id": "eegq6VGqPn3Z"
      },
      "source": [
        "Algo que se debe tener en cuenta en el perfilamiento de reglas de negocio es que dichas reglas pueden estar incompletas, por ende se recomienda tener especial cuidado con las columnas tipo caracter o string dado que suelen ser pasadas por alto en el análisis estadistico, un ejemplo es la columna **Descripcion**, al ser una columna de descripción del producto se espera que tenga un cierto número de caracteres. Sin embargo haciendo la validación vemos que algunas descripciones son textos incompletos como \"a\". Este podría llegar a ser un problema a futuro por lo que se decide notificar a la organización."
      ]
    },
    {
      "cell_type": "code",
      "execution_count": 22,
      "metadata": {
        "id": "ZLHB_pwSPn3Z",
        "outputId": "67a68544-272a-44af-f39f-52dcd5a09d4c"
      },
      "outputs": [
        {
          "name": "stdout",
          "output_type": "stream",
          "text": [
            "+----------------+------------+-----------+-----------+---------------+--------+---------------+----------------+---------------------+---------------------------+\n",
            "|Detalle_orden_ID|ID_de_pedido|ID_Producto|Descripcion|ID_Tipo_Paquete|Cantidad|Precio_unitario|Tasa_de_impuesto|Cantidad_seleccionada|Seleccion_completada_cuando|\n",
            "+----------------+------------+-----------+-----------+---------------+--------+---------------+----------------+---------------------+---------------------------+\n",
            "|          206862|       65698|         10|          a|              7|       5|             32|              15|                    5|        2016-01-27 11:00:00|\n",
            "|          206874|       65701|         47|          a|              7|       5|             13|              15|                    5|        2016-01-27 11:00:00|\n",
            "|          206909|       65711|         37|          a|              7|       5|             13|              15|                    5|        2016-01-27 11:00:00|\n",
            "|          206914|       65712|        119|          a|              7|       5|             32|              15|                    5|        2016-01-27 11:00:00|\n",
            "|          206938|       65719|          1|          a|              7|       5|             25|              15|                    5|        2016-01-27 11:00:00|\n",
            "|          206939|       65719|         62|          a|              7|       5|             25|              15|                    5|        2016-01-27 11:00:00|\n",
            "|          206942|       65720|        128|          a|              7|       5|             32|              15|                    5|        2016-01-27 11:00:00|\n",
            "|          206946|       65722|         30|          a|              7|       5|             13|              15|                    5|        2016-01-27 11:00:00|\n",
            "|          206989|       65737|        119|          a|              7|       5|             32|              15|                    5|        2016-01-28 11:00:00|\n",
            "|          207023|       65747|         15|          a|              7|       5|            240|              15|                    5|        2016-01-28 11:00:00|\n",
            "|          207033|       65750|         62|          a|              7|       5|             25|              15|                    5|        2016-01-28 11:00:00|\n",
            "|          207056|       65756|         60|          a|              7|       5|             25|              15|                    5|        2016-01-28 11:00:00|\n",
            "|          207069|       65760|         52|          a|              7|       5|             13|              15|                    5|        2016-01-28 11:00:00|\n",
            "|          207175|       65790|         44|          a|              7|       5|             13|              15|                    5|        2016-01-28 11:00:00|\n",
            "|          207178|       65791|         21|          a|              7|       5|             13|              15|                    5|        2016-01-28 11:00:00|\n",
            "|          207189|       65798|        175|          a|              7|       5|            240|              15|                    5|        2016-01-29 11:00:00|\n",
            "|          207296|       65827|        151|          a|              7|       5|             16|              15|                    5|        2016-01-29 11:00:00|\n",
            "|          207318|       65833|        213|          a|              7|       5|             87|              15|                    5|        2016-01-29 11:00:00|\n",
            "|          207320|       65834|         39|          a|              7|       5|             13|              15|                    5|        2016-01-29 11:00:00|\n",
            "|          207323|       65836|        107|          a|              7|       5|             25|              15|                    5|        2016-01-29 11:00:00|\n",
            "+----------------+------------+-----------+-----------+---------------+--------+---------------+----------------+---------------------+---------------------------+\n",
            "only showing top 20 rows\n",
            "\n"
          ]
        }
      ],
      "source": [
        "detallesOrdenes.where(length(col(\"Descripcion\")) <= 10).show()"
      ]
    },
    {
      "cell_type": "markdown",
      "metadata": {
        "id": "UuZspay3Pn3Z"
      },
      "source": [
        "### Análisis descriptivo\n",
        "Una vez cubierto lo básico de reglas de negocio, pasamos a perfilamiento estadístico. Para ver estadisticos generales como conteo, mínimo, máximo, desviación estandar y percentiles utilice summary()"
      ]
    },
    {
      "cell_type": "code",
      "execution_count": 23,
      "metadata": {
        "id": "TkWrIdDhPn3Z",
        "outputId": "7d37ef91-452e-49d9-8282-f1676c2b5ea9"
      },
      "outputs": [
        {
          "name": "stdout",
          "output_type": "stream",
          "text": [
            "+-------+-----------------+-----------------+-----------------+------------------------------+-------------------------+----------------------+---------------+-------------------------+--------------------------------------+-----------+------------------------+--------------------+\n",
            "|summary|     ID_de_pedido|    ID_de_cliente|   ID_de_vendedor|Seleccionado_por_ID_de_persona|ID_de_persona_de_contacto|ID_de_pedido_pendiente|Fecha_de_pedido|Fecha_de_entrega_esperada|Numero_de_pedido_de_compra_del_cliente|Comentarios|Instrucciones_de_entrega|Comentarios_internos|\n",
            "+-------+-----------------+-----------------+-----------------+------------------------------+-------------------------+----------------------+---------------+-------------------------+--------------------------------------+-----------+------------------------+--------------------+\n",
            "|  count|            88258|            88258|            88258|                         74688|                    88258|                  9223|          88258|                    88258|                                 88258|          0|                       0|                   0|\n",
            "|   mean|46547.75124068073| 534.582054884543|10.42955879353713|             10.95699443016281|       2234.9136055655013|     46971.11080993169|           NULL|                     NULL|                    14993.604375807292|       NULL|                    NULL|                NULL|\n",
            "| stddev|15608.64492329683|345.8665215804778|5.712593444617196|             5.460278195348016|        800.2809870182093|    15466.668758214684|           NULL|                     NULL|                    2882.0331104310303|       NULL|                    NULL|                NULL|\n",
            "|    min|            19443|                1|                2|                             2|                     1001|                 19532|     2014-01-01|               2014-01-02|                                 10001|       NULL|                    NULL|                NULL|\n",
            "|    25%|            33066|              162|                6|                             6|                     1323|                 33756|           NULL|                     NULL|                               12493.0|       NULL|                    NULL|                NULL|\n",
            "|    50%|            46542|              521|               13|                            11|                     2241|                 47271|           NULL|                     NULL|                               14995.0|       NULL|                    NULL|                NULL|\n",
            "|    75%|            60067|              883|               15|                            16|                     3083|                 60249|           NULL|                     NULL|                               17496.0|       NULL|                    NULL|                NULL|\n",
            "|    max|            73595|             1061|               20|                            20|                     3261|                 73595|    Sep 30,2015|               2016-06-01|                                 20000|       NULL|                    NULL|                NULL|\n",
            "+-------+-----------------+-----------------+-----------------+------------------------------+-------------------------+----------------------+---------------+-------------------------+--------------------------------------+-----------+------------------------+--------------------+\n",
            "\n"
          ]
        }
      ],
      "source": [
        "ordenes.summary().show()"
      ]
    },
    {
      "cell_type": "markdown",
      "metadata": {
        "id": "0zEoTVtOPn3Z"
      },
      "source": [
        "En las estadísticas anteriores vemos que las columnas Comentarios, Instrucciones_de_entrega y Comentarios_internos tienen un conteo igual a 0, es decir son columnas vacías por lo que s epueden eliminar, también observamos el calculo de la media para las columnas ID, esto se hace automatico pues son columnas cuyo tipo de dato es numerico, sin embargo estas no son variables numericas por lo cual calcular y/o analizar la media no tiene sentido. La lógica es similar para los otros estadísticos, aunque podemos decir que los ID's de pedido van desde el número 19443 hasta el 73595 por ejemplo"
      ]
    },
    {
      "cell_type": "code",
      "execution_count": 24,
      "metadata": {
        "id": "wMmvsIpSPn3a",
        "outputId": "0dc954ac-a0a3-4e34-9850-b8890f7be3fb"
      },
      "outputs": [
        {
          "name": "stdout",
          "output_type": "stream",
          "text": [
            "+-------+------------------+------------------+------------------+--------------------+---------------+------------------+-----------------+----------------+---------------------+\n",
            "|summary|  Detalle_orden_ID|      ID_de_pedido|       ID_Producto|         Descripcion|ID_Tipo_Paquete|          Cantidad|  Precio_unitario|Tasa_de_impuesto|Cantidad_seleccionada|\n",
            "+-------+------------------+------------------+------------------+--------------------+---------------+------------------+-----------------+----------------+---------------------+\n",
            "|  count|             58320|             58320|             58320|               58320|          58320|             58320|            57337|           58320|                58320|\n",
            "|   mean|152909.77184499314| 91440.73607681756|111.83144718792867|                NULL|            7.0|213.03914609053498|          44.5468|         15.0000|    39.74422153635117|\n",
            "| stddev| 72929.99490225241|29085.094720342793| 64.32670239320214|                NULL|            0.0|41408.532099263495|139.4458195075212|             0.0|   55.379265731608136|\n",
            "|    min|                21|                34|                 1|\"The Gu\" red shir...|              7|                 1|                1|              15|                    0|\n",
            "|    25%|             90877|             70002|                56|                NULL|              7|                 5|             13.0|            15.0|                    5|\n",
            "|    50%|            180386|             84132|               111|                NULL|              7|                10|             18.0|            15.0|                   10|\n",
            "|    75%|            217010|            115622|               168|                NULL|              7|                70|             32.0|            15.0|                   60|\n",
            "|    max|            231412|            147172|               227|                   a|              7|          10000000|             1899|              15|                  360|\n",
            "+-------+------------------+------------------+------------------+--------------------+---------------+------------------+-----------------+----------------+---------------------+\n",
            "\n"
          ]
        }
      ],
      "source": [
        "detallesOrdenes.summary().show()"
      ]
    },
    {
      "cell_type": "markdown",
      "metadata": {
        "id": "K5ZlLb22Pn3a"
      },
      "source": [
        "En las estadíticas de orden podemos observar que el valor promedio de precio unitario es 44.54, la cantidad promedio es 213 unidades y el promedio de cantidad seleccionada es 39.74\n",
        "\n",
        "En cuanto a la desviación estandar vemos que, por ejemplo, el precio unitario puede variar en más o menos 139.45. El valor mínimo de cantidad es 1 y el máximo es 10'000.000, de cantidad seleccionada el mínimo es 0 y el máximo 360 y de precio unitario el mínimo es 1 y el máximo 1899. Vemos por ejemplo que el valor máximo de Cantidad indica valores anómalos o extremos, pues en su percentil 75% el valor máximo era 70, es decir, para el 75% de los datos, el valor de Cantidad no superaba el 70. Observamos que la columna ID_Tipo_Paquete solo toma el valor 7, que podría ser o no un error, se notifica al negocio.\n",
        "\n",
        "Otras formas de observar distribución o estadísticos son las graficas, de barras, de dispersión, diagramas de caja, entre otros. Por ejemplo tenemos los siguientes diagramas de caja donde se observa claramente que tenemos un valor extremo en la variable cantidad (primer grafico) y donde podemos ver los valores extremos o bigotes que determinan el punto de separación entre valores atípicos y normales, los valores atipicos, los cuartiles entre otros"
      ]
    },
    {
      "cell_type": "code",
      "execution_count": 25,
      "metadata": {
        "id": "dn8Ez79LPn3a",
        "outputId": "4fdf9370-9987-46a8-80c0-8b4c79655534"
      },
      "outputs": [
        {
          "data": {
            "text/plain": [
              "{'whiskers': [<matplotlib.lines.Line2D at 0x24ff02ce510>,\n",
              "  <matplotlib.lines.Line2D at 0x24ff02ce660>],\n",
              " 'caps': [<matplotlib.lines.Line2D at 0x24ff02cea50>,\n",
              "  <matplotlib.lines.Line2D at 0x24ff02ced50>],\n",
              " 'boxes': [<matplotlib.lines.Line2D at 0x24ff02ce1e0>],\n",
              " 'medians': [<matplotlib.lines.Line2D at 0x24ff02cf050>],\n",
              " 'fliers': [<matplotlib.lines.Line2D at 0x24ff02cf2f0>],\n",
              " 'means': []}"
            ]
          },
          "execution_count": 25,
          "metadata": {},
          "output_type": "execute_result"
        },
        {
          "data": {
            "image/png": "[encoded data removed]",
            "text/plain": [
              "<Figure size 640x480 with 1 Axes>"
            ]
          },
          "metadata": {},
          "output_type": "display_data"
        }
      ],
      "source": [
        "%matplotlib inline\n",
        "import matplotlib.pyplot as plt\n",
        "\n",
        "fig1, ax1 = plt.subplots()\n",
        "ax1.set_title('Cantidad de productos')\n",
        "ax1.boxplot(np.array(detallesOrdenes.select('Cantidad').collect()))"
      ]
    },
    {
      "cell_type": "code",
      "execution_count": 26,
      "metadata": {
        "id": "AsMRmF37Pn3a",
        "outputId": "9530d350-dc3e-44ea-fd4f-3e8da68cd702"
      },
      "outputs": [
        {
          "data": {
            "text/plain": [
              "{'whiskers': [<matplotlib.lines.Line2D at 0x24ff1264e60>,\n",
              "  <matplotlib.lines.Line2D at 0x24ff030d7c0>],\n",
              " 'caps': [<matplotlib.lines.Line2D at 0x24ff1264f80>,\n",
              "  <matplotlib.lines.Line2D at 0x24ff1265280>],\n",
              " 'boxes': [<matplotlib.lines.Line2D at 0x24ff1264c20>],\n",
              " 'medians': [<matplotlib.lines.Line2D at 0x24ff1265550>],\n",
              " 'fliers': [<matplotlib.lines.Line2D at 0x24ff1265820>],\n",
              " 'means': []}"
            ]
          },
          "execution_count": 26,
          "metadata": {},
          "output_type": "execute_result"
        },
        {
          "data": {
            "image/png": "[encoded data removed]",
            "text/plain": [
              "<Figure size 640x480 with 1 Axes>"
            ]
          },
          "metadata": {},
          "output_type": "display_data"
        }
      ],
      "source": [
        "fig1, ax1 = plt.subplots()\n",
        "ax1.set_title('Cantidad seleccionada')\n",
        "\n",
        "my_list = [float(i) for i in detallesOrdenes.select(f.collect_list('Cantidad_seleccionada')).first()[0]]\n",
        "ax1.boxplot(my_list)"
      ]
    },
    {
      "cell_type": "markdown",
      "metadata": {
        "id": "c0_4fokYPn3a"
      },
      "source": [
        "El análisis anterior es muy útil para variables de tipo numérico, sin embargo es incompleto para las variables de tipo caracter o las variables categoricas, por ende es necesario implementar nuestro propio código par obtener estadisticos como la moda y la mediana. A continuación obtenemos la moda para la variable Descripcion:"
      ]
    },
    {
      "cell_type": "code",
      "execution_count": 27,
      "metadata": {
        "id": "iz9SiUvHPn3b",
        "outputId": "449aaac6-4825-4104-e748-78056fc4f88f"
      },
      "outputs": [
        {
          "name": "stdout",
          "output_type": "stream",
          "text": [
            "+--------------------+-----+\n",
            "|         Descripcion|count|\n",
            "+--------------------+-----+\n",
            "|                   a| 3225|\n",
            "|Halloween skull m...|  306|\n",
            "|Large  replacemen...|  305|\n",
            "|\"The Gu\" red shir...|  303|\n",
            "|\"The Gu\" red shir...|  296|\n",
            "+--------------------+-----+\n",
            "only showing top 5 rows\n",
            "\n"
          ]
        }
      ],
      "source": [
        "detallesOrdenes.groupby(\"Descripcion\").count().orderBy(\"count\", ascending=False).show(5)"
      ]
    },
    {
      "cell_type": "markdown",
      "metadata": {
        "id": "9bG1x9gWPn3b",
        "tags": []
      },
      "source": [
        "## Análisis de calidad de datos\n",
        "La calidad de los datos consiste en validar la idoneidad de los datos analizando varias dimensiones, entre las cuales resaltamos:\n",
        "- Completitud: Datos que no existen o no se conocen\n",
        "- Unicidad (Duplicidad): Datos que son idénticos en diferentes registros o registros con valores idénticos en atributos en los que no debería ocurrir\n",
        "- Consistencia: Esta medida se define por la validez o integridad del dato, en la definición de su estructura, al interior de una fila o entre diferentes filas de la misma fuente o de diferentes fuentes. El manejo de unidades en los datos y el significado del dato son generadores de inconsistencias.\n",
        "- Validez: a nivel de formato y de sentido de los datos más alla de sus valores\n",
        "\n",
        "Para asegurar una calidad mínima de los datos en estas dimensiones hay que entender su origen y posteriormente realizar un proceso de validación de cada una de las dimensiones de perfilamiento que llevará a un entendimiento de los datos disponibles.\n"
      ]
    },
    {
      "cell_type": "markdown",
      "metadata": {
        "id": "WKPFuI9uPn3b"
      },
      "source": [
        "A continuación se definen dos funciones, la primera cuenta los valores vacios por columna de dataframe, la segunda retorna un diccionario de columnas con cardinalidad superior al 50%\n",
        "\n",
        "Te invito a revisar los recursos de calidad de datos que hemos visto en el curso, a continuacion ejemplos daremos algunos ejemplos por cada dimensión para el caso del tutorial"
      ]
    },
    {
      "cell_type": "markdown",
      "metadata": {
        "id": "ZHLs1H0hPn3b"
      },
      "source": [
        "### Unicidad y validez\n",
        "\n",
        "La unicidad se revisó en la segunda regla de negocio y la validez se reviso en el perfilamiento general, en la regla de negocio 3 y en el análisis de la descripción al final de la sección de revisión de reglas de negocio"
      ]
    },
    {
      "cell_type": "markdown",
      "metadata": {
        "id": "QgkzeSm4Pn3b"
      },
      "source": [
        "### Completitud y validez"
      ]
    },
    {
      "cell_type": "code",
      "execution_count": 28,
      "metadata": {
        "id": "mIWH-vVoPn3b"
      },
      "outputs": [],
      "source": [
        "def contar_vacios(df):\n",
        "    resultados = []\n",
        "    for c in df.columns:\n",
        "        vacios = df.filter(df[c].isNull()).count()\n",
        "        if vacios!=0:\n",
        "            print('número de vacíos para columna '+c+': '+str( vacios ))\n",
        "            resultados.append(vacios)\n",
        "    return resultados\n",
        "\n",
        "def cardinalidad(df):\n",
        "    resultado = {}\n",
        "    for c in df.columns:\n",
        "        cardinalidad = df.select(col(c)).distinct().count()\n",
        "        if cardinalidad>=df.count()*0.5:\n",
        "            resultado[c] = cardinalidad\n",
        "    return resultado"
      ]
    },
    {
      "cell_type": "code",
      "execution_count": 29,
      "metadata": {
        "id": "da_z_ti-Pn3b",
        "outputId": "ecac9b39-d97a-422a-a579-698c5733ab7b"
      },
      "outputs": [
        {
          "name": "stdout",
          "output_type": "stream",
          "text": [
            "ordenes: \n",
            "número de vacíos para columna Seleccionado_por_ID_de_persona: 13570\n",
            "número de vacíos para columna ID_de_pedido_pendiente: 79035\n",
            "número de vacíos para columna Comentarios: 88258\n",
            "número de vacíos para columna Instrucciones_de_entrega: 88258\n",
            "número de vacíos para columna Comentarios_internos: 88258\n",
            "número de vacíos para columna Seleccion_completada_cuando: 4347\n",
            "detalles de ordenes: \n",
            "número de vacíos para columna Precio_unitario: 983\n",
            "número de vacíos para columna Seleccion_completada_cuando: 982\n"
          ]
        }
      ],
      "source": [
        "print('ordenes: ')\n",
        "columnas_vacias_ordenes = contar_vacios(ordenes)\n",
        "print('detalles de ordenes: ')\n",
        "columnas_vacias_detalles = contar_vacios(detallesOrdenes)"
      ]
    },
    {
      "cell_type": "code",
      "execution_count": 30,
      "metadata": {
        "id": "NxXQm_KEPn3c",
        "outputId": "419b9709-25fe-43dd-d63a-a9be645d11f7"
      },
      "outputs": [
        {
          "data": {
            "text/plain": [
              "({'ID_de_pedido': 54145}, {'Detalle_orden_ID': 57981, 'ID_de_pedido': 38742})"
            ]
          },
          "execution_count": 30,
          "metadata": {},
          "output_type": "execute_result"
        }
      ],
      "source": [
        "columnas_alta_cardinalidad_ordenes = cardinalidad(ordenes)\n",
        "columnas_alta_cardinalidad_detalles = cardinalidad(detallesOrdenes)\n",
        "columnas_alta_cardinalidad_ordenes, columnas_alta_cardinalidad_detalles"
      ]
    },
    {
      "cell_type": "markdown",
      "metadata": {
        "id": "vDX10qmfPn3c"
      },
      "source": [
        "Como podemos observar para las ordenes las columnas Seleccionado_por_ID_de_persona tiene 13750 vacios, ID_de_pedido_pendiente: 79035, Comentarios: 88258, Instrucciones_de_entrega: 88258, Comentarios_internos: 88258, Seleccion_completada_cuando: 4347, mientras que para los detalles de ordenes tenemos que las columnas con vacios son Precio_unitario: 983 y Seleccion_completada_cuando: 982. \n",
        "\n",
        "Respecto a cardinalidad, solo la columna Detalle_orden_ID tiene una cardinalidad superior al 50%."
      ]
    },
    {
      "cell_type": "markdown",
      "metadata": {
        "id": "LZyQcqCvPn3c"
      },
      "source": [
        "### Consistencia\n",
        "A nivel de consistencia algunos ejemplos de revisión son precios negativos, productos que aparecen en las ordenes pero que no esten registrados en la tabla de produtos. En nuestro caso vamos a verificar que todas las ordenes tengan detalle de orden y viceversa"
      ]
    },
    {
      "cell_type": "code",
      "execution_count": 31,
      "metadata": {
        "id": "uHEz7IylPn3c",
        "outputId": "0f987de9-4b5e-4532-e42a-a547d3207985"
      },
      "outputs": [
        {
          "data": {
            "text/plain": [
              "(44359, 28956)"
            ]
          },
          "execution_count": 31,
          "metadata": {},
          "output_type": "execute_result"
        }
      ],
      "source": [
        "#consistencia: revisar genially: definicion de consistencia\n",
        "ids_ordenes = set([x.ID_de_pedido for x in ordenes.select('ID_de_pedido').collect()])\n",
        "ids_detalles = set([x.ID_de_pedido for x in detallesOrdenes.select('ID_de_pedido').collect()])\n",
        "\n",
        "len(ids_ordenes-ids_detalles), len(ids_detalles-ids_ordenes)"
      ]
    },
    {
      "cell_type": "markdown",
      "metadata": {
        "id": "oU6a547APn3c"
      },
      "source": [
        "Como se puede observar hay una diferencia de 44.359 ordenes que no tienen detalles y hay 28.956 detalles que no tienen orden. Ninguno de los casos tiene sentido en el contexto de WideWorldImporters. Esta inconsistencia se notifica al negocio dado que no hay forma de conocer cuáles son los registros que pueden tener ids que no existen"
      ]
    },
    {
      "cell_type": "markdown",
      "metadata": {
        "id": "ct4KbukcPn3c"
      },
      "source": [
        "## Herramientas para facilitar el entendimiento de datos"
      ]
    },
    {
      "cell_type": "markdown",
      "metadata": {
        "id": "62jY4uoQPn3d"
      },
      "source": [
        "Algunas de las estadísticas antes desarrolladas pueden obtenerse por medio de herramientas como Pandas Profiling una herramienta muy útil, <b><i>Pero no perfecta ni completa</i></b>, es Pandas profiling que dado un conjunto de datos, nos muestra histogramas, estadísticas etc. A continuación guardamos el reporte en html"
      ]
    },
    {
      "cell_type": "code",
      "execution_count": null,
      "metadata": {
        "colab": {
          "referenced_widgets": [
            "18d36d8316d14fb2b1046fd12e844ae4",
            "2d029404a2994346918423391fc63c41",
            "0ab77442375c4f09ab98151e743deebc",
            "fec3309b395249d6ac3ecb39f2031344"
          ]
        },
        "id": "TlWywoCUPn3d",
        "outputId": "1a013e5c-269b-4099-a169-b2dd14182d8a"
      },
      "outputs": [
        {
          "data": {
            "application/vnd.jupyter.widget-view+json": {
              "model_id": "954ce5921c7440f6a47454d655caa3ca",
              "version_major": 2,
              "version_minor": 0
            },
            "text/plain": [
              "Summarize dataset:   0%|          | 0/5 [00:00<?, ?it/s]"
            ]
          },
          "metadata": {},
          "output_type": "display_data"
        },
        {
          "name": "stderr",
          "output_type": "stream",
          "text": [
            "c:\\Users\\ramirju1\\AppData\\Local\\Programs\\Python\\Python312\\Lib\\site-packages\\ydata_profiling\\model\\pandas\\summary_pandas.py:39: FutureWarning: Downcasting object dtype arrays on .fillna, .ffill, .bfill is deprecated and will change in a future version. Call result.infer_objects(copy=False) instead. To opt-in to the future behavior, set `pd.set_option('future.no_silent_downcasting', True)`\n",
            "  series = series.fillna(np.nan)\n",
            "c:\\Users\\ramirju1\\AppData\\Local\\Programs\\Python\\Python312\\Lib\\site-packages\\ydata_profiling\\model\\pandas\\summary_pandas.py:39: FutureWarning: Downcasting object dtype arrays on .fillna, .ffill, .bfill is deprecated and will change in a future version. Call result.infer_objects(copy=False) instead. To opt-in to the future behavior, set `pd.set_option('future.no_silent_downcasting', True)`\n",
            "  series = series.fillna(np.nan)\n",
            "c:\\Users\\ramirju1\\AppData\\Local\\Programs\\Python\\Python312\\Lib\\site-packages\\ydata_profiling\\model\\pandas\\summary_pandas.py:39: FutureWarning: Downcasting object dtype arrays on .fillna, .ffill, .bfill is deprecated and will change in a future version. Call result.infer_objects(copy=False) instead. To opt-in to the future behavior, set `pd.set_option('future.no_silent_downcasting', True)`\n",
            "  series = series.fillna(np.nan)\n",
            "c:\\Users\\ramirju1\\AppData\\Local\\Programs\\Python\\Python312\\Lib\\site-packages\\ydata_profiling\\model\\pandas\\discretize_pandas.py:52: FutureWarning: Setting an item of incompatible dtype is deprecated and will raise in a future error of pandas. Value '[4 4 0 ... 7 6 2]' has dtype incompatible with int32, please explicitly cast to a compatible dtype first.\n",
            "  discretized_df.loc[:, column] = self._discretize_column(\n",
            "c:\\Users\\ramirju1\\AppData\\Local\\Programs\\Python\\Python312\\Lib\\site-packages\\ydata_profiling\\model\\pandas\\discretize_pandas.py:52: FutureWarning: Setting an item of incompatible dtype is deprecated and will raise in a future error of pandas. Value '[1 8 5 ... 8 8 0]' has dtype incompatible with int32, please explicitly cast to a compatible dtype first.\n",
            "  discretized_df.loc[:, column] = self._discretize_column(\n",
            "c:\\Users\\ramirju1\\AppData\\Local\\Programs\\Python\\Python312\\Lib\\site-packages\\ydata_profiling\\model\\pandas\\discretize_pandas.py:52: FutureWarning: Setting an item of incompatible dtype is deprecated and will raise in a future error of pandas. Value '[2 7 3 ... 0 2 0]' has dtype incompatible with int32, please explicitly cast to a compatible dtype first.\n",
            "  discretized_df.loc[:, column] = self._discretize_column(\n",
            "c:\\Users\\ramirju1\\AppData\\Local\\Programs\\Python\\Python312\\Lib\\site-packages\\ydata_profiling\\model\\pandas\\discretize_pandas.py:52: FutureWarning: Setting an item of incompatible dtype is deprecated and will raise in a future error of pandas. Value '[1 9 5 ... 9 9 0]' has dtype incompatible with int32, please explicitly cast to a compatible dtype first.\n",
            "  discretized_df.loc[:, column] = self._discretize_column(\n"
          ]
        }
      ],
      "source": [
        "reporte = ProfileReport(ordenes.toPandas())\n",
        "reporte.to_file(PATH+\"reporte_prefilamiento_2.html\")"
      ]
    },
    {
      "cell_type": "code",
      "execution_count": 33,
      "metadata": {},
      "outputs": [
        {
          "data": {
            "application/vnd.jupyter.widget-view+json": {
              "model_id": "5a8134ddccd14c5c93886bad65f9d1c1",
              "version_major": 2,
              "version_minor": 0
            },
            "text/plain": [
              "Summarize dataset:   0%|          | 0/5 [00:00<?, ?it/s]"
            ]
          },
          "metadata": {},
          "output_type": "display_data"
        },
        {
          "name": "stderr",
          "output_type": "stream",
          "text": [
            "c:\\Users\\ramirju1\\AppData\\Local\\Programs\\Python\\Python312\\Lib\\site-packages\\ydata_profiling\\model\\pandas\\discretize_pandas.py:52: FutureWarning: Setting an item of incompatible dtype is deprecated and will raise in a future error of pandas. Value '[8 8 8 ... 3 3 9]' has dtype incompatible with int32, please explicitly cast to a compatible dtype first.\n",
            "  discretized_df.loc[:, column] = self._discretize_column(\n",
            "c:\\Users\\ramirju1\\AppData\\Local\\Programs\\Python\\Python312\\Lib\\site-packages\\ydata_profiling\\model\\pandas\\discretize_pandas.py:52: FutureWarning: Setting an item of incompatible dtype is deprecated and will raise in a future error of pandas. Value '[4 4 4 ... 6 6 9]' has dtype incompatible with int32, please explicitly cast to a compatible dtype first.\n",
            "  discretized_df.loc[:, column] = self._discretize_column(\n",
            "c:\\Users\\ramirju1\\AppData\\Local\\Programs\\Python\\Python312\\Lib\\site-packages\\ydata_profiling\\model\\pandas\\discretize_pandas.py:52: FutureWarning: Setting an item of incompatible dtype is deprecated and will raise in a future error of pandas. Value '[9 1 3 ... 2 3 2]' has dtype incompatible with int32, please explicitly cast to a compatible dtype first.\n",
            "  discretized_df.loc[:, column] = self._discretize_column(\n",
            "c:\\Users\\ramirju1\\AppData\\Local\\Programs\\Python\\Python312\\Lib\\site-packages\\ydata_profiling\\model\\pandas\\discretize_pandas.py:52: FutureWarning: Setting an item of incompatible dtype is deprecated and will raise in a future error of pandas. Value '[4 4 4 ... 4 4 4]' has dtype incompatible with int32, please explicitly cast to a compatible dtype first.\n",
            "  discretized_df.loc[:, column] = self._discretize_column(\n",
            "c:\\Users\\ramirju1\\AppData\\Local\\Programs\\Python\\Python312\\Lib\\site-packages\\ydata_profiling\\model\\pandas\\discretize_pandas.py:52: FutureWarning: Setting an item of incompatible dtype is deprecated and will raise in a future error of pandas. Value '[0 0 0 ... 0 0 0]' has dtype incompatible with int32, please explicitly cast to a compatible dtype first.\n",
            "  discretized_df.loc[:, column] = self._discretize_column(\n",
            "c:\\Users\\ramirju1\\AppData\\Local\\Programs\\Python\\Python312\\Lib\\site-packages\\ydata_profiling\\model\\pandas\\discretize_pandas.py:52: FutureWarning: Setting an item of incompatible dtype is deprecated and will raise in a future error of pandas. Value '[1 0 0 ... 0 0 0]' has dtype incompatible with int32, please explicitly cast to a compatible dtype first.\n",
            "  discretized_df.loc[:, column] = self._discretize_column(\n"
          ]
        },
        {
          "data": {
            "application/vnd.jupyter.widget-view+json": {
              "model_id": "5066ac043c7f441c8faa053495c2ba77",
              "version_major": 2,
              "version_minor": 0
            },
            "text/plain": [
              "Generate report structure:   0%|          | 0/1 [00:00<?, ?it/s]"
            ]
          },
          "metadata": {},
          "output_type": "display_data"
        },
        {
          "data": {
            "application/vnd.jupyter.widget-view+json": {
              "model_id": "449d492748564e36b4e0c8b358f97a12",
              "version_major": 2,
              "version_minor": 0
            },
            "text/plain": [
              "Render HTML:   0%|          | 0/1 [00:00<?, ?it/s]"
            ]
          },
          "metadata": {},
          "output_type": "display_data"
        },
        {
          "data": {
            "application/vnd.jupyter.widget-view+json": {
              "model_id": "58324f6aa6704f218383f708631d4b94",
              "version_major": 2,
              "version_minor": 0
            },
            "text/plain": [
              "Export report to file:   0%|          | 0/1 [00:00<?, ?it/s]"
            ]
          },
          "metadata": {},
          "output_type": "display_data"
        }
      ],
      "source": [
        "reporte2 = ProfileReport(detallesOrdenes.toPandas())\n",
        "reporte2.to_file(PATH+\"reporte_prefilamiento_Detalle_Ordenes.html\")"
      ]
    },
    {
      "cell_type": "markdown",
      "metadata": {
        "id": "Ng5FqIGqPn3d"
      },
      "source": [
        "Lo primero que hay que notar es que hay 3 secciones principales. La primera es un resumen, la segunda es un análisis por cada variable y luego tenemos interacciones y correlaciones entre variables. \n",
        "\n",
        "Seccion general del reporte:\n",
        "1. Tenemos 14 variables y 88.258 registros (es decir, ordenes), de las cuales 7 son numericas, 2 categoricas, 1 booleana, 1 datetime y 3 no soportadas (la herramienta entiende tipo de variable como tipo de dato, asi que la información que nos da no es necesariamente correcta en este aspecto).\n",
        "\n",
        "2. En los datos hay 29.3% de datos vacíos, (conclusión)\n",
        "\n",
        "3. El archivo ocupa en memoria 7.5 MB\n",
        "\n",
        "4. De las 88.258 observaciones, el 16.0% de los datos estan duplicados\n",
        "\n",
        "Sección de variables del reporte:\n",
        "\n",
        "5. Note que para cada variable nos dan estadisticos como la media, mínimo y máximo asi como un histograma de distribución de la variable, para nuestros datos no observamos nada por fuera de lo comun. (Como valores extremos)\n",
        "\n",
        "6. La variable ID_de_pedido tiene 61.3% de valores distintos, es decir, es una variable con alta cardinalidad. Este tipo de variables no aportan a las relaciones entre filas o columnas, por lo que suelen no ser útiles a la hora de hacer análitica.\n",
        "\n",
        "7. La variable ID_cliente tiene solo el 0,8% de valores distintos, es decir que las ordenes que tenemos parecen ser de pocos clientes, pero que podrían ser recurrentes o fieles\n",
        "\n",
        "8. Hay 10 empleados en los datos de ordenes\n",
        "\n",
        "9. Seleccionado_por_ID_persona tiene 15,4% de datos vacíos, no es muy alto pero podríamos eliminarla si no es importante. Preguntar al negocio\n",
        "\n",
        "10. ID_de_pedido_pendiente tiene un porcentaje de 89,5% de valores vacíos, es casi constante y las columnas constantes no aportan a los análisis, preguntar al negocio si hay algún inconveniente en borrar esta columna\n",
        "\n",
        "11. Hay 1512 Fecha_de_pedido distintos, siendo el 3 de febrero del 2015 una de las fechas con más número de ordenes\n",
        "\n",
        "12. Fecha_de_entrega_esperada y Seleccion_completada_cuando tienen alta cardinalidad\n",
        "\n",
        "Sección de interacciones y correlaciones:\n",
        "\n",
        "Parecen haber columnas con correlaciones(Spearman) iguales a 1, esto significa que ambas columnas representan la misma información, idealmente no queremos columnas \"repetidas\", un ejemplo es ID_cliente y ID_de_persona_de_contacto, decidimos preguntarle al negocio si es necesario mantener ambas columnas"
      ]
    },
    {
      "cell_type": "markdown",
      "metadata": {
        "id": "cBQ9PDaBPn3d"
      },
      "source": [
        "<b>Cabe aclarar que un pandas profiling sin interpretación no es suficiente como análisis para realizar el entendimiento de los datos.\n",
        "\n",
        "Así mismo, recuerde que si es necesario, se debe utilizar otra herramienta (código, visualizaciones, etc) para poder completar el análisis estadístico.</b>"
      ]
    },
    {
      "cell_type": "markdown",
      "metadata": {
        "id": "eDf54JyKPn3d"
      },
      "source": [
        "### Algunas gráficas utiles: Diagrama de caja, dispersion, histogramas para entender las distribuciones de las variables\n",
        "\n",
        "Generalmente las gráficas se emplean para entender la distribución de cada variable, también sirven para visualizar la relación entre 2 o más variables\n",
        "\n",
        "Algunas gráficas útiles son los histogramas, disepersión, diagramas de caja. Hay varias maneras de implementarlos, con paquetes como matplotlib o pandas, con funciones propias de pyspark, etc, a continuacón mostramos cómo hacerlo a travez de pandas"
      ]
    },
    {
      "cell_type": "code",
      "execution_count": 34,
      "metadata": {
        "id": "HB--WS4-Pn3d",
        "outputId": "c2a41c9f-14f8-4d52-e59c-efc769e414c0"
      },
      "outputs": [
        {
          "data": {
            "text/plain": [
              "array([[<Axes: title={'center': 'Cantidad_seleccionada'}>]], dtype=object)"
            ]
          },
          "execution_count": 34,
          "metadata": {},
          "output_type": "execute_result"
        },
        {
          "data": {
            "image/png": "[encoded data removed]",
            "text/plain": [
              "<Figure size 640x480 with 1 Axes>"
            ]
          },
          "metadata": {},
          "output_type": "display_data"
        }
      ],
      "source": [
        "#para valores extremos(subir a calidad)\n",
        "detallesOrdenes.toPandas().hist(column='Cantidad_seleccionada')"
      ]
    },
    {
      "cell_type": "code",
      "execution_count": 35,
      "metadata": {
        "id": "bJQ6CqOJPn3d"
      },
      "outputs": [],
      "source": [
        "cantidades = detallesOrdenes.groupby(\"Cantidad\").count().orderBy(\"count\", ascending=False)"
      ]
    },
    {
      "cell_type": "markdown",
      "metadata": {
        "id": "YRGn5uXAPn3e"
      },
      "source": [
        "Como se puede observar, el método retorna un dataframe, que vamos a usar para obtener dos arreglos, uno con el rango de cada una de las barras y otro con la cantidad de registros por rango. Se puede usar Matplotlib para graficar esta información:"
      ]
    },
    {
      "cell_type": "code",
      "execution_count": 36,
      "metadata": {
        "id": "wZY56uzKPn3e",
        "outputId": "d2323c1b-d785-49b8-8fd9-b76094b51657"
      },
      "outputs": [
        {
          "data": {
            "image/png": "[encoded data removed]",
            "text/plain": [
              "<Figure size 8060x800 with 1 Axes>"
            ]
          },
          "metadata": {},
          "output_type": "display_data"
        }
      ],
      "source": [
        "def plotHistogramData(data):\n",
        "    binSides, binCounts = [row[0] for row in data.collect()], [row[1] for row in data.collect()]\n",
        "    binSides = [round(i, 2) for i in binSides]\n",
        "    N = len(binCounts)\n",
        "    ind = np.arange(N)\n",
        "    width = 1\n",
        "\n",
        "    fig, ax = plt.subplots()\n",
        "    rects1 = ax.bar(ind+0.5, binCounts, width, color='b')\n",
        "    \n",
        "    fig.set_size_inches(1.3*N, 8)\n",
        "\n",
        "    ax.set_ylabel('Frecuencia')\n",
        "    ax.set_xlabel('Rango')\n",
        "    ax.set_title('Histograma')\n",
        "    ax.set_xticks(np.arange(N))\n",
        "    ax.set_xticklabels(binSides)\n",
        "\n",
        "    plt.show()\n",
        "\n",
        "plotHistogramData(cantidades)"
      ]
    },
    {
      "cell_type": "markdown",
      "metadata": {
        "id": "47eVd0NJPn3e"
      },
      "source": [
        "El diagrama de dispersion, nos muestra los datos para dos variables en forma de puntos y es muy útil para entender la relación entre dichas variables"
      ]
    },
    {
      "cell_type": "code",
      "execution_count": 37,
      "metadata": {
        "id": "T9sdak3YPn3e",
        "outputId": "657049d5-77c5-4414-e4f5-ecf90c7bd343"
      },
      "outputs": [
        {
          "data": {
            "image/png": "[encoded data removed]",
            "text/plain": [
              "<Figure size 1000x600 with 1 Axes>"
            ]
          },
          "metadata": {},
          "output_type": "display_data"
        }
      ],
      "source": [
        "unitPrices = [row['Precio_unitario'] for row in detallesOrdenes.select(col('Precio_unitario')).collect()]\n",
        "quantities = [row['Cantidad_seleccionada'] for row in detallesOrdenes.collect()]\n",
        "\n",
        "fig, ax = plt.subplots(figsize=(10, 6))\n",
        "ax.scatter(x = unitPrices, y = quantities)\n",
        "plt.xlabel(\"Precios unitarios\")\n",
        "plt.ylabel(\"Cantidades\")\n",
        "\n",
        "plt.show()"
      ]
    },
    {
      "cell_type": "markdown",
      "metadata": {
        "id": "ltTluhtIPn3e"
      },
      "source": [
        "### Otras opciones de exploración\n",
        "PySpark también da la opción de crear tablas de pivotes. En el siguiente ejemplo, se muestra cómo hacer una tabla que permite ver cuántas ordenes hay por cada <i>Fecha_de_pedido</i> y por cada <i>ID_de_vendedor</i>, es decir por fecha y por empleado cuantas ordenes existen:"
      ]
    },
    {
      "cell_type": "code",
      "execution_count": 38,
      "metadata": {
        "id": "jTU_GHMIPn3e",
        "outputId": "d5c71e84-8815-4723-c916-d9b7ee138952"
      },
      "outputs": [
        {
          "name": "stdout",
          "output_type": "stream",
          "text": [
            "+---------------+----+---+---+----+----+----+---+----+---+----+\n",
            "|Fecha_de_pedido|   2|  3|  6|   7|   8|  13| 14|  15| 16|  20|\n",
            "+---------------+----+---+---+----+----+----+---+----+---+----+\n",
            "|     2014-12-13|   7|  8|  7|   5|   3|   6|  7|   6|  2|   6|\n",
            "|     2014-05-27|   6|  7|  8|   6|   2|  11|  6|   5| 13|   6|\n",
            "|     2014-02-22|   6|  4|  2|   6|   4|   3|  2|NULL| 11|   7|\n",
            "|     2015-05-01|  22| 13| 17|   2|  14|  13|  9|  11| 19|  16|\n",
            "|    Feb 27,2014|   5|  3|  6|   1|   3|NULL|  3|   3|  7|   1|\n",
            "|     2015-02-09|   2| 13| 15|  18|   8|   6|  6|   7| 15|  15|\n",
            "|    Sep 21,2015|   2|  6|  7|   6|   2|   2|  3|   3|  3|   2|\n",
            "|     2014-07-14|  13| 10| 15|   7|   5|  13| 15|  10| 17|  12|\n",
            "|    Jul 26,2014|   2|  2|  3|   3|   1|   1|  3|NULL|  1|   2|\n",
            "|    May 14,2016|NULL|  3|  2|   5|   1|   4|  3|NULL|  1|   3|\n",
            "|    Aug 22,2015|   1|  1|  2|   4|NULL|   2|  2|   2|  5|   1|\n",
            "|     2014-12-11|  13| 18|  4|   4|   9|  10|  2|  11|  5|   2|\n",
            "|     2015-02-27|  19| 14| 10|  10|  22|  19| 17|  17|  9|  18|\n",
            "|     2016-04-22|   7| 19|  5|   5|   5|   4|  7|  12| 12|  19|\n",
            "|    Jan 03,2015|NULL|  1|  4|   1|   3|   1|  1|NULL|  2|NULL|\n",
            "|     2015-02-28|   9|  4|  5|   6|   5|  13|  8|   3|  8|   8|\n",
            "|     2015-11-20|  11|  6| 11|  10|  23|  15| 15|   9| 16|  21|\n",
            "|    Mar 25,2015|NULL|  2|  5|   4|   3|   5|  2|   4|  3|   3|\n",
            "|     2016-05-21|   3|  4|  3|NULL|   1|   3|  3|   6|  4|   1|\n",
            "|    Oct 14,2014|   4|  4|  3|   1|   4|   4|  5|   5|  1|   3|\n",
            "+---------------+----+---+---+----+----+----+---+----+---+----+\n",
            "only showing top 20 rows\n",
            "\n"
          ]
        }
      ],
      "source": [
        "ordenes.groupBy('Fecha_de_pedido').pivot('ID_de_vendedor').count().show()"
      ]
    },
    {
      "cell_type": "markdown",
      "metadata": {
        "id": "h0eRDQmcPn3f"
      },
      "source": [
        "Otro análisis muy útil es el de la correlación lineal entre dos variables, para ver la matriz de correlacion que mide esta dependencia o la fuerza de la relación lineal entre dos variables vamos a usar pandas, la interpretación es que si entre dos variables A y B  el valor obtenido es cercano a -1 o a 1, se interpreta como que A y B contienen la misma información y por ende no es necesario mantener ambas columnas"
      ]
    },
    {
      "cell_type": "code",
      "execution_count": 39,
      "metadata": {},
      "outputs": [
        {
          "name": "stderr",
          "output_type": "stream",
          "text": [
            "c:\\Users\\ramirju1\\AppData\\Local\\Programs\\Python\\Python312\\Lib\\site-packages\\pandas\\io\\formats\\style.py:3807: RuntimeWarning: All-NaN slice encountered\n",
            "  smin = np.nanmin(gmap) if vmin is None else vmin\n",
            "c:\\Users\\ramirju1\\AppData\\Local\\Programs\\Python\\Python312\\Lib\\site-packages\\pandas\\io\\formats\\style.py:3808: RuntimeWarning: All-NaN slice encountered\n",
            "  smax = np.nanmax(gmap) if vmax is None else vmax\n"
          ]
        },
        {
          "data": {
            "text/html": [
              "<style type=\"text/css\">\n",
              "#T_40849_row0_col0, #T_40849_row1_col1, #T_40849_row2_col2, #T_40849_row4_col4, #T_40849_row5_col5 {\n",
              "  background-color: #b40426;\n",
              "  color: #f1f1f1;\n",
              "}\n",
              "#T_40849_row0_col1 {\n",
              "  background-color: #4c66d6;\n",
              "  color: #f1f1f1;\n",
              "}\n",
              "#T_40849_row0_col2 {\n",
              "  background-color: #4358cb;\n",
              "  color: #f1f1f1;\n",
              "}\n",
              "#T_40849_row0_col3, #T_40849_row1_col3, #T_40849_row2_col3, #T_40849_row3_col0, #T_40849_row3_col1, #T_40849_row3_col2, #T_40849_row3_col3, #T_40849_row3_col4, #T_40849_row3_col5, #T_40849_row4_col3, #T_40849_row5_col3 {\n",
              "  background-color: #000000;\n",
              "  color: #f1f1f1;\n",
              "}\n",
              "#T_40849_row0_col4, #T_40849_row2_col4, #T_40849_row4_col1 {\n",
              "  background-color: #3c4ec2;\n",
              "  color: #f1f1f1;\n",
              "}\n",
              "#T_40849_row0_col5 {\n",
              "  background-color: #3e51c5;\n",
              "  color: #f1f1f1;\n",
              "}\n",
              "#T_40849_row1_col0 {\n",
              "  background-color: #4961d2;\n",
              "  color: #f1f1f1;\n",
              "}\n",
              "#T_40849_row1_col2, #T_40849_row1_col4, #T_40849_row1_col5, #T_40849_row2_col1, #T_40849_row4_col0, #T_40849_row5_col0, #T_40849_row5_col1, #T_40849_row5_col4 {\n",
              "  background-color: #3b4cc0;\n",
              "  color: #f1f1f1;\n",
              "}\n",
              "#T_40849_row2_col0 {\n",
              "  background-color: #4055c8;\n",
              "  color: #f1f1f1;\n",
              "}\n",
              "#T_40849_row2_col5, #T_40849_row5_col2 {\n",
              "  background-color: #e1dad6;\n",
              "  color: #000000;\n",
              "}\n",
              "#T_40849_row4_col2, #T_40849_row4_col5 {\n",
              "  background-color: #3d50c3;\n",
              "  color: #f1f1f1;\n",
              "}\n",
              "</style>\n",
              "<table id=\"T_40849\">\n",
              "  <thead>\n",
              "    <tr>\n",
              "      <th class=\"blank level0\" >&nbsp;</th>\n",
              "      <th id=\"T_40849_level0_col0\" class=\"col_heading level0 col0\" >Detalle_orden_ID</th>\n",
              "      <th id=\"T_40849_level0_col1\" class=\"col_heading level0 col1\" >ID_de_pedido</th>\n",
              "      <th id=\"T_40849_level0_col2\" class=\"col_heading level0 col2\" >ID_Producto</th>\n",
              "      <th id=\"T_40849_level0_col3\" class=\"col_heading level0 col3\" >ID_Tipo_Paquete</th>\n",
              "      <th id=\"T_40849_level0_col4\" class=\"col_heading level0 col4\" >Cantidad</th>\n",
              "      <th id=\"T_40849_level0_col5\" class=\"col_heading level0 col5\" >Cantidad_seleccionada</th>\n",
              "    </tr>\n",
              "  </thead>\n",
              "  <tbody>\n",
              "    <tr>\n",
              "      <th id=\"T_40849_level0_row0\" class=\"row_heading level0 row0\" >Detalle_orden_ID</th>\n",
              "      <td id=\"T_40849_row0_col0\" class=\"data row0 col0\" >1.000000</td>\n",
              "      <td id=\"T_40849_row0_col1\" class=\"data row0 col1\" >0.052772</td>\n",
              "      <td id=\"T_40849_row0_col2\" class=\"data row0 col2\" >0.022949</td>\n",
              "      <td id=\"T_40849_row0_col3\" class=\"data row0 col3\" >nan</td>\n",
              "      <td id=\"T_40849_row0_col4\" class=\"data row0 col4\" >0.003160</td>\n",
              "      <td id=\"T_40849_row0_col5\" class=\"data row0 col5\" >0.003761</td>\n",
              "    </tr>\n",
              "    <tr>\n",
              "      <th id=\"T_40849_level0_row1\" class=\"row_heading level0 row1\" >ID_de_pedido</th>\n",
              "      <td id=\"T_40849_row1_col0\" class=\"data row1 col0\" >0.052772</td>\n",
              "      <td id=\"T_40849_row1_col1\" class=\"data row1 col1\" >1.000000</td>\n",
              "      <td id=\"T_40849_row1_col2\" class=\"data row1 col2\" >-0.007438</td>\n",
              "      <td id=\"T_40849_row1_col3\" class=\"data row1 col3\" >nan</td>\n",
              "      <td id=\"T_40849_row1_col4\" class=\"data row1 col4\" >-0.003613</td>\n",
              "      <td id=\"T_40849_row1_col5\" class=\"data row1 col5\" >-0.008976</td>\n",
              "    </tr>\n",
              "    <tr>\n",
              "      <th id=\"T_40849_level0_row2\" class=\"row_heading level0 row2\" >ID_Producto</th>\n",
              "      <td id=\"T_40849_row2_col0\" class=\"data row2 col0\" >0.022949</td>\n",
              "      <td id=\"T_40849_row2_col1\" class=\"data row2 col1\" >-0.007438</td>\n",
              "      <td id=\"T_40849_row2_col2\" class=\"data row2 col2\" >1.000000</td>\n",
              "      <td id=\"T_40849_row2_col3\" class=\"data row2 col3\" >nan</td>\n",
              "      <td id=\"T_40849_row2_col4\" class=\"data row2 col4\" >0.002252</td>\n",
              "      <td id=\"T_40849_row2_col5\" class=\"data row2 col5\" >0.513602</td>\n",
              "    </tr>\n",
              "    <tr>\n",
              "      <th id=\"T_40849_level0_row3\" class=\"row_heading level0 row3\" >ID_Tipo_Paquete</th>\n",
              "      <td id=\"T_40849_row3_col0\" class=\"data row3 col0\" >nan</td>\n",
              "      <td id=\"T_40849_row3_col1\" class=\"data row3 col1\" >nan</td>\n",
              "      <td id=\"T_40849_row3_col2\" class=\"data row3 col2\" >nan</td>\n",
              "      <td id=\"T_40849_row3_col3\" class=\"data row3 col3\" >nan</td>\n",
              "      <td id=\"T_40849_row3_col4\" class=\"data row3 col4\" >nan</td>\n",
              "      <td id=\"T_40849_row3_col5\" class=\"data row3 col5\" >nan</td>\n",
              "    </tr>\n",
              "    <tr>\n",
              "      <th id=\"T_40849_level0_row4\" class=\"row_heading level0 row4\" >Cantidad</th>\n",
              "      <td id=\"T_40849_row4_col0\" class=\"data row4 col0\" >0.003160</td>\n",
              "      <td id=\"T_40849_row4_col1\" class=\"data row4 col1\" >-0.003613</td>\n",
              "      <td id=\"T_40849_row4_col2\" class=\"data row4 col2\" >0.002252</td>\n",
              "      <td id=\"T_40849_row4_col3\" class=\"data row4 col3\" >nan</td>\n",
              "      <td id=\"T_40849_row4_col4\" class=\"data row4 col4\" >1.000000</td>\n",
              "      <td id=\"T_40849_row4_col5\" class=\"data row4 col5\" >-0.001033</td>\n",
              "    </tr>\n",
              "    <tr>\n",
              "      <th id=\"T_40849_level0_row5\" class=\"row_heading level0 row5\" >Cantidad_seleccionada</th>\n",
              "      <td id=\"T_40849_row5_col0\" class=\"data row5 col0\" >0.003761</td>\n",
              "      <td id=\"T_40849_row5_col1\" class=\"data row5 col1\" >-0.008976</td>\n",
              "      <td id=\"T_40849_row5_col2\" class=\"data row5 col2\" >0.513602</td>\n",
              "      <td id=\"T_40849_row5_col3\" class=\"data row5 col3\" >nan</td>\n",
              "      <td id=\"T_40849_row5_col4\" class=\"data row5 col4\" >-0.001033</td>\n",
              "      <td id=\"T_40849_row5_col5\" class=\"data row5 col5\" >1.000000</td>\n",
              "    </tr>\n",
              "  </tbody>\n",
              "</table>\n"
            ],
            "text/plain": [
              "<pandas.io.formats.style.Styler at 0x1bb7cec0c20>"
            ]
          },
          "execution_count": 39,
          "metadata": {},
          "output_type": "execute_result"
        }
      ],
      "source": [
        "# Convert the DataFrame to Pandas and filter numeric columns only\n",
        "numeric_df = detallesOrdenes.toPandas().select_dtypes(include=[np.number])\n",
        "\n",
        "# Calculate the correlation matrix using Pearson method\n",
        "corr = numeric_df.corr(method='pearson')\n",
        "\n",
        "# Apply the color gradient to visualize the correlation matrix\n",
        "corr.style.background_gradient(cmap='coolwarm')"
      ]
    },
    {
      "cell_type": "markdown",
      "metadata": {
        "id": "kxj4KoVDPn3f"
      },
      "source": [
        "## Conclusiones/resultados"
      ]
    },
    {
      "cell_type": "markdown",
      "metadata": {
        "id": "snq4CGXQPn3f"
      },
      "source": [
        "\n",
        "**Conclusiones generales:**\n",
        "\n",
        "1. En la tabla de ordenes tenemos información **relacionada con el cliente, el empleado y con la órden**. Por otra parte, en los detalles de ordenes se tiene **información del pedido y del producto**\n",
        "2. Una fila de órdenes representa la órden realizada por un cliente y atendida por un empleado. Mientras que el detalle de órden coincide con su nombre y contiene el detalle de cada producto solicitado en una órden.\n",
        "3. ¿cuál es la diferencia entre cantidad y cantidad seleccionada?\n",
        "\n",
        "**Conclusiones de reglas de negocio:**\n",
        "\n",
        "1. La regla 1 no es completamente cierta, pues en los datos no hay ningun registro con tasa_de_impuesto de 10%, es necesario pedir aclaraciones al negocio en relación a este descubrimiento\n",
        "2. La regla 2 no es cierta dado que el número de registros no parece coincidir con el número dado por el negocio, Hay 14.079 ordenes completamente repetidas y 258 registros que representan el mismo detalle de orden pero con valores distintos, los primeros se pueden eliminar, pero ¿qué deberíamos hacer con los segundos?\n",
        "3. Los datos comienzan en enero 1 de 2014, sin embargo la regla 2 nos dice que debería ser desde 2013, ¿es un error o faltan datos?\n",
        "4. Algunos formatos de fecha no coinciden con el dado en la regla 3, por ejemplo del atributo Fecha_de_pedido hay 20 mil registros que no tienen ese formato. En este caso el cambio de formato se puede implementar, ¿estan de acuerdo?\n",
        "5. La descripcion de algunos productos es \"a\", ¿esto es correcto?\n",
        "\n",
        "**Conclusiones de calidad:**\n",
        "\n",
        "1. Las columnas Comentarios, Instrucciones_de_entrega y Comentarios_internos tienen un conteo igual a 0, es decir son columnas vacías por lo que se pueden eliminar\n",
        "2. Vemos por ejemplo que el valor máximo de Cantidad indica valores anómalos o extremos, pues en su percentil 75% el valor máximo era 60, es decir, para el 75% de los datos, el valor de Cantidad no superaba el 70, pero el valor máximo es de 10 millones\n",
        "3. Observamos que la columna ID_Tipo_Paquete solo toma el valor 7, que podría ser o no un error, se notifica al negocio.\n",
        "4. Para las ordenes las columnas Seleccionado_por_ID_de_persona tiene 16662 vacios, ID_de_pedido_pendiente: 96905, Comentarios: 108291, Instrucciones_de_entrega: 108291, Comentarios_internos: 108291, Seleccion_completada_cuando: 5276, mientras que para los detalles de ordenes tenemos que las columnas con vacios son Precio_unitario: 7038 y Seleccion_completada_cuando: 3186.\n",
        "5. Respecto a cardinalidad, solo la columna Detalle_orden_ID tiene una cardinalidad superior al 50%.\n",
        "6. Como se puede observar hay una diferencia de 44.359 ordenes que no tienen detalles y hay 28.956 detalles que no tienen orden. Ninguno de los casos tiene sentido en el contexto de WideWorldImporters. ¿Tienen alguna forma de identificar cual detalle corresponde a cual orden?\n",
        "\n",
        "**Usando herramientas:**\n",
        "\n",
        "Seccion general del reporte:\n",
        "1. Tenemos 14 variables y 88.258 registros (es decir, ordenes), de las cuales 7 son numericas, 2 categoricas, 1 booleana, 1 datetime y 3 no soportadas (la herramienta entiende tipo de variable como tipo de dato, asi que la información que nos da no es necesariamente correcta en este aspecto).\n",
        "\n",
        "2. En los datos hay 29.3% de datos vacíos, (conclusión)\n",
        "\n",
        "3. El archivo ocupa en memoria 7.5 MB\n",
        "\n",
        "4. No hay registros duplicados\n",
        "\n",
        "Sección de variables del reporte:\n",
        "\n",
        "5. Note que para cada variable nos dan estadisticos como la media, mínimo y máximo asi como un histograma de distribución de la variable, para nuestros datos no observamos nada por fuera de lo comun. (Como valores extremos)\n",
        "\n",
        "6. La variable ID_de_pedido tiene 61.3% de valores distintos, es decir, es una variable con alta cardinalidad. Este tipo de variables no aportan a las relaciones entre filas o columnas, por lo que suelen no ser útiles a la hora de hacer análitica.\n",
        "\n",
        "7. La variable ID_cliente tiene solo el 0,8% de valores distintos, es decir que las ordenes que tenemos parecen ser de pocos clientes, pero que podrían ser recurrentes o fieles\n",
        "\n",
        "8. Hay 10 empleados en los datos de ordenes\n",
        "\n",
        "9. Seleccionado_por_ID_persona tiene 15,4% de datos vacíos, no es muy alto pero podríamos eliminarla si no es importante. Preguntar al negocio\n",
        "\n",
        "10. ID_de_pedido_pendiente tiene un porcentaje de 89,5% de valores vacíos, es casi constante y las columnas constantes no aportan a los análisis, preguntar al negocio si hay algún inconveniente en borrar esta columna\n",
        "\n",
        "11. Hay 1512 Fecha_de_pedido distintos, siendo el 3 de febrero del 2015 una de las fechas con más número de ordenes\n",
        "\n",
        "12. Fecha_de_entrega_esperada y Seleccion_completada_cuando tienen alta cardinalidad\n",
        "\n",
        "Sección de correlación:\n",
        "\n",
        "13. Parecen haber columnas con correlaciones(Spearman) iguales a 1, esto significa que ambas columnas representan la misma información, idealmente no queremos columnas \"repetidas\", un ejemplo es ID_cliente y ID_de_persona_de_contacto, decidimos preguntarle al negocio si es necesario mantener ambas columnas\n",
        "\n",
        "**Conclusiones de consultoria**\n",
        "\n",
        "![Requerimiento](./Requerimiento.png)\n",
        "\n",
        "Teniendo en cuenta el requerimiento de WWI, consideramos que es posible llevar a cabo una solucióon pues contamos con la información necesaria especificada en el análisis requerido, sin embargo es necesario realizar correcciones a los datos y obtener aclaraciones de parte del negocio para entender completamente la necesidad de negocio"
      ]
    },
    {
      "cell_type": "markdown",
      "metadata": {
        "id": "RPsIPacsPn3f"
      },
      "source": [
        "Para comprobar su comprensión de esta sección, lo invitamos a responder la pregunta:\n",
        "\n",
        "    ¿Qué funcionalidades de PySpark puedo utilizar para realizar el entendimiento de datos y cómo las puedo utilizar?\n",
        "    \n",
        "Como parte de nuestro trabajo es preveer posibles soluciones a las conclusiones de perfilamiento, por ende lo invitamos a responder:\n",
        "\n",
        "    ¿Qué métodos podría utilizar para reemplazar los valores nulos de una columna por el promedio de la misma?"
      ]
    },
    {
      "cell_type": "markdown",
      "metadata": {},
      "source": [
        "R/SQL para manejo de bases de datos relacionales, tambien mediante algunas funciones basicas como count o groupby se pueden identificar ciertas caracterizticas de los datos. Tambien para profunduziar y obtener un informe completo se puede utilizar la funcion ProfileReport, con ello se creara un informe donde el cual permite entender la correlacion de las variables, la calidad de los datos (Cardinalidad, unicidad, etc). con base en esto, emitir un informe y ciertas preguntas al negocio con el fin de mejorar o entender con mayor precision los datos.\n",
        "\n",
        "R/Haria la suma total de dicha columna, a su vez tomaria la cantidad de filas (sin incluir las nulas), para dividir la suma total en el total de columnas y obtener el promedio, luego con un metodo \"na.fill\" que toma las filas que tenga un dato vacio o nulo y los sustituye por el valor obtenido (promedio). En el siguiente codigo se realiza lo anteriormente descrito:\n",
        "\n",
        "-Calcular el promedio de la columna\n",
        "\n",
        "mean_value = nombre_tabla_.select(mean('columna')).collect()[0][0]\n",
        "\n",
        "-Reemplazar valores nulos por el promedio\n",
        "\n",
        "detallesOrdenes = nombre_tabla_.na.fill({'columna': mean_value})"
      ]
    },
    {
      "cell_type": "markdown",
      "metadata": {
        "id": "cpWpho0CPn3f",
        "tags": [
          "Tarea"
        ]
      },
      "source": [
        "# 5. Tarea\n",
        "Espacio para desarrollar la tarea propuesta "
      ]
    },
    {
      "cell_type": "markdown",
      "metadata": {},
      "source": [
        "Importar librerias"
      ]
    },
    {
      "cell_type": "code",
      "execution_count": 1,
      "metadata": {},
      "outputs": [],
      "source": [
        "from pyspark.sql import SparkSession\n",
        "from pyspark.sql import functions\n",
        "from pyspark.sql.types import StructType\n",
        "from pyspark import SparkContext, SparkConf, SQLContext\n",
        "from pyspark.sql.types import FloatType, StringType, IntegerType, DateType\n",
        "from pyspark.sql.functions import udf, col, length, isnan, when, count\n",
        "import pyspark.sql.functions as f\n",
        "import os \n",
        "from datetime import datetime\n",
        "from pyspark.sql import types as t\n",
        "from ydata_profiling import ProfileReport\n",
        "#from pandas_profiling import ProfileReport\n",
        "import matplotlib.pyplot as plt\n",
        "import numpy as np\n",
        "from pyspark.sql.functions import col, when"
      ]
    },
    {
      "cell_type": "markdown",
      "metadata": {},
      "source": [
        "Unirse a la base de datos y obtener la tabla movimientosCopia"
      ]
    },
    {
      "cell_type": "code",
      "execution_count": 2,
      "metadata": {},
      "outputs": [],
      "source": [
        "path_jar_driver = 'C:\\\\Users\\\\ramirju1\\\\Personel docs\\\\Andes\\\\MySQL\\\\mysql-connector-java-8.0.28\\\\mysql-connector-java-8.0.28.jar'\n",
        "\n"
      ]
    },
    {
      "cell_type": "code",
      "execution_count": 3,
      "metadata": {},
      "outputs": [
        {
          "name": "stderr",
          "output_type": "stream",
          "text": [
            "c:\\Users\\ramirju1\\AppData\\Local\\Programs\\Python\\Python312\\Lib\\site-packages\\pyspark\\sql\\context.py:113: FutureWarning: Deprecated in 3.0.0. Use SparkSession.builder.getOrCreate() instead.\n",
            "  warnings.warn(\n"
          ]
        }
      ],
      "source": [
        "#Configuración de la sesión\n",
        "conf=SparkConf() \\\n",
        "    .set('spark.driver.extraClassPath', path_jar_driver)\n",
        "\n",
        "spark_context = SparkContext(conf=conf)\n",
        "sql_context = SQLContext(spark_context)\n",
        "spark = sql_context.sparkSession"
      ]
    },
    {
      "cell_type": "code",
      "execution_count": 4,
      "metadata": {},
      "outputs": [],
      "source": [
        "#librerias a utilizar (no propuestas en los pasos anteriores)\n",
        "from pyspark.sql.functions import col, sum  \n"
      ]
    },
    {
      "cell_type": "code",
      "execution_count": 5,
      "metadata": {},
      "outputs": [],
      "source": [
        "# Si quiere practicar la conexion con el servidor de base de datos:\n",
        "db_connection_string = 'jdbc:mysql://157.253.236.120:8080/WWImportersTransactional'\n",
        "# El usuario es su estudiante _i asignado y su contraseña la encontrará en el archivo excel de Coursera \n",
        "db_user = 'Estudiante_70_202415'\n",
        "db_psswd = 'Estudiante_202421147'\n",
        "\n",
        "PATH='./'"
      ]
    },
    {
      "cell_type": "code",
      "execution_count": 6,
      "metadata": {},
      "outputs": [],
      "source": [
        "def obtener_dataframe_de_bd(db_connection_string, sql, db_user, db_psswd):\n",
        "    df_bd = spark.read.format('jdbc')\\\n",
        "        .option('url', db_connection_string) \\\n",
        "        .option('dbtable', sql) \\\n",
        "        .option('user', db_user) \\\n",
        "        .option('password', db_psswd) \\\n",
        "        .option('driver', 'com.mysql.cj.jdbc.Driver') \\\n",
        "        .load()\n",
        "    return df_bd"
      ]
    },
    {
      "cell_type": "markdown",
      "metadata": {
        "id": "IPhtXcD1Pn3g"
      },
      "source": [
        "## Perfilamiento de datos"
      ]
    },
    {
      "cell_type": "markdown",
      "metadata": {},
      "source": [
        "Para el perfilamiento de datos sobre la base de datos WWIImporters y haciendo uso de la tabla movimientosCopia, se cargaran a un dataframe dichos datos."
      ]
    },
    {
      "cell_type": "code",
      "execution_count": 7,
      "metadata": {
        "id": "0JCXGvj0Pn3g"
      },
      "outputs": [],
      "source": [
        "#Importar de la base de datos la tabla movimientosCopia\n",
        "sql_movimientos = 'WWImportersTransactional.movimientosCopia'\n",
        "#Se cargan los dataframes desde la base de datos\n",
        "movimientos = obtener_dataframe_de_bd(db_connection_string, sql_movimientos, db_user, db_psswd)"
      ]
    },
    {
      "cell_type": "markdown",
      "metadata": {},
      "source": [
        "Se obtiene el numero de filas y columnas para corroborar la información suministrada por el negocio sobre la base datos o en este caso la tabla de movimientos copia"
      ]
    },
    {
      "cell_type": "code",
      "execution_count": 8,
      "metadata": {},
      "outputs": [
        {
          "name": "stdout",
          "output_type": "stream",
          "text": [
            "204292 9\n"
          ]
        }
      ],
      "source": [
        "#Cantidad de filas y columnas\n",
        "print(movimientos.count(), len(movimientos.columns))"
      ]
    },
    {
      "cell_type": "code",
      "execution_count": 9,
      "metadata": {},
      "outputs": [
        {
          "data": {
            "text/plain": [
              "StructType([StructField('TransaccionProductoID', IntegerType(), True), StructField('ProductoID', IntegerType(), True), StructField('TipoTransaccionID', IntegerType(), True), StructField('ClienteID', DoubleType(), True), StructField('InvoiceID', DoubleType(), True), StructField('ProveedorID', StringType(), True), StructField('OrdenDeCompraID', StringType(), True), StructField('FechaTransaccion', StringType(), True), StructField('Cantidad', DoubleType(), True)])"
            ]
          },
          "execution_count": 9,
          "metadata": {},
          "output_type": "execute_result"
        }
      ],
      "source": [
        "movimientos.schema"
      ]
    },
    {
      "cell_type": "markdown",
      "metadata": {},
      "source": [
        "- Como se puede observar, se obtienen 204.292 filas y se tienen 9 variables, de las cuales 6 son numericas y 3 cadena de caracteres. Por ende se entiende que existe una perdida de información, debido a que el negocio indico que enviarian 236.668 filas, ademas y con base en los puntos anteriores, se entendiende que esto corresponde a que no se suministro informacion desde el año 2013 si no desde el 2014."
      ]
    },
    {
      "cell_type": "code",
      "execution_count": 10,
      "metadata": {},
      "outputs": [
        {
          "name": "stdout",
          "output_type": "stream",
          "text": [
            "+---------------------+----------+-----------------+---------+---------+-----------+---------------+----------------+--------+\n",
            "|TransaccionProductoID|ProductoID|TipoTransaccionID|ClienteID|InvoiceID|ProveedorID|OrdenDeCompraID|FechaTransaccion|Cantidad|\n",
            "+---------------------+----------+-----------------+---------+---------+-----------+---------------+----------------+--------+\n",
            "|               118903|       217|               10|    476.0|  24904.0|           |               |     Apr 25,2014|   -40.0|\n",
            "|               286890|       135|               10|     33.0|  60117.0|           |               |     Dec 10,2015|    -7.0|\n",
            "|               285233|       111|               10|    180.0|  59768.0|           |               |     Dec 04,2015|    -2.0|\n",
            "|               290145|       213|               10|     33.0|  60795.0|           |               |     Dec 23,2015|    -3.0|\n",
            "|               247492|        90|               10|     55.0|  51851.0|           |               |     Jul 27,2015|   -24.0|\n",
            "+---------------------+----------+-----------------+---------+---------+-----------+---------------+----------------+--------+\n",
            "only showing top 5 rows\n",
            "\n"
          ]
        }
      ],
      "source": [
        "movimientos.show(5)"
      ]
    },
    {
      "cell_type": "markdown",
      "metadata": {},
      "source": [
        "- Se identifica que en la tabla movimientos se tiene informacion relacionada con **el movimiento del producto, el proveedor, el cliente y la orden**. La identificacion de la transaccion <i>TransaccionProductoID</i>, identificador del producto </i>_ProductoID_, identificador del tipo de transaccion <i>TipoTransaccionID</i>, identificador del cliente <i>ClienteID</i>, identificador de la factura </i>_InvoiceID_</i>, identificador del proveedor </i>_ProveedorID_</i>, identificador de la orden de compra </i>_OrdenDeCompraID_</i>, fecha de la transaccion <i>FechaTransaccion</i> y la cantidad <i>_Cantidad_</i> del producto relacionado a la transacción ."
      ]
    },
    {
      "cell_type": "markdown",
      "metadata": {},
      "source": [
        "### Idea de una fila:\n",
        "\n",
        "- De acuerdo con los datos mostrados en los pasos anteriores, se puede determinar que una fila de movimientos transaccionales representa el transito de un producto en el inventario, ya sea compras (valores positivos) o ventas (valores negativos), en cuanto a la cantidad se refiere."
      ]
    },
    {
      "cell_type": "markdown",
      "metadata": {},
      "source": [
        "#### Revisión reglas de negocio"
      ]
    },
    {
      "cell_type": "markdown",
      "metadata": {},
      "source": [
        "Primero se revisa si la cantidad máxima de productos movidos es 50 millones por transacción, por lo que se determinara el maximo valor de la columna _Cantidad_ sumada por transaccion, lo que sugiere revisar si en _TransaccionProductoID_ existen valores repetidos, porque en ese sentido deberia sumarse la cantidad por transaccion."
      ]
    },
    {
      "cell_type": "code",
      "execution_count": 11,
      "metadata": {},
      "outputs": [
        {
          "data": {
            "text/plain": [
              "173659"
            ]
          },
          "execution_count": 11,
          "metadata": {},
          "output_type": "execute_result"
        }
      ],
      "source": [
        "movimientos.select(\"TransaccionProductoID\").distinct().count()"
      ]
    },
    {
      "cell_type": "markdown",
      "metadata": {},
      "source": [
        "- Quiere decir que solo 173.659 datos son distintos con respecto a 204.292 que es el total de filas"
      ]
    },
    {
      "cell_type": "markdown",
      "metadata": {},
      "source": [
        "Se agrupa por _TransaccionProductoID_ para obtener el valor de la cantidad por transaccion"
      ]
    },
    {
      "cell_type": "code",
      "execution_count": 27,
      "metadata": {},
      "outputs": [
        {
          "name": "stdout",
          "output_type": "stream",
          "text": [
            "+---------------------+--------------+\n",
            "|TransaccionProductoID|Cantidad_total|\n",
            "+---------------------+--------------+\n",
            "|               334073|        133392|\n",
            "|               331966|        131520|\n",
            "|               330638|        131328|\n",
            "|               328062|        130032|\n",
            "|               327158|        129648|\n",
            "|               325767|        128832|\n",
            "|               324248|        128352|\n",
            "|               323273|        127248|\n",
            "|               317699|        126768|\n",
            "|               317289|        126192|\n",
            "|               315722|        125856|\n",
            "|               316899|        125664|\n",
            "|               310483|        124368|\n",
            "|               305988|        122976|\n",
            "|               306564|        122880|\n",
            "|               301704|        120960|\n",
            "|               301945|        120864|\n",
            "|               298655|        118464|\n",
            "|               290384|        115680|\n",
            "|               283543|        112416|\n",
            "+---------------------+--------------+\n",
            "only showing top 20 rows\n",
            "\n"
          ]
        }
      ],
      "source": [
        "\n",
        "\n",
        "# Convertir la columna 'Cantidad' a integer\n",
        "movimientos = movimientos.withColumn('Cantidad', col('Cantidad').cast('integer'))\n",
        "\n",
        "# Agrupar por 'TransaccionProductoID' y sumar la columna 'Cantidad'\n",
        "resultado = movimientos.groupBy('TransaccionProductoID').agg(sum('Cantidad').alias('Cantidad_total'))\n",
        "\n",
        "# Ordenar por 'Cantidad_total' de forma descendente y mostrar el resultado\n",
        "resultado.orderBy(col('Cantidad_total').desc()).show()"
      ]
    },
    {
      "cell_type": "markdown",
      "metadata": {},
      "source": [
        "- Solo se muestran valores positivos debido a que el orden es de mayor a menor sumando la cantidad de compras (valores positivos) con la cantidad de ventas (valores negativos). "
      ]
    },
    {
      "cell_type": "code",
      "execution_count": 13,
      "metadata": {},
      "outputs": [
        {
          "name": "stdout",
          "output_type": "stream",
          "text": [
            "El valor máximo de la cantidad sumada por transacción es: 133392\n"
          ]
        }
      ],
      "source": [
        "# Agrupar por TransaccionProductoID y sumar la columna cantidad\n",
        "suma_por_transaccion = movimientos.groupBy(\"TransaccionProductoID\") \\\n",
        "                                      .agg(f.sum(\"Cantidad\").alias(\"suma_cantidad\"))\n",
        "\n",
        "# Obtener el valor máximo de la suma de la columna cantidad por TransaccionProductoID\n",
        "max_cantidad = suma_por_transaccion.agg(f.max(\"suma_cantidad\")).collect()[0][0]\n",
        "\n",
        "print(f\"El valor máximo de la cantidad sumada por transacción es: {max_cantidad}\")"
      ]
    },
    {
      "cell_type": "markdown",
      "metadata": {},
      "source": [
        "Tambien se determina el valor maximo de la columna _TransaccionProductoID_ sin realizar ninguna agrupación"
      ]
    },
    {
      "cell_type": "code",
      "execution_count": 14,
      "metadata": {},
      "outputs": [
        {
          "name": "stdout",
          "output_type": "stream",
          "text": [
            "+-------------+\n",
            "|max(Cantidad)|\n",
            "+-------------+\n",
            "|        67368|\n",
            "+-------------+\n",
            "\n"
          ]
        }
      ],
      "source": [
        "movimientos.agg({\"Cantidad\": \"max\"}).show()"
      ]
    },
    {
      "cell_type": "markdown",
      "metadata": {},
      "source": [
        "- Se observa que la cantidad maxima en ambos escenarios, agrupando por _TransaccionProductoID_ y sin la agrupacion, no corresponde a lo indicado por el negocio, por lo que se procedera a notificar este punto."
      ]
    },
    {
      "cell_type": "markdown",
      "metadata": {},
      "source": [
        "Para establecer si existen 236.668 movimientos de producto realizados desde 2013, se validara la fecha minima de la columna _FechaTransaccion_ \n"
      ]
    },
    {
      "cell_type": "code",
      "execution_count": 15,
      "metadata": {},
      "outputs": [
        {
          "name": "stdout",
          "output_type": "stream",
          "text": [
            "+---------------------+\n",
            "|min(FechaTransaccion)|\n",
            "+---------------------+\n",
            "| 2013-12-31 07:00:...|\n",
            "+---------------------+\n",
            "\n"
          ]
        }
      ],
      "source": [
        "movimientos.agg({\"FechaTransaccion\": \"min\"}).show()"
      ]
    },
    {
      "cell_type": "markdown",
      "metadata": {},
      "source": [
        "- En este caso, se debe consultar al negocio al menos el periodo exacto de la base de datos, pues la base de datos si refleja como fecha minima el 2013, pero en esta observacion es el ultimo dia del año 2013, por lo que se procede a preguntar al negocio"
      ]
    },
    {
      "cell_type": "markdown",
      "metadata": {},
      "source": [
        "La tercer regla del negocio es conocer si los movimientos están relacionados con 228.265 clientes, por lo que se identificara cuantos valores distintos existen en la columna _ClienteID_\n"
      ]
    },
    {
      "cell_type": "code",
      "execution_count": 16,
      "metadata": {},
      "outputs": [
        {
          "name": "stdout",
          "output_type": "stream",
          "text": [
            "El número de clientes únicos es: 197136\n"
          ]
        }
      ],
      "source": [
        "# Contar valores igual a 0 en _ClienteID_\n",
        "ceros_cliente = movimientos.filter(movimientos[\"ClienteID\"] == 0).count()\n",
        "# Contar los valores distintos en la columna _ClienteID_\n",
        "clientes_unicos = movimientos.select(\"ClienteID\").count()\n",
        "\n",
        "print(f\"El número de clientes únicos es: { clientes_unicos - ceros_cliente}\")"
      ]
    },
    {
      "cell_type": "markdown",
      "metadata": {},
      "source": [
        "- Con base en las observaciones anteriores se indetifica que los movimientos estan relacionados a 197.136 clientes y no 228.265 clientes, por lo que se procede a comunicar al negocio, pues se podria tratar, y como se ha mencionado anteriormente, de perdida de datos en las bases enviadas."
      ]
    },
    {
      "cell_type": "markdown",
      "metadata": {},
      "source": [
        "Asi como en ejercicios anteriores, se determinara si el formato de fechas manejado es YYYY-MM-DD HH:MM:SS, por lo que se procede a reutilizar el codigo de las anteriores bases."
      ]
    },
    {
      "cell_type": "code",
      "execution_count": 17,
      "metadata": {},
      "outputs": [
        {
          "name": "stderr",
          "output_type": "stream",
          "text": [
            "<>:1: SyntaxWarning: invalid escape sequence '\\d'\n",
            "<>:1: SyntaxWarning: invalid escape sequence '\\d'\n",
            "C:\\Users\\ramirju1\\AppData\\Local\\Temp\\ipykernel_13016\\703442832.py:1: SyntaxWarning: invalid escape sequence '\\d'\n",
            "  regex = \"[0-2]\\d{3}-(0[1-9]|1[0-2])-(0[1-9]|[1-2][0-9]|3[0-1])\"\n"
          ]
        },
        {
          "name": "stdout",
          "output_type": "stream",
          "text": [
            "Número total de ordenes: 204292, número de ordenes con formato correcto: 140038\n"
          ]
        }
      ],
      "source": [
        "regex = \"[0-2]\\d{3}-(0[1-9]|1[0-2])-(0[1-9]|[1-2][0-9]|3[0-1])\"\n",
        "cumplenFormato = movimientos.filter(movimientos[\"FechaTransaccion\"].rlike(regex))\n",
        "print(\"Número total de ordenes: \"+str(movimientos.count())+\", número de ordenes con formato correcto: \"+str(cumplenFormato.count()))"
      ]
    },
    {
      "cell_type": "code",
      "execution_count": 18,
      "metadata": {},
      "outputs": [
        {
          "name": "stdout",
          "output_type": "stream",
          "text": [
            "+----------------+\n",
            "|FechaTransaccion|\n",
            "+----------------+\n",
            "|     Apr 25,2014|\n",
            "|     Dec 10,2015|\n",
            "|     Dec 04,2015|\n",
            "|     Dec 23,2015|\n",
            "|     Jul 27,2015|\n",
            "|     Sep 15,2014|\n",
            "|     Aug 04,2015|\n",
            "|     Feb 23,2015|\n",
            "|     May 01,2015|\n",
            "|     Jan 08,2016|\n",
            "|     Mar 26,2014|\n",
            "|     Jul 31,2015|\n",
            "|     Sep 02,2014|\n",
            "|     Mar 15,2016|\n",
            "|     May 28,2016|\n",
            "|     Sep 09,2015|\n",
            "|     May 23,2014|\n",
            "|     Aug 20,2014|\n",
            "|     Jan 21,2015|\n",
            "|     Dec 29,2015|\n",
            "+----------------+\n",
            "only showing top 20 rows\n",
            "\n"
          ]
        },
        {
          "data": {
            "text/plain": [
              "(64254, None)"
            ]
          },
          "execution_count": 18,
          "metadata": {},
          "output_type": "execute_result"
        }
      ],
      "source": [
        "noCumplenFormato = movimientos.filter(~movimientos[\"FechaTransaccion\"].rlike(regex))\n",
        "noCumplenFormato.count(), noCumplenFormato.select(col(\"FechaTransaccion\")).show()"
      ]
    },
    {
      "cell_type": "markdown",
      "metadata": {},
      "source": [
        "- Del total de filas (204.292), solo 140.038 cumplen con el formato de fecha establecido por el negocio"
      ]
    },
    {
      "cell_type": "markdown",
      "metadata": {},
      "source": [
        "Para concer si actualmente se tienen 13 proveedores, se validara mediante una query que represente en tabla los distintos proveedores de acuerdo a su identificador en la columna _ProveedorID_"
      ]
    },
    {
      "cell_type": "code",
      "execution_count": 19,
      "metadata": {},
      "outputs": [
        {
          "name": "stdout",
          "output_type": "stream",
          "text": [
            "+-----------+\n",
            "|ProveedorID|\n",
            "+-----------+\n",
            "|        1.0|\n",
            "|        4.0|\n",
            "|        7.0|\n",
            "|           |\n",
            "+-----------+\n",
            "\n"
          ]
        }
      ],
      "source": [
        "# Contar los valores distintos en la columna ProveedorID_\n",
        "proveedores_unicos = movimientos.select(\"ProveedorID\").distinct().show()\n",
        "\n"
      ]
    },
    {
      "cell_type": "markdown",
      "metadata": {},
      "source": [
        "- Solo 3 proveedores se muestran en la tabla anterior, por lo que se procedera a notificar al negocio puesto que en las reglas enviadas habian indicado que tienen 13 proveedores, es decir faltarian proveedores por incluir en la tabla o si existe perdida de datos ."
      ]
    },
    {
      "cell_type": "markdown",
      "metadata": {},
      "source": [
        "### Analisis descriptivo"
      ]
    },
    {
      "cell_type": "code",
      "execution_count": 20,
      "metadata": {},
      "outputs": [
        {
          "name": "stdout",
          "output_type": "stream",
          "text": [
            "+-------+---------------------+------------------+-------------------+------------------+-----------------+-----------------+------------------+--------------------+-----------------+\n",
            "|summary|TransaccionProductoID|        ProductoID|  TipoTransaccionID|         ClienteID|        InvoiceID|      ProveedorID|   OrdenDeCompraID|    FechaTransaccion|         Cantidad|\n",
            "+-------+---------------------+------------------+-------------------+------------------+-----------------+-----------------+------------------+--------------------+-----------------+\n",
            "|  count|               204292|            204292|             204292|            204292|           204292|           204292|            204292|              204292|           204292|\n",
            "|   mean|   212458.04047637695|110.70090850351458| 10.035253460732676| 517.3252941867523|42957.26929590978|4.951898734177215|1345.9973277074544|                NULL|719.4997650421946|\n",
            "| stddev|    71352.37579752573| 63.49014746219581|0.18563716955046372|353.50136995999276| 16826.9772221931|1.406311225432683|420.37740964792835|                NULL| 4729.36659747762|\n",
            "|    min|                89146|                 1|                 10|               0.0|              0.0|                 |                  |2013-12-31 07:00:...|             -360|\n",
            "|    25%|               150639|                56|                 10|             145.0|          30120.0|              4.0|             986.0|                NULL|              -60|\n",
            "|    50%|               212323|               110|                 10|             511.0|          43546.0|              4.0|            1347.0|                NULL|               -9|\n",
            "|    75%|               274216|               166|                 10|             877.0|          56983.0|              7.0|            1710.0|                NULL|               -5|\n",
            "|    max|               336251|               227|                 12|            1061.0|          70510.0|              7.0|             999.0|         Sep 30,2015|            67368|\n",
            "+-------+---------------------+------------------+-------------------+------------------+-----------------+-----------------+------------------+--------------------+-----------------+\n",
            "\n"
          ]
        }
      ],
      "source": [
        "movimientos.summary().show()"
      ]
    },
    {
      "cell_type": "markdown",
      "metadata": {},
      "source": [
        "- En la columna cantidad (_Int_), se evidencia que su valor maximo es 67.368 pero 75% de los datos son inferiores a -5. Lo que quiere decir que se trataria de un outlier; en este caso, se comunicara al negocio para entender de este dato, tal vez se trate de una compra al por mayor de un producto especifico y en ese caso se validara con el negocio, si realmente en una sola transaccion hicieron la compra de esa cantidad, ademas, verificar si la rotacion del producto hace parte de la realidad del negocio."
      ]
    },
    {
      "cell_type": "markdown",
      "metadata": {},
      "source": []
    },
    {
      "cell_type": "code",
      "execution_count": 21,
      "metadata": {},
      "outputs": [
        {
          "name": "stdout",
          "output_type": "stream",
          "text": [
            "   ProductoID  total_ventas\n",
            "0         191        173232\n",
            "1         192        167220\n",
            "2         189        136162\n",
            "3         187        132075\n",
            "4         185        131225\n"
          ]
        }
      ],
      "source": [
        "# Filtrar los productos que tengan un ClienteID distinto de 0\n",
        "ventas_filtradas = movimientos.filter(col(\"ClienteID\") != 0)\n",
        "\n",
        "# Cambiar los valores de la columna \"Cantidad\" a absolutos usando la función de PySpark\n",
        "ventas_validas = ventas_filtradas.withColumn(\"cantidad_abs\", f.abs(col(\"Cantidad\")))\n",
        "\n",
        "# Agrupar por ProductoID y sumar las ventas\n",
        "ventas_por_producto = ventas_validas.groupBy(\"ProductoID\") \\\n",
        "                                    .agg(sum(\"cantidad_abs\").alias(\"total_ventas\")) \\\n",
        "                                    .orderBy(\"total_ventas\", ascending=False)\n",
        "\n",
        "# Convertir el resultado a pandas\n",
        "ventas_por_producto_pd = ventas_por_producto.toPandas()\n",
        "\n",
        "# Mostrar los primeros registros del dataframe pandas\n",
        "print(ventas_por_producto_pd.head())"
      ]
    },
    {
      "cell_type": "markdown",
      "metadata": {},
      "source": [
        "- Se evidencia que el productoID 191 es el mas vendidos, de acuerdo a sus cantidades, por lo que seria un producto de alto valor para la empresa y/o generador de ventas e ingresos."
      ]
    },
    {
      "cell_type": "code",
      "execution_count": 22,
      "metadata": {},
      "outputs": [
        {
          "data": {
            "image/png": "[encoded data removed]",
            "text/plain": [
              "<Figure size 1000x600 with 1 Axes>"
            ]
          },
          "metadata": {},
          "output_type": "display_data"
        }
      ],
      "source": [
        "# Crear gráfico de barras\n",
        "plt.figure(figsize=(10, 6))\n",
        "plt.bar(ventas_por_producto_pd[\"ProductoID\"], ventas_por_producto_pd[\"total_ventas\"], color='skyblue')\n",
        "plt.xlabel(\"ProductoID\")\n",
        "plt.ylabel(\"Total Ventas\")\n",
        "plt.title(\"Ventas por Producto (ClienteID != 0)\")\n",
        "plt.xticks(rotation=90)\n",
        "plt.show()\n"
      ]
    },
    {
      "cell_type": "markdown",
      "metadata": {},
      "source": [
        "- Los productos entre los ID´s 180 a 220, son los mas vendidos, por lo que seria correcto preguntarle al negocio si tienen alguna tipologia para dichos ID´s, como productos de tecnologia, para el hogar o de atraccion turistica, esto ayudaria a entender que productos son de alto valor para la empresa puesto que en el kardex se evidencia una venta significativa de estos."
      ]
    },
    {
      "cell_type": "markdown",
      "metadata": {},
      "source": [
        "Con base en las variables vistas se identificara la correlacion de la tabla movimientos, con los siguientes pasos:"
      ]
    },
    {
      "cell_type": "code",
      "execution_count": 23,
      "metadata": {},
      "outputs": [
        {
          "data": {
            "text/html": [
              "<style type=\"text/css\">\n",
              "#T_9c4ef_row0_col0, #T_9c4ef_row1_col1, #T_9c4ef_row2_col2, #T_9c4ef_row3_col3, #T_9c4ef_row4_col4, #T_9c4ef_row5_col5 {\n",
              "  background-color: #b40426;\n",
              "  color: #f1f1f1;\n",
              "}\n",
              "#T_9c4ef_row0_col1, #T_9c4ef_row3_col0 {\n",
              "  background-color: #4257c9;\n",
              "  color: #f1f1f1;\n",
              "}\n",
              "#T_9c4ef_row0_col2, #T_9c4ef_row1_col4 {\n",
              "  background-color: #a7c5fe;\n",
              "  color: #000000;\n",
              "}\n",
              "#T_9c4ef_row0_col3 {\n",
              "  background-color: #88abfd;\n",
              "  color: #000000;\n",
              "}\n",
              "#T_9c4ef_row0_col4 {\n",
              "  background-color: #d55042;\n",
              "  color: #f1f1f1;\n",
              "}\n",
              "#T_9c4ef_row0_col5 {\n",
              "  background-color: #aac7fd;\n",
              "  color: #000000;\n",
              "}\n",
              "#T_9c4ef_row1_col0 {\n",
              "  background-color: #4055c8;\n",
              "  color: #f1f1f1;\n",
              "}\n",
              "#T_9c4ef_row1_col2 {\n",
              "  background-color: #aec9fc;\n",
              "  color: #000000;\n",
              "}\n",
              "#T_9c4ef_row1_col3 {\n",
              "  background-color: #7ea1fa;\n",
              "  color: #f1f1f1;\n",
              "}\n",
              "#T_9c4ef_row1_col5 {\n",
              "  background-color: #a2c1ff;\n",
              "  color: #000000;\n",
              "}\n",
              "#T_9c4ef_row2_col0, #T_9c4ef_row2_col3, #T_9c4ef_row2_col4, #T_9c4ef_row3_col1, #T_9c4ef_row4_col2, #T_9c4ef_row4_col5 {\n",
              "  background-color: #3b4cc0;\n",
              "  color: #f1f1f1;\n",
              "}\n",
              "#T_9c4ef_row2_col1, #T_9c4ef_row5_col1 {\n",
              "  background-color: #455cce;\n",
              "  color: #f1f1f1;\n",
              "}\n",
              "#T_9c4ef_row2_col5 {\n",
              "  background-color: #dc5d4a;\n",
              "  color: #f1f1f1;\n",
              "}\n",
              "#T_9c4ef_row3_col2 {\n",
              "  background-color: #6687ed;\n",
              "  color: #f1f1f1;\n",
              "}\n",
              "#T_9c4ef_row3_col4 {\n",
              "  background-color: #cad8ef;\n",
              "  color: #000000;\n",
              "}\n",
              "#T_9c4ef_row3_col5 {\n",
              "  background-color: #6180e9;\n",
              "  color: #f1f1f1;\n",
              "}\n",
              "#T_9c4ef_row4_col0 {\n",
              "  background-color: #e16751;\n",
              "  color: #f1f1f1;\n",
              "}\n",
              "#T_9c4ef_row4_col1 {\n",
              "  background-color: #3d50c3;\n",
              "  color: #f1f1f1;\n",
              "}\n",
              "#T_9c4ef_row4_col3 {\n",
              "  background-color: #abc8fd;\n",
              "  color: #000000;\n",
              "}\n",
              "#T_9c4ef_row5_col0 {\n",
              "  background-color: #4c66d6;\n",
              "  color: #f1f1f1;\n",
              "}\n",
              "#T_9c4ef_row5_col2 {\n",
              "  background-color: #d95847;\n",
              "  color: #f1f1f1;\n",
              "}\n",
              "#T_9c4ef_row5_col3 {\n",
              "  background-color: #445acc;\n",
              "  color: #f1f1f1;\n",
              "}\n",
              "#T_9c4ef_row5_col4 {\n",
              "  background-color: #4961d2;\n",
              "  color: #f1f1f1;\n",
              "}\n",
              "</style>\n",
              "<table id=\"T_9c4ef\">\n",
              "  <thead>\n",
              "    <tr>\n",
              "      <th class=\"blank level0\" >&nbsp;</th>\n",
              "      <th id=\"T_9c4ef_level0_col0\" class=\"col_heading level0 col0\" >TransaccionProductoID</th>\n",
              "      <th id=\"T_9c4ef_level0_col1\" class=\"col_heading level0 col1\" >ProductoID</th>\n",
              "      <th id=\"T_9c4ef_level0_col2\" class=\"col_heading level0 col2\" >TipoTransaccionID</th>\n",
              "      <th id=\"T_9c4ef_level0_col3\" class=\"col_heading level0 col3\" >ClienteID</th>\n",
              "      <th id=\"T_9c4ef_level0_col4\" class=\"col_heading level0 col4\" >InvoiceID</th>\n",
              "      <th id=\"T_9c4ef_level0_col5\" class=\"col_heading level0 col5\" >Cantidad</th>\n",
              "    </tr>\n",
              "  </thead>\n",
              "  <tbody>\n",
              "    <tr>\n",
              "      <th id=\"T_9c4ef_level0_row0\" class=\"row_heading level0 row0\" >TransaccionProductoID</th>\n",
              "      <td id=\"T_9c4ef_row0_col0\" class=\"data row0 col0\" >1.000000</td>\n",
              "      <td id=\"T_9c4ef_row0_col1\" class=\"data row0 col1\" >0.017905</td>\n",
              "      <td id=\"T_9c4ef_row0_col2\" class=\"data row0 col2\" >-0.001819</td>\n",
              "      <td id=\"T_9c4ef_row0_col3\" class=\"data row0 col3\" >0.021868</td>\n",
              "      <td id=\"T_9c4ef_row0_col4\" class=\"data row0 col4\" >0.859235</td>\n",
              "      <td id=\"T_9c4ef_row0_col5\" class=\"data row0 col5\" >0.060616</td>\n",
              "    </tr>\n",
              "    <tr>\n",
              "      <th id=\"T_9c4ef_level0_row1\" class=\"row_heading level0 row1\" >ProductoID</th>\n",
              "      <td id=\"T_9c4ef_row1_col0\" class=\"data row1 col0\" >0.017905</td>\n",
              "      <td id=\"T_9c4ef_row1_col1\" class=\"data row1 col1\" >1.000000</td>\n",
              "      <td id=\"T_9c4ef_row1_col2\" class=\"data row1 col2\" >0.028463</td>\n",
              "      <td id=\"T_9c4ef_row1_col3\" class=\"data row1 col3\" >-0.009326</td>\n",
              "      <td id=\"T_9c4ef_row1_col4\" class=\"data row1 col4\" >0.001007</td>\n",
              "      <td id=\"T_9c4ef_row1_col5\" class=\"data row1 col5\" >0.028805</td>\n",
              "    </tr>\n",
              "    <tr>\n",
              "      <th id=\"T_9c4ef_level0_row2\" class=\"row_heading level0 row2\" >TipoTransaccionID</th>\n",
              "      <td id=\"T_9c4ef_row2_col0\" class=\"data row2 col0\" >-0.001819</td>\n",
              "      <td id=\"T_9c4ef_row2_col1\" class=\"data row2 col1\" >0.028463</td>\n",
              "      <td id=\"T_9c4ef_row2_col2\" class=\"data row2 col2\" >1.000000</td>\n",
              "      <td id=\"T_9c4ef_row2_col3\" class=\"data row2 col3\" >-0.277915</td>\n",
              "      <td id=\"T_9c4ef_row2_col4\" class=\"data row2 col4\" >-0.484808</td>\n",
              "      <td id=\"T_9c4ef_row2_col5\" class=\"data row2 col5\" >0.833650</td>\n",
              "    </tr>\n",
              "    <tr>\n",
              "      <th id=\"T_9c4ef_level0_row3\" class=\"row_heading level0 row3\" >ClienteID</th>\n",
              "      <td id=\"T_9c4ef_row3_col0\" class=\"data row3 col0\" >0.021868</td>\n",
              "      <td id=\"T_9c4ef_row3_col1\" class=\"data row3 col1\" >-0.009326</td>\n",
              "      <td id=\"T_9c4ef_row3_col2\" class=\"data row3 col2\" >-0.277915</td>\n",
              "      <td id=\"T_9c4ef_row3_col3\" class=\"data row3 col3\" >1.000000</td>\n",
              "      <td id=\"T_9c4ef_row3_col4\" class=\"data row3 col4\" >0.154670</td>\n",
              "      <td id=\"T_9c4ef_row3_col5\" class=\"data row3 col5\" >-0.234709</td>\n",
              "    </tr>\n",
              "    <tr>\n",
              "      <th id=\"T_9c4ef_level0_row4\" class=\"row_heading level0 row4\" >InvoiceID</th>\n",
              "      <td id=\"T_9c4ef_row4_col0\" class=\"data row4 col0\" >0.859235</td>\n",
              "      <td id=\"T_9c4ef_row4_col1\" class=\"data row4 col1\" >0.001007</td>\n",
              "      <td id=\"T_9c4ef_row4_col2\" class=\"data row4 col2\" >-0.484808</td>\n",
              "      <td id=\"T_9c4ef_row4_col3\" class=\"data row4 col3\" >0.154670</td>\n",
              "      <td id=\"T_9c4ef_row4_col4\" class=\"data row4 col4\" >1.000000</td>\n",
              "      <td id=\"T_9c4ef_row4_col5\" class=\"data row4 col5\" >-0.409633</td>\n",
              "    </tr>\n",
              "    <tr>\n",
              "      <th id=\"T_9c4ef_level0_row5\" class=\"row_heading level0 row5\" >Cantidad</th>\n",
              "      <td id=\"T_9c4ef_row5_col0\" class=\"data row5 col0\" >0.060616</td>\n",
              "      <td id=\"T_9c4ef_row5_col1\" class=\"data row5 col1\" >0.028805</td>\n",
              "      <td id=\"T_9c4ef_row5_col2\" class=\"data row5 col2\" >0.833650</td>\n",
              "      <td id=\"T_9c4ef_row5_col3\" class=\"data row5 col3\" >-0.234709</td>\n",
              "      <td id=\"T_9c4ef_row5_col4\" class=\"data row5 col4\" >-0.409633</td>\n",
              "      <td id=\"T_9c4ef_row5_col5\" class=\"data row5 col5\" >1.000000</td>\n",
              "    </tr>\n",
              "  </tbody>\n",
              "</table>\n"
            ],
            "text/plain": [
              "<pandas.io.formats.style.Styler at 0x25affca2720>"
            ]
          },
          "execution_count": 23,
          "metadata": {},
          "output_type": "execute_result"
        }
      ],
      "source": [
        "# Convert the DataFrame to Pandas and filter numeric columns only\n",
        "numeric_df = movimientos.toPandas().select_dtypes(include=[np.number])\n",
        "\n",
        "# Calculate the correlation matrix using Pearson method\n",
        "corr = numeric_df.corr(method='pearson')\n",
        "\n",
        "# Apply the color gradient to visualize the correlation matrix\n",
        "corr.style.background_gradient(cmap='coolwarm')"
      ]
    },
    {
      "cell_type": "markdown",
      "metadata": {},
      "source": [
        "- Se observa que existe una positiva y fuerte relacion entre las vaiables Tipo de transaccion y cantidad, lo que refiere que dependiendo del tipo de transaccion que genere el movimiento de inventario en el Kardex, se cambiara la cantidad de dicha transaccion. En este paso, se consultara al negocio que tipos de datos se encuentran el la columna tipos, puesto que seria util para el analisis, que tipo de movimientos hace que varien el inventario y poder identificar algunas discrepancias o diferencias con el Kardex a tiempo para mejorar la calidad de la base datos.  "
      ]
    },
    {
      "cell_type": "code",
      "execution_count": 24,
      "metadata": {},
      "outputs": [
        {
          "data": {
            "image/png": "[encoded data removed]",
            "text/plain": [
              "<Figure size 800x800 with 1 Axes>"
            ]
          },
          "metadata": {},
          "output_type": "display_data"
        }
      ],
      "source": [
        "# Paso 1: Contar la frecuencia de cada valor en la columna 'TipoDeTransaccionID'\n",
        "frecuencia_transacciones = movimientos.groupBy('TipoTransaccionID').count()\n",
        "\n",
        "# Paso 2: Convertir el DataFrame de PySpark a pandas para poder graficar\n",
        "frecuencia_transacciones_pd = frecuencia_transacciones.toPandas()\n",
        "\n",
        "# Paso 3: Crear el gráfico de torta\n",
        "plt.figure(figsize=(8, 8))\n",
        "plt.pie(frecuencia_transacciones_pd['count'], labels=frecuencia_transacciones_pd['TipoTransaccionID'], autopct='%1.1f%%')\n",
        "plt.title('Diagrama Circular de Tipo de Transacción')\n",
        "plt.show()"
      ]
    },
    {
      "cell_type": "markdown",
      "metadata": {},
      "source": [
        "- De acuerdo al grafico anterior, el tipo de transaccion 10 es casi todo el movimiento del inventario, en este caso se consultada con el negocio por las definiciones de cada tipo de transaccion."
      ]
    },
    {
      "cell_type": "markdown",
      "metadata": {
        "id": "-axExLnhPn3g"
      },
      "source": [
        "## Análisis de calidad de datos"
      ]
    },
    {
      "cell_type": "markdown",
      "metadata": {},
      "source": [
        "### Completitud"
      ]
    },
    {
      "cell_type": "code",
      "execution_count": 28,
      "metadata": {},
      "outputs": [],
      "source": [
        "def contar_vacios(df):\n",
        "    resultados = []\n",
        "    for c in df.columns:\n",
        "        vacios = df.filter(df[c].isNull()).count()\n",
        "        if vacios!=0:\n",
        "            print('número de vacíos para columna '+c+': '+str( vacios ))\n",
        "            resultados.append(vacios)\n",
        "    return resultados\n",
        "\n",
        "def cardinalidad(df):\n",
        "    resultado = {}\n",
        "    for c in df.columns:\n",
        "        cardinalidad = df.select(col(c)).distinct().count()\n",
        "        if cardinalidad>=df.count()*0.5:\n",
        "            resultado[c] = cardinalidad\n",
        "    return resultado"
      ]
    },
    {
      "cell_type": "code",
      "execution_count": 35,
      "metadata": {},
      "outputs": [
        {
          "data": {
            "text/plain": [
              "[]"
            ]
          },
          "execution_count": 35,
          "metadata": {},
          "output_type": "execute_result"
        }
      ],
      "source": [
        "columnas_vacias_movimientos = contar_vacios(movimientos)\n",
        "columnas_vacias_movimientos\n"
      ]
    },
    {
      "cell_type": "markdown",
      "metadata": {},
      "source": [
        "- En este caso se revisan que las colunmnas con datos vacios, pero cabe aclarar que en algunas filas pueden existir datos vacios como en InvoiceID, ClienteID, ProveedorID y OrdenID, esto debido a que si se realiza una compra se tomara solo ProveedorID y OrdenID, las otras dos variables deben estar en 0, en cambio si se realiza una venta,  InvoiceID y ClienteID deben contener datos de dichas variables y las otras dos permanecer en 0 o vacias. En caso de que en alguna fila existan datos en las cuatro columnas se trataria de un problema de validez."
      ]
    },
    {
      "cell_type": "markdown",
      "metadata": {},
      "source": [
        "### Unicidad"
      ]
    },
    {
      "cell_type": "code",
      "execution_count": 33,
      "metadata": {},
      "outputs": [
        {
          "data": {
            "text/plain": [
              "{'TransaccionProductoID': 173659}"
            ]
          },
          "execution_count": 33,
          "metadata": {},
          "output_type": "execute_result"
        }
      ],
      "source": [
        "columnas_alta_cardinalidad_movimientos = cardinalidad(movimientos)\n",
        "columnas_alta_cardinalidad_movimientos"
      ]
    },
    {
      "cell_type": "markdown",
      "metadata": {},
      "source": [
        "- Aqui se revisa si existe alguna duplicidad en los datos, por lo que y como se evidencio en los pasos anteriores, TransaccionProductoID tiene valores repetidos, con esto se preguntara al negocio el significado de esta columna para entender si la duplicidad se puede deber a que este atributo debe ser concatenado con otro para que exista una llave unica y de esta manera corroborar la existencia o no de duplicados."
      ]
    },
    {
      "cell_type": "markdown",
      "metadata": {},
      "source": [
        "### Consistencia"
      ]
    },
    {
      "cell_type": "markdown",
      "metadata": {},
      "source": [
        "Como no existe otra tabla para validar consistencia entre fuentes, se usaran las siguientes combinanciones para determinar consistencia entre la misma tabla, pues cada columna que se menciona a continuacion se supone que siempre debe estar ligada a la otra, por ejemplo ClienteID siempre debe tener asociado InvoiceID"
      ]
    },
    {
      "cell_type": "code",
      "execution_count": 44,
      "metadata": {},
      "outputs": [
        {
          "name": "stdout",
          "output_type": "stream",
          "text": [
            "+---------------------+----------+-----------------+---------+---------+-----------+---------------+----------------+--------+\n",
            "|TransaccionProductoID|ProductoID|TipoTransaccionID|ClienteID|InvoiceID|ProveedorID|OrdenDeCompraID|FechaTransaccion|Cantidad|\n",
            "+---------------------+----------+-----------------+---------+---------+-----------+---------------+----------------+--------+\n",
            "+---------------------+----------+-----------------+---------+---------+-----------+---------------+----------------+--------+\n",
            "\n",
            "+---------------------+----------+-----------------+---------+---------+-----------+---------------+----------------+--------+\n",
            "|TransaccionProductoID|ProductoID|TipoTransaccionID|ClienteID|InvoiceID|ProveedorID|OrdenDeCompraID|FechaTransaccion|Cantidad|\n",
            "+---------------------+----------+-----------------+---------+---------+-----------+---------------+----------------+--------+\n",
            "+---------------------+----------+-----------------+---------+---------+-----------+---------------+----------------+--------+\n",
            "\n",
            "+---------------------+----------+-----------------+---------+---------+-----------+---------------+----------------+--------+\n",
            "|TransaccionProductoID|ProductoID|TipoTransaccionID|ClienteID|InvoiceID|ProveedorID|OrdenDeCompraID|FechaTransaccion|Cantidad|\n",
            "+---------------------+----------+-----------------+---------+---------+-----------+---------------+----------------+--------+\n",
            "+---------------------+----------+-----------------+---------+---------+-----------+---------------+----------------+--------+\n",
            "\n"
          ]
        }
      ],
      "source": [
        "\n",
        "\n",
        "# Verificar consistencia para ProductoID con TransaccionProductoID y TipoTransaccionID\n",
        "producto_transaccion_check = movimientos.filter(\n",
        "    (col(\"ProductoID\") != 0) & (col(\"ProductoID\") != '') &\n",
        "    ((col(\"TransaccionProductoID\") == 0) | (col(\"TransaccionProductoID\") == '') |\n",
        "     (col(\"TipoTransaccionID\") == 0) | (col(\"TipoTransaccionID\") == ''))\n",
        ")\n",
        "\n",
        "# Verificar consistencia para ClienteID con InvoiceID\n",
        "cliente_invoice_check = movimientos.filter(\n",
        "    (col(\"ClienteID\") != 0) & (col(\"ClienteID\") != '') &\n",
        "    ((col(\"InvoiceID\") == 0) | (col(\"InvoiceID\") == ''))\n",
        ")\n",
        "\n",
        "# Verificar consistencia para ProveedorID con OrdenDeCompraID\n",
        "proveedor_orden_check = movimientos.filter(\n",
        "    (col(\"ProveedorID\") != 0) & (col(\"ProveedorID\") != '') &\n",
        "    ((col(\"OrdenDeCompraID\") == 0) | (col(\"OrdenDeCompraID\") == ''))\n",
        ")\n",
        "\n",
        "# Mostrar los resultados\n",
        "producto_transaccion_check.show()\n",
        "cliente_invoice_check.show()\n",
        "proveedor_orden_check.show()"
      ]
    },
    {
      "cell_type": "markdown",
      "metadata": {},
      "source": [
        "- En este caso existe consistencia en la tabla de movimientos, puesto que las filas son consistentes con las columnas dadas por el negocio, por ejemplo ProveedorID siempre debe tener OrdenDeCompraID lo que significa que para las entradas de inventario, siempre debe existir una orden de compra asociada a un proveedor."
      ]
    },
    {
      "cell_type": "markdown",
      "metadata": {},
      "source": [
        "### Validez"
      ]
    },
    {
      "cell_type": "code",
      "execution_count": 36,
      "metadata": {},
      "outputs": [
        {
          "name": "stdout",
          "output_type": "stream",
          "text": [
            "+----------------+\n",
            "|FechaTransaccion|\n",
            "+----------------+\n",
            "|     Apr 25,2014|\n",
            "|     Dec 10,2015|\n",
            "|     Dec 04,2015|\n",
            "|     Dec 23,2015|\n",
            "|     Jul 27,2015|\n",
            "|     Sep 15,2014|\n",
            "|     Aug 04,2015|\n",
            "|     Feb 23,2015|\n",
            "|     May 01,2015|\n",
            "|     Jan 08,2016|\n",
            "|     Mar 26,2014|\n",
            "|     Jul 31,2015|\n",
            "|     Sep 02,2014|\n",
            "|     Mar 15,2016|\n",
            "|     May 28,2016|\n",
            "|     Sep 09,2015|\n",
            "|     May 23,2014|\n",
            "|     Aug 20,2014|\n",
            "|     Jan 21,2015|\n",
            "|     Dec 29,2015|\n",
            "+----------------+\n",
            "only showing top 20 rows\n",
            "\n"
          ]
        },
        {
          "data": {
            "text/plain": [
              "(64254, None)"
            ]
          },
          "execution_count": 36,
          "metadata": {},
          "output_type": "execute_result"
        }
      ],
      "source": [
        "noCumplenFormato = movimientos.filter(~movimientos[\"FechaTransaccion\"].rlike(regex))\n",
        "noCumplenFormato.count(), noCumplenFormato.select(col(\"FechaTransaccion\")).show()"
      ]
    },
    {
      "cell_type": "markdown",
      "metadata": {},
      "source": [
        "- En este paso, se identifica que la columna _FechaTransaccion_ no presenta validez, puesto que algunas filas no cuenta con el formato definido por el negocio. En este caso, mediante codigo se podria transformar el formato, de estas celdas, al indicado por el negocio "
      ]
    },
    {
      "cell_type": "markdown",
      "metadata": {
        "id": "YfSMeXZQPn3g"
      },
      "source": [
        "## Conclusiones"
      ]
    },
    {
      "cell_type": "markdown",
      "metadata": {},
      "source": [
        "### Concluciones generales"
      ]
    },
    {
      "cell_type": "markdown",
      "metadata": {},
      "source": [
        "- Los resultados indican que se podria determinar con certeza las dimensiones, caracteristicas y tamaño de la tabla suministrada. Por ende, dichos tableros cumplen con el control propuesto hacia el negocio, con el fin de identificar la calidad de los datos y si cumplen con las reglas dadas por el negocio. \n",
        "\n",
        "- Una fila promedio de movimientos representa el transito de un producto en el kardex de la empresa, de forma que se identifica si existe una compra o ingreso de inventario, o si existe una venta o salida del inventario.\n",
        "\n",
        "- Los movimientos de proveedores tienen cantidades mas alta que las ventas (en valor absoluto), debido a que se preve que se compre al por mayor para tener ventaja de costes de transporte y de proveedores, y que las ventas sean en menor cantidad por transaccion."
      ]
    },
    {
      "cell_type": "markdown",
      "metadata": {},
      "source": [
        "### Concluciones de reglas de negocio\n",
        "\n",
        "- La cantidad máxima, tanto agrupando por TransaccionProductoID como sin agrupar, no coincide con lo indicado por el negocio. Se procederá a notificar este hallazgo.\n",
        "\n",
        "- Es necesario consultar al negocio sobre el periodo exacto de la base de datos. Aunque la fecha mínima registrada es de 2013, corresponde al último día del año, por lo que se solicitará una aclaración.\n",
        "\n",
        "- Se detectó que los movimientos están relacionados a 197,136 clientes en lugar de los 228,265 esperados. Esto sugiere una posible pérdida de datos, lo que será comunicado al negocio.\n",
        "\n",
        "- De las 204,292 filas totales, solo 140,038 cumplen con el formato de fecha establecido por el negocio.\n",
        "\n",
        "- Solo se muestran 3 proveedores en la tabla, mientras que el negocio había indicado la existencia de 13 proveedores. Esto será notificado, ya que podría tratarse de una omisión o pérdida de datos."
      ]
    },
    {
      "cell_type": "markdown",
      "metadata": {},
      "source": [
        "### Concluciones de calidad de los datos"
      ]
    },
    {
      "cell_type": "markdown",
      "metadata": {},
      "source": [
        "- No existen columnas con datos vacíos, puesto que algunas columnas son relacionadas entre si como InvoiceID con ClienteID, ProveedorID con OrdenID. Si se trata de una compra, ProveedorID y OrdenID deben tener valores, mientras que InvoiceID y ClienteID deben estar en 0 o vacíos. Para una venta, es al revés, InvoiceID y ClienteID deben contener datos, mientras que las otras dos columnas estarán vacías. Si alguna fila presenta datos en las cuatro columnas, esto indicaría un problema de validez.\n",
        "\n",
        "- Existen valores duplicados en la columna TransaccionProductoID.\n",
        "\n",
        "- La tabla de movimientos es consistente con las reglas establecidas por el negocio. Por ejemplo, cada ProveedorID tiene un OrdenDeCompraID asociado, lo que indica que las entradas de inventario siempre están ligadas a una orden de compra de un proveedor.\n",
        "\n",
        "- Se detectó que la columna FechaTransaccion presenta problemas de validez, ya que algunas filas no cumplen con el formato definido por el negocio. Esto podría corregirse mediante código que transforme las fechas al formato correcto."
      ]
    },
    {
      "cell_type": "markdown",
      "metadata": {},
      "source": [
        "### Comentarios y preguntas hacia el negocio"
      ]
    },
    {
      "cell_type": "markdown",
      "metadata": {},
      "source": [
        "- Suministrar una base donde se identifique productos deberian ser gravados con el 10% o 15%, cuales serian exentos y cuales excluidos de IVA. Con esto se lograria identificar si en alguna factura se aplico erradamente el calculo de este impuesto, asi se evitarian problemas de multas y taxativos.\n",
        "\n",
        "- Brindar base donde se evidencien los saldos inciales de los productos para crear un tipo de Kardex y que se contrastado con los inventarios fisicos de la compañia en tiempo real.\n",
        "\n",
        "- Se podria establecer con el kardex propuesto los dias o periodos de rotacion de inventario, esto ayudaria a establecer que productos son los que mas rotan, es decir cuales productos tienen una mayor frecuencia de venta y por lo tanto de compra. Tambien se identificaria el tiempo en el que el inventario permanece en almacenado en la empresa, puesto que si estos estuvieran almacenados por un tiempo prolongado se podria determinar si existe deterioro de inventario.\n",
        "\n",
        "- Indicar los metodos de transporte del inventario tanto para compras como para ventas, para entender y analizar los costos asociados a la compra y venta de mercancias.\n",
        "\n",
        "Para tener un entendimiento mas acorde a esta base, por favor responder las siguientes preguntas:\n",
        "\n",
        "- ¿A que se refiere cantidad máxima de productos movidos? (La cantidad indicada no corresponde con los datos enviados)\n",
        "\n",
        "- ¿Que definicion tiene cada ID de la columna Tipo de transaccionID?\n",
        "\n",
        "- ¿la columna TransaccionProductoID presenta valores duplicados, esto es correcto?. En este caso se podria concatenar esta columna con alguna o algunas otras para obtener una identificacion unica y corroborar la existencia de filas duplicadas. \n",
        "\n",
        "- La base es desde el 2013, pero especificamente ¿desde que periodo es la base de datos movimientosCopia?.\n",
        "\n",
        "- ¿Con cuantos proveedores tienen contratos activos?\n",
        "\n",
        "- ¿Que tipo de negociacion tienen con estos proveedores? (Compras a credito a 30-60-90 días, envios internacionales/nacionales, tipos de envio)\n",
        "\n",
        "- ¿Con que metodo valoran el inventario? UEPS (ultimas en entrar, primeras en salir), PEPS (Primeras en entrar primeras en salir) o promedio ponderado.\n",
        "\n",
        "- ¿Frecuencia de conteo de unidades fisicas? Segun la politica de la empresa cada cuanto realizan control de inventario.\n",
        "\n",
        "- ¿Cuantos productos distinto ha tenido y tiene la compañia?\n",
        "\n",
        "- ¿Existe alguna segmentacion de los productos en el kardex o inventario? (Como productos de tecnologia, para el hogar o de atraccion turistica)\n"
      ]
    },
    {
      "cell_type": "markdown",
      "metadata": {
        "id": "xsIHBKMTPn3g"
      },
      "source": [
        "## Cierre\n",
        "\n",
        "Completado este tutorial ya sabrá la forma básica de utilizar PySpark. Ya sabe cómo crear DataFrames a partir de datos existentes, cómo seleccionar columnas o filas de este Dataframe, cómo rellenar espacios vacíos, cómo aplicar sus propias funciones a estos datos y los más importante, cómo utilizarlo para realizar una fase de entendimiento de datos.\n",
        "\n",
        "Las tablas detallesOrdenesCopia y OrdenesCopia estaran disponibles en caso de que desee repetir este tutorial cuantas veces considere necesario"
      ]
    },
    {
      "cell_type": "markdown",
      "metadata": {},
      "source": []
    },
    {
      "cell_type": "markdown",
      "metadata": {
        "id": "GV2OfMqRPn3g"
      },
      "source": [
        "## 7. Información adicional\n",
        "\n",
        "Si quiere conocer más sobre PySpark la guía más detallada es la documentación oficial, la cual puede encontrar acá: https://spark.apache.org/docs/latest/api/python/index.html <br>\n",
        "Para ir directamente a la documentación de PySpark SQL, donde está la información sobre los DataFrames: https://spark.apache.org/docs/latest/api/python/pyspark.sql.html <br>\n",
        "\n",
        "El Capítulo 2 del libro <i>Learn PySpark : Build Python-based Machine Learning and Deep Learning Models, New York: Apress. 2019</i> de Pramod Singh contiene muchos ejemplos útiles, puede encontrarlo en la biblioteca virtual de la universidad."
      ]
    },
    {
      "cell_type": "markdown",
      "metadata": {
        "id": "iKeHXm96Pn3h"
      },
      "source": [
        "## 8. Preguntas frecuentes\n",
        "\n",
        "1. Si en el cálculo de los histogramas o en una de sus UDF obtiene el error: TypeError: unsupported operand type(s) for *: 'decimal.Decimal' and 'float' verifique los tipos de las columnas que está intentando operar y, si alguna es double, conviértala a float.\n",
        "\n",
        "2. En algunos casos, encontrará también información sobre <i>Pandas_UDF</i>. <i>Pandas_UDF</i> son también User Defined Functions, por lo general los Pandas UDF son más eficientes que los UDF tradicionales, sin embargo, hay un bug con la versión de PySpark y de Java que se está usando, lo que previene la utilización de Pandas_UDF.\n",
        "\n",
        "3. Si al ejecutar la configuración de la sesión Spark le aparece el error <i>Cannot run multiple SparkContexts at once; existing SparkContext(app=pyspark-shell, master=local[*])</i> Reinicie el kernel y vuelva a ejecutar\n"
      ]
    },
    {
      "cell_type": "code",
      "execution_count": null,
      "metadata": {
        "id": "0JxEJmKnPn3h"
      },
      "outputs": [],
      "source": []
    }
  ],
  "metadata": {
    "colab": {
      "collapsed_sections": [
        "qxN27II0Pn3T",
        "GnAScmClPn3W",
        "UuZspay3Pn3Z",
        "ZHLs1H0hPn3b",
        "QgkzeSm4Pn3b",
        "LZyQcqCvPn3c",
        "eDf54JyKPn3d",
        "ltTluhtIPn3e",
        "IPhtXcD1Pn3g",
        "-axExLnhPn3g",
        "YfSMeXZQPn3g"
      ],
      "name": "MISW-ETL-Entendimiento.ipynb",
      "provenance": []
    },
    "kernelspec": {
      "display_name": "Python 3",
      "language": "python",
      "name": "python3"
    },
    "language_info": {
      "codemirror_mode": {
        "name": "ipython",
        "version": 3
      },
      "file_extension": ".py",
      "mimetype": "text/x-python",
      "name": "python",
      "nbconvert_exporter": "python",
      "pygments_lexer": "ipython3",
      "version": "3.12.4"
    },
    "toc-autonumbering": true,
    "toc-showcode": true
  },
  "nbformat": 4,
  "nbformat_minor": 0
}
